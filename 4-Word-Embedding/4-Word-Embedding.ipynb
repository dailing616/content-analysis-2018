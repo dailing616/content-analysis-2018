{
 "cells": [
  {
   "cell_type": "markdown",
   "metadata": {},
   "source": [
    "# Week 4 - Word Embeddings\n",
    "\n",
    "This week, we build on last week's topic modeling techniques by taking a text corpus we have developed, specifying an underlying number of dimensions, and training a model with a neural network auto-encoder (one of Google's word2vec  algorithms) that best describes corpus words in their local linguistic contexts, and exploring their locations in the resulting space to learn about the discursive culture that produced them. Documents here are represented as densely indexed locations in dimensions, rather than sparse mixtures of topics (as in LDA topic modeling), so that distances between those documents (and words) are consistently superior, though they require the full vector of dimension loadings (rather than just a few selected topic loadings) to describe. We will explore these spaces to understand complex, semantic relationships between words, index documents with descriptive words, identify the likelihood that a given document would have been produced by a given vector model, and explore how semantic categories can help us understand the cultures that produced them.\n",
    "\n",
    "For this notebook we will be using the following packages"
   ]
  },
  {
   "cell_type": "code",
   "execution_count": 1,
   "metadata": {},
   "outputs": [],
   "source": [
    "#Special module written for this class\n",
    "#This provides access to data and to helper functions from previous weeks\n",
    "#Make sure you update it before starting this notebook\n",
    "import lucem_illud #pip install -U git+git://github.com/Computational-Content-Analysis-2018/lucem_illud.git\n",
    "\n",
    "#All these packages need to be installed from pip\n",
    "import gensim#For word2vec, etc\n",
    "import requests #For downloading our datasets\n",
    "import nltk #For stop words and stemmers\n",
    "import numpy as np #For arrays\n",
    "import pandas #Gives us DataFrames\n",
    "import matplotlib.pyplot as plt #For graphics\n",
    "import seaborn #Makes the graphics look nicer\n",
    "import sklearn.metrics.pairwise #For cosine similarity\n",
    "import sklearn.manifold #For T-SNE\n",
    "import sklearn.decomposition #For PCA\n",
    "\n",
    "#gensim uses a couple of deprecated features\n",
    "#we can't do anything about them so lets ignore them \n",
    "import warnings\n",
    "warnings.filterwarnings(\"ignore\", category=DeprecationWarning) \n",
    "\n",
    "#This 'magic' command makes the plots work better\n",
    "#in the notebook, don't use it outside of a notebook.\n",
    "#Also you can ignore the warning\n",
    "%matplotlib inline\n",
    "\n",
    "import os #For looking through files\n",
    "import os.path #For managing file paths"
   ]
  },
  {
   "cell_type": "markdown",
   "metadata": {},
   "source": [
    "# Getting our corpora\n",
    "\n",
    "Instead of downloading our corpora, we have download them in advance; a subset of the [senate press releases](https://github.com/lintool/GrimmerSenatePressReleases) are in `grimmerPressReleases`. We will load them into a DataFrame, using a function from a couple weeks ago `loadTextDirectory`:"
   ]
  },
  {
   "cell_type": "code",
   "execution_count": 21,
   "metadata": {},
   "outputs": [
    {
     "data": {
      "text/html": [
       "<div>\n",
       "<style scoped>\n",
       "    .dataframe tbody tr th:only-of-type {\n",
       "        vertical-align: middle;\n",
       "    }\n",
       "\n",
       "    .dataframe tbody tr th {\n",
       "        vertical-align: top;\n",
       "    }\n",
       "\n",
       "    .dataframe thead th {\n",
       "        text-align: right;\n",
       "    }\n",
       "</style>\n",
       "<table border=\"1\" class=\"dataframe\">\n",
       "  <thead>\n",
       "    <tr style=\"text-align: right;\">\n",
       "      <th></th>\n",
       "      <th>text</th>\n",
       "    </tr>\n",
       "  </thead>\n",
       "  <tbody>\n",
       "    <tr>\n",
       "      <th>25Jan2007Kennedy4.txt</th>\n",
       "      <td>FOR IMMEDIATE RELEASE    FACT SHEET I...</td>\n",
       "    </tr>\n",
       "    <tr>\n",
       "      <th>20Oct2005Kennedy14.txt</th>\n",
       "      <td>FOR IMMEDIATE RELEASE     As this bil...</td>\n",
       "    </tr>\n",
       "    <tr>\n",
       "      <th>03Mar2007Kennedy7.txt</th>\n",
       "      <td>FOR IMMEDIATE RELEASE     Ann Coulter...</td>\n",
       "    </tr>\n",
       "    <tr>\n",
       "      <th>10Jul2007Kennedy8.txt</th>\n",
       "      <td>FOR IMMEDIATE RELEASE  Thank you all ...</td>\n",
       "    </tr>\n",
       "    <tr>\n",
       "      <th>20Jul2007Kennedy14.txt</th>\n",
       "      <td>FOR IMMEDIATE RELEASE  WASHINGTON  DC...</td>\n",
       "    </tr>\n",
       "  </tbody>\n",
       "</table>\n",
       "</div>"
      ],
      "text/plain": [
       "                                                                     text\n",
       "25Jan2007Kennedy4.txt            FOR IMMEDIATE RELEASE    FACT SHEET I...\n",
       "20Oct2005Kennedy14.txt           FOR IMMEDIATE RELEASE     As this bil...\n",
       "03Mar2007Kennedy7.txt            FOR IMMEDIATE RELEASE     Ann Coulter...\n",
       "10Jul2007Kennedy8.txt            FOR IMMEDIATE RELEASE  Thank you all ...\n",
       "20Jul2007Kennedy14.txt           FOR IMMEDIATE RELEASE  WASHINGTON  DC..."
      ]
     },
     "execution_count": 21,
     "metadata": {},
     "output_type": "execute_result"
    }
   ],
   "source": [
    "kennedyDF = lucem_illud.loadTextDirectory('../data/grimmerPressReleases/Kennedy/')\n",
    "kennedyDF[:5]"
   ]
  },
  {
   "cell_type": "markdown",
   "metadata": {},
   "source": [
    "This gets us one Senator's data, but with no metadata, we can add a category column with a simple command:"
   ]
  },
  {
   "cell_type": "code",
   "execution_count": 22,
   "metadata": {},
   "outputs": [
    {
     "data": {
      "text/html": [
       "<div>\n",
       "<style scoped>\n",
       "    .dataframe tbody tr th:only-of-type {\n",
       "        vertical-align: middle;\n",
       "    }\n",
       "\n",
       "    .dataframe tbody tr th {\n",
       "        vertical-align: top;\n",
       "    }\n",
       "\n",
       "    .dataframe thead th {\n",
       "        text-align: right;\n",
       "    }\n",
       "</style>\n",
       "<table border=\"1\" class=\"dataframe\">\n",
       "  <thead>\n",
       "    <tr style=\"text-align: right;\">\n",
       "      <th></th>\n",
       "      <th>text</th>\n",
       "      <th>category</th>\n",
       "    </tr>\n",
       "  </thead>\n",
       "  <tbody>\n",
       "    <tr>\n",
       "      <th>25Jan2007Kennedy4.txt</th>\n",
       "      <td>FOR IMMEDIATE RELEASE    FACT SHEET I...</td>\n",
       "      <td>Kennedy</td>\n",
       "    </tr>\n",
       "    <tr>\n",
       "      <th>20Oct2005Kennedy14.txt</th>\n",
       "      <td>FOR IMMEDIATE RELEASE     As this bil...</td>\n",
       "      <td>Kennedy</td>\n",
       "    </tr>\n",
       "    <tr>\n",
       "      <th>03Mar2007Kennedy7.txt</th>\n",
       "      <td>FOR IMMEDIATE RELEASE     Ann Coulter...</td>\n",
       "      <td>Kennedy</td>\n",
       "    </tr>\n",
       "    <tr>\n",
       "      <th>10Jul2007Kennedy8.txt</th>\n",
       "      <td>FOR IMMEDIATE RELEASE  Thank you all ...</td>\n",
       "      <td>Kennedy</td>\n",
       "    </tr>\n",
       "    <tr>\n",
       "      <th>20Jul2007Kennedy14.txt</th>\n",
       "      <td>FOR IMMEDIATE RELEASE  WASHINGTON  DC...</td>\n",
       "      <td>Kennedy</td>\n",
       "    </tr>\n",
       "  </tbody>\n",
       "</table>\n",
       "</div>"
      ],
      "text/plain": [
       "                                                                     text  \\\n",
       "25Jan2007Kennedy4.txt            FOR IMMEDIATE RELEASE    FACT SHEET I...   \n",
       "20Oct2005Kennedy14.txt           FOR IMMEDIATE RELEASE     As this bil...   \n",
       "03Mar2007Kennedy7.txt            FOR IMMEDIATE RELEASE     Ann Coulter...   \n",
       "10Jul2007Kennedy8.txt            FOR IMMEDIATE RELEASE  Thank you all ...   \n",
       "20Jul2007Kennedy14.txt           FOR IMMEDIATE RELEASE  WASHINGTON  DC...   \n",
       "\n",
       "                       category  \n",
       "25Jan2007Kennedy4.txt   Kennedy  \n",
       "20Oct2005Kennedy14.txt  Kennedy  \n",
       "03Mar2007Kennedy7.txt   Kennedy  \n",
       "10Jul2007Kennedy8.txt   Kennedy  \n",
       "20Jul2007Kennedy14.txt  Kennedy  "
      ]
     },
     "execution_count": 22,
     "metadata": {},
     "output_type": "execute_result"
    }
   ],
   "source": [
    "kennedyDF['category'] = 'Kennedy'\n",
    "kennedyDF[:5]"
   ]
  },
  {
   "cell_type": "markdown",
   "metadata": {},
   "source": [
    "We also will be wanting to load all the senators so we will need to loop over all the directories"
   ]
  },
  {
   "cell_type": "code",
   "execution_count": 23,
   "metadata": {},
   "outputs": [
    {
     "data": {
      "text/html": [
       "<div>\n",
       "<style scoped>\n",
       "    .dataframe tbody tr th:only-of-type {\n",
       "        vertical-align: middle;\n",
       "    }\n",
       "\n",
       "    .dataframe tbody tr th {\n",
       "        vertical-align: top;\n",
       "    }\n",
       "\n",
       "    .dataframe thead th {\n",
       "        text-align: right;\n",
       "    }\n",
       "</style>\n",
       "<table border=\"1\" class=\"dataframe\">\n",
       "  <thead>\n",
       "    <tr style=\"text-align: right;\">\n",
       "      <th></th>\n",
       "      <th>text</th>\n",
       "      <th>category</th>\n",
       "    </tr>\n",
       "  </thead>\n",
       "  <tbody>\n",
       "    <tr>\n",
       "      <th>19Mar2007Kyl117.txt</th>\n",
       "      <td>SECURITY ON STRIKE\\n  The U.S. Senate recently...</td>\n",
       "      <td>Kyl</td>\n",
       "    </tr>\n",
       "    <tr>\n",
       "      <th>10Nov2005Kyl304.txt</th>\n",
       "      <td>SEN. KYL AMENDMENT ON HUMVEE UPGRADE PASSES SE...</td>\n",
       "      <td>Kyl</td>\n",
       "    </tr>\n",
       "    <tr>\n",
       "      <th>6Dec2007Kyl46.txt</th>\n",
       "      <td>SEN. KYL ELECTED ASSISTANT SENATE REPUBLICAN L...</td>\n",
       "      <td>Kyl</td>\n",
       "    </tr>\n",
       "    <tr>\n",
       "      <th>29Aug2005Kyl347.txt</th>\n",
       "      <td>SEN. KYL: GOOD NEWS AND BAD NEWS FOR BACK TO S...</td>\n",
       "      <td>Kyl</td>\n",
       "    </tr>\n",
       "    <tr>\n",
       "      <th>11Sep2006Kyl161.txt</th>\n",
       "      <td>SENATE COMMEMORATES FIVE YEAR MARK OF 9/11 ATT...</td>\n",
       "      <td>Kyl</td>\n",
       "    </tr>\n",
       "  </tbody>\n",
       "</table>\n",
       "</div>"
      ],
      "text/plain": [
       "                                                                  text  \\\n",
       "19Mar2007Kyl117.txt  SECURITY ON STRIKE\\n  The U.S. Senate recently...   \n",
       "10Nov2005Kyl304.txt  SEN. KYL AMENDMENT ON HUMVEE UPGRADE PASSES SE...   \n",
       "6Dec2007Kyl46.txt    SEN. KYL ELECTED ASSISTANT SENATE REPUBLICAN L...   \n",
       "29Aug2005Kyl347.txt  SEN. KYL: GOOD NEWS AND BAD NEWS FOR BACK TO S...   \n",
       "11Sep2006Kyl161.txt  SENATE COMMEMORATES FIVE YEAR MARK OF 9/11 ATT...   \n",
       "\n",
       "                    category  \n",
       "19Mar2007Kyl117.txt      Kyl  \n",
       "10Nov2005Kyl304.txt      Kyl  \n",
       "6Dec2007Kyl46.txt        Kyl  \n",
       "29Aug2005Kyl347.txt      Kyl  \n",
       "11Sep2006Kyl161.txt      Kyl  "
      ]
     },
     "execution_count": 23,
     "metadata": {},
     "output_type": "execute_result"
    }
   ],
   "source": [
    "dataDir = '../data/grimmerPressReleases'\n",
    "\n",
    "senReleasesDF = pandas.DataFrame()\n",
    "\n",
    "for senatorDir in (file for file in os.scandir(dataDir) if not file.name.startswith('.') and file.is_dir()):\n",
    "    senDF = lucem_illud.loadTextDirectory(senatorDir.path)\n",
    "    senDF['category'] = senatorDir.name\n",
    "    senReleasesDF = senReleasesDF.append(senDF, ignore_index = False)\n",
    "\n",
    "senReleasesDF[:5]"
   ]
  },
  {
   "cell_type": "markdown",
   "metadata": {},
   "source": [
    "We also want to remove stop words and stem. Tokenizing requires two steps. Word2Vec needs to retain the sentence structure so as to capture a \"continuous bag of words (CBOW)\" and all of the skip-grams within a word window. The algorithm tries to preserve the distances induced by one of these two local structures. This is very different from clustering and LDA topic modeling which extract unordered words alone. As such, tokenizing is slightly more involved, but we can still use `lucem_illud`."
   ]
  },
  {
   "cell_type": "code",
   "execution_count": 24,
   "metadata": {},
   "outputs": [
    {
     "data": {
      "text/html": [
       "<div>\n",
       "<style scoped>\n",
       "    .dataframe tbody tr th:only-of-type {\n",
       "        vertical-align: middle;\n",
       "    }\n",
       "\n",
       "    .dataframe tbody tr th {\n",
       "        vertical-align: top;\n",
       "    }\n",
       "\n",
       "    .dataframe thead th {\n",
       "        text-align: right;\n",
       "    }\n",
       "</style>\n",
       "<table border=\"1\" class=\"dataframe\">\n",
       "  <thead>\n",
       "    <tr style=\"text-align: right;\">\n",
       "      <th></th>\n",
       "      <th>text</th>\n",
       "      <th>category</th>\n",
       "      <th>tokenized_sents</th>\n",
       "      <th>normalized_sents</th>\n",
       "    </tr>\n",
       "  </thead>\n",
       "  <tbody>\n",
       "    <tr>\n",
       "      <th>19Mar2007Kyl117.txt</th>\n",
       "      <td>SECURITY ON STRIKE\\n  The U.S. Senate recently...</td>\n",
       "      <td>Kyl</td>\n",
       "      <td>[[SECURITY, ON, STRIKE, The, U.S., Senate, rec...</td>\n",
       "      <td>[[security, strike, senate, recently, approved...</td>\n",
       "    </tr>\n",
       "    <tr>\n",
       "      <th>10Nov2005Kyl304.txt</th>\n",
       "      <td>SEN. KYL AMENDMENT ON HUMVEE UPGRADE PASSES SE...</td>\n",
       "      <td>Kyl</td>\n",
       "      <td>[[SEN., KYL, AMENDMENT, ON, HUMVEE, UPGRADE, P...</td>\n",
       "      <td>[[kyl, amendment, humvee, upgrade, passes, sen...</td>\n",
       "    </tr>\n",
       "    <tr>\n",
       "      <th>6Dec2007Kyl46.txt</th>\n",
       "      <td>SEN. KYL ELECTED ASSISTANT SENATE REPUBLICAN L...</td>\n",
       "      <td>Kyl</td>\n",
       "      <td>[[SEN., KYL, ELECTED, ASSISTANT, SENATE, REPUB...</td>\n",
       "      <td>[[kyl, elected, assistant, senate, republican,...</td>\n",
       "    </tr>\n",
       "    <tr>\n",
       "      <th>29Aug2005Kyl347.txt</th>\n",
       "      <td>SEN. KYL: GOOD NEWS AND BAD NEWS FOR BACK TO S...</td>\n",
       "      <td>Kyl</td>\n",
       "      <td>[[SEN., KYL, :, GOOD, NEWS, AND, BAD, NEWS, FO...</td>\n",
       "      <td>[[kyl, good, news, bad, news, back, school, st...</td>\n",
       "    </tr>\n",
       "    <tr>\n",
       "      <th>11Sep2006Kyl161.txt</th>\n",
       "      <td>SENATE COMMEMORATES FIVE YEAR MARK OF 9/11 ATT...</td>\n",
       "      <td>Kyl</td>\n",
       "      <td>[[SENATE, COMMEMORATES, FIVE, YEAR, MARK, OF, ...</td>\n",
       "      <td>[[senate, commemorates, five, year, mark, atta...</td>\n",
       "    </tr>\n",
       "  </tbody>\n",
       "</table>\n",
       "</div>"
      ],
      "text/plain": [
       "                                                                  text  \\\n",
       "19Mar2007Kyl117.txt  SECURITY ON STRIKE\\n  The U.S. Senate recently...   \n",
       "10Nov2005Kyl304.txt  SEN. KYL AMENDMENT ON HUMVEE UPGRADE PASSES SE...   \n",
       "6Dec2007Kyl46.txt    SEN. KYL ELECTED ASSISTANT SENATE REPUBLICAN L...   \n",
       "29Aug2005Kyl347.txt  SEN. KYL: GOOD NEWS AND BAD NEWS FOR BACK TO S...   \n",
       "11Sep2006Kyl161.txt  SENATE COMMEMORATES FIVE YEAR MARK OF 9/11 ATT...   \n",
       "\n",
       "                    category  \\\n",
       "19Mar2007Kyl117.txt      Kyl   \n",
       "10Nov2005Kyl304.txt      Kyl   \n",
       "6Dec2007Kyl46.txt        Kyl   \n",
       "29Aug2005Kyl347.txt      Kyl   \n",
       "11Sep2006Kyl161.txt      Kyl   \n",
       "\n",
       "                                                       tokenized_sents  \\\n",
       "19Mar2007Kyl117.txt  [[SECURITY, ON, STRIKE, The, U.S., Senate, rec...   \n",
       "10Nov2005Kyl304.txt  [[SEN., KYL, AMENDMENT, ON, HUMVEE, UPGRADE, P...   \n",
       "6Dec2007Kyl46.txt    [[SEN., KYL, ELECTED, ASSISTANT, SENATE, REPUB...   \n",
       "29Aug2005Kyl347.txt  [[SEN., KYL, :, GOOD, NEWS, AND, BAD, NEWS, FO...   \n",
       "11Sep2006Kyl161.txt  [[SENATE, COMMEMORATES, FIVE, YEAR, MARK, OF, ...   \n",
       "\n",
       "                                                      normalized_sents  \n",
       "19Mar2007Kyl117.txt  [[security, strike, senate, recently, approved...  \n",
       "10Nov2005Kyl304.txt  [[kyl, amendment, humvee, upgrade, passes, sen...  \n",
       "6Dec2007Kyl46.txt    [[kyl, elected, assistant, senate, republican,...  \n",
       "29Aug2005Kyl347.txt  [[kyl, good, news, bad, news, back, school, st...  \n",
       "11Sep2006Kyl161.txt  [[senate, commemorates, five, year, mark, atta...  "
      ]
     },
     "execution_count": 24,
     "metadata": {},
     "output_type": "execute_result"
    }
   ],
   "source": [
    "#Apply our functions, notice each row is a list of lists now\n",
    "senReleasesDF['tokenized_sents'] = senReleasesDF['text'].apply(lambda x: \n",
    "                                                               [nltk.word_tokenize(s) for s in nltk.sent_tokenize(x)])\n",
    "senReleasesDF['normalized_sents'] = senReleasesDF['tokenized_sents'].apply(lambda x: \n",
    "                                                                           [lucem_illud.normalizeTokens(s, \n",
    "                                                                                           stopwordLst = lucem_illud.stop_words_basic, \n",
    "                                                                                           stemmer = None) \n",
    "                                                                            for s in x])\n",
    "\n",
    "senReleasesDF[:5]"
   ]
  },
  {
   "cell_type": "markdown",
   "metadata": {},
   "source": [
    "# Word2Vec\n",
    "\n",
    "We will be using the gensim implementation of [Word2Vec](https://radimrehurek.com/gensim/models/word2vec.html#gensim.models.word2vec.Word2Vec).\n",
    "\n",
    "To load our data, we give all the sentences to the trainer. We just need to add the words as a list of sentences:"
   ]
  },
  {
   "cell_type": "code",
   "execution_count": 25,
   "metadata": {},
   "outputs": [],
   "source": [
    "senReleasesW2V = gensim.models.word2vec.Word2Vec(senReleasesDF['normalized_sents'].sum())"
   ]
  },
  {
   "cell_type": "markdown",
   "metadata": {},
   "source": [
    "Inside the word2vec object, the words each have a vector. To access the vector directly, use the square braces (`__getitem__`) method:"
   ]
  },
  {
   "cell_type": "code",
   "execution_count": 26,
   "metadata": {},
   "outputs": [
    {
     "name": "stdout",
     "output_type": "stream",
     "text": [
      "A 100 dimesional vector:\n"
     ]
    },
    {
     "data": {
      "text/plain": [
       "array([-1.15627408e+00,  7.58639514e-01, -7.15068102e-01,  8.24473798e-01,\n",
       "       -1.03685848e-01, -1.62126219e+00, -1.89291883e+00,  7.09738851e-01,\n",
       "        3.78061354e-01, -8.34736347e-01, -4.59991425e-01,  6.38371527e-01,\n",
       "       -1.02509654e+00,  1.28709316e+00,  1.30273366e+00, -9.51807141e-01,\n",
       "        2.51745790e-01, -2.14210272e+00, -1.20495021e-01, -7.66310453e-01,\n",
       "        1.37348759e+00,  2.12413120e+00,  1.11964560e+00, -3.48195821e-01,\n",
       "        1.23590350e+00, -3.07787609e+00, -1.81048012e+00, -5.78642964e-01,\n",
       "        1.02727458e-01,  7.89349854e-01, -5.54192007e-01, -2.29812805e-02,\n",
       "       -8.22023869e-01,  8.34020853e-01, -1.04401007e-01, -2.18717003e+00,\n",
       "        4.05011594e-01, -3.64446267e-02, -1.29519486e+00, -2.06349087e+00,\n",
       "        2.86622620e+00, -2.32021451e-01,  2.05259895e+00,  1.01037696e-01,\n",
       "       -8.31789494e-01, -1.38403678e+00,  7.31691062e-01,  1.98710060e+00,\n",
       "        2.32125688e+00, -6.39449894e-01, -2.02226520e+00, -1.03116500e+00,\n",
       "       -2.37646651e+00,  2.60435724e+00,  8.54167819e-01,  2.33827639e+00,\n",
       "        1.35858035e+00,  1.75107646e+00,  9.57832098e-01,  1.34764612e-01,\n",
       "       -2.39519835e+00, -1.03640012e-01, -1.09415293e+00, -2.24523470e-02,\n",
       "       -2.56394029e-01,  1.22161224e-01,  2.71130493e-03,  6.14960253e-01,\n",
       "       -1.79024982e+00,  2.80245948e+00, -7.87784994e-01,  2.95908302e-01,\n",
       "       -5.95995188e-01, -4.54668820e-01,  2.79629529e-01, -5.94018519e-01,\n",
       "        2.08621979e+00, -9.65052307e-01,  2.01871467e+00, -8.38227391e-01,\n",
       "        2.63009691e+00,  1.57523382e+00, -3.63026619e-01, -2.30127573e+00,\n",
       "       -7.35915840e-01,  1.54486656e+00,  1.36367691e+00,  1.59496105e+00,\n",
       "       -9.97310519e-01, -2.34259948e-01, -1.16928229e-02, -5.82349718e-01,\n",
       "        1.55654967e+00, -2.63796711e+00, -8.18988562e-01,  1.18150365e+00,\n",
       "       -8.29476770e-03,  9.68955755e-01, -2.19093728e+00, -1.23317635e+00],\n",
       "      dtype=float32)"
      ]
     },
     "execution_count": 26,
     "metadata": {},
     "output_type": "execute_result"
    }
   ],
   "source": [
    "print(\"A {} dimesional vector:\".format(senReleasesW2V['president'].shape[0]))\n",
    "senReleasesW2V['president']"
   ]
  },
  {
   "cell_type": "markdown",
   "metadata": {},
   "source": [
    "If you want the full matrix, `syn0` stores all the vectors:"
   ]
  },
  {
   "cell_type": "code",
   "execution_count": 27,
   "metadata": {},
   "outputs": [
    {
     "data": {
      "text/plain": [
       "array([[-9.4120795e-01, -1.8400685e+00, -1.3218987e+00, ...,\n",
       "         1.3542643e-01, -5.0177014e-01, -8.6544496e-01],\n",
       "       [-9.4934297e-01,  4.3845165e-01, -9.4257241e-01, ...,\n",
       "        -6.2096912e-01,  8.0198520e-01,  1.3230622e+00],\n",
       "       [-2.4325869e+00, -4.9644064e-02,  4.8183766e-01, ...,\n",
       "         2.3541257e+00, -1.2899616e+00,  4.7361198e-01],\n",
       "       ...,\n",
       "       [-1.7177382e-02, -3.1638738e-02, -1.6829874e-03, ...,\n",
       "        -8.6054444e-02, -8.1356935e-02, -8.6381786e-02],\n",
       "       [ 3.4426276e-02, -3.1038364e-02, -2.9358661e-02, ...,\n",
       "        -6.4122252e-02, -4.8903849e-02, -4.6733070e-02],\n",
       "       [ 6.4796726e-03, -2.2017041e-02, -1.2313519e-02, ...,\n",
       "        -3.3690721e-02, -5.7311382e-02, -3.1229654e-02]], dtype=float32)"
      ]
     },
     "execution_count": 27,
     "metadata": {},
     "output_type": "execute_result"
    }
   ],
   "source": [
    "senReleasesW2V.wv.syn0"
   ]
  },
  {
   "cell_type": "markdown",
   "metadata": {},
   "source": [
    "Then, `index2word` lets you translate from the matrix to words"
   ]
  },
  {
   "cell_type": "code",
   "execution_count": 28,
   "metadata": {},
   "outputs": [
    {
     "data": {
      "text/plain": [
       "'american'"
      ]
     },
     "execution_count": 28,
     "metadata": {},
     "output_type": "execute_result"
    }
   ],
   "source": [
    "senReleasesW2V.wv.index2word[10]"
   ]
  },
  {
   "cell_type": "markdown",
   "metadata": {},
   "source": [
    "Now we can look at a few things that come from the word vectors. The first is to find similar vectors (cosine similarity):"
   ]
  },
  {
   "cell_type": "code",
   "execution_count": 29,
   "metadata": {},
   "outputs": [
    {
     "data": {
      "text/plain": [
       "[('administration', 0.8561171293258667),\n",
       " ('presidents', 0.7766789793968201),\n",
       " ('administrations', 0.7352709770202637),\n",
       " ('george', 0.6495853662490845),\n",
       " ('cheney', 0.6420679092407227),\n",
       " ('rollback', 0.5789810419082642),\n",
       " ('privatize', 0.5743130445480347),\n",
       " ('republican', 0.5706799030303955),\n",
       " ('veto', 0.5669924020767212),\n",
       " ('quoting', 0.5643348693847656)]"
      ]
     },
     "execution_count": 29,
     "metadata": {},
     "output_type": "execute_result"
    }
   ],
   "source": [
    "senReleasesW2V.most_similar('president')"
   ]
  },
  {
   "cell_type": "code",
   "execution_count": 30,
   "metadata": {},
   "outputs": [
    {
     "data": {
      "text/plain": [
       "[('disobedience', 0.6980276703834534),\n",
       " ('afghanistan', 0.6839396953582764),\n",
       " ('wars', 0.6707034111022949),\n",
       " ('chaos', 0.6627306938171387),\n",
       " ('unresisted', 0.654295802116394),\n",
       " ('descending', 0.648392915725708),\n",
       " ('insurgency', 0.6471118927001953),\n",
       " ('sending', 0.6431031823158264),\n",
       " ('misguided', 0.6380656957626343),\n",
       " ('bloody', 0.6377280950546265)]"
      ]
     },
     "execution_count": 30,
     "metadata": {},
     "output_type": "execute_result"
    }
   ],
   "source": [
    "senReleasesW2V.most_similar('war')"
   ]
  },
  {
   "cell_type": "markdown",
   "metadata": {},
   "source": [
    "Or we can get this directly (calculated slightly differently):"
   ]
  },
  {
   "cell_type": "code",
   "execution_count": 31,
   "metadata": {},
   "outputs": [],
   "source": [
    "def cos_difference(embedding,word1,word2):\n",
    "    return sklearn.metrics.pairwise.cosine_similarity(embedding[word1].reshape(1,-1),embedding[word2].reshape(1,-1))"
   ]
  },
  {
   "cell_type": "code",
   "execution_count": 32,
   "metadata": {},
   "outputs": [
    {
     "data": {
      "text/plain": [
       "array([[0.54485637]], dtype=float32)"
      ]
     },
     "execution_count": 32,
     "metadata": {},
     "output_type": "execute_result"
    }
   ],
   "source": [
    "cos_difference(senReleasesW2V, 'war', 'unwinnable')"
   ]
  },
  {
   "cell_type": "markdown",
   "metadata": {},
   "source": [
    "We can also find which word least matches the others within a word set (cosine similarity):"
   ]
  },
  {
   "cell_type": "code",
   "execution_count": 33,
   "metadata": {},
   "outputs": [
    {
     "data": {
      "text/plain": [
       "'washington'"
      ]
     },
     "execution_count": 33,
     "metadata": {},
     "output_type": "execute_result"
    }
   ],
   "source": [
    "senReleasesW2V.doesnt_match(['administration', 'administrations', 'presidents', 'president', 'washington'])"
   ]
  },
  {
   "cell_type": "markdown",
   "metadata": {},
   "source": [
    "Find which word best matches the result of a semantic *equation* (here, we seek the words whose vectors best fit the missing entry from the equation: **X + Y - Z = _**."
   ]
  },
  {
   "cell_type": "code",
   "execution_count": 34,
   "metadata": {},
   "outputs": [
    {
     "data": {
      "text/plain": [
       "[('bush', 0.727771520614624),\n",
       " ('bushs', 0.7126743793487549),\n",
       " ('veto', 0.7092330455780029),\n",
       " ('signed', 0.699372410774231),\n",
       " ('vetoes', 0.6667923927307129),\n",
       " ('vetoed', 0.6663817763328552),\n",
       " ('signature', 0.6619501709938049),\n",
       " ('signing', 0.6569038033485413),\n",
       " ('presidents', 0.6391920447349548),\n",
       " ('sign', 0.6329113841056824)]"
      ]
     },
     "execution_count": 34,
     "metadata": {},
     "output_type": "execute_result"
    }
   ],
   "source": [
    "senReleasesW2V.most_similar(positive=['clinton', 'republican'], negative = ['democrat'])"
   ]
  },
  {
   "cell_type": "markdown",
   "metadata": {},
   "source": [
    "Here we see that **Clinton + Republican - Democrat = Bush**. In other words, in this dataset and period, **Clinton** was to **Democrat** as **Bush** was to **Republican**. Whoah!"
   ]
  },
  {
   "cell_type": "markdown",
   "metadata": {},
   "source": [
    " But how do we argue that these are stable distances or associations?"
   ]
  },
  {
   "cell_type": "markdown",
   "metadata": {},
   "source": [
    "## Establishing Credible or Confidence Intervals"
   ]
  },
  {
   "cell_type": "markdown",
   "metadata": {},
   "source": [
    "### Boostrapping approach"
   ]
  },
  {
   "cell_type": "markdown",
   "metadata": {},
   "source": [
    "We propose well-established bootstrapping and subsampling methods to nonparametrically demonstrate the stability and significance of word associations within our embedding model. These allow us to establish conservative confidence intervals to both (a) distances between words in a model and (b) projections of words onto an induced dimension (e.g., man-woman). If we assume that the texts (e.g., newspapers, books) underlying our word embedding model are observations drawn from an independent and identically distributed (i.i.d.) population of cultural observations, then bootstrapping allows us to estimate the variance of word distances and projections by measuring those properties through sampling the empirical distribution of texts with replacement (Efron and Tibshirani 1994; Efron 2003). Operationally, if we wanted to bootstrap a 90% confidence interval of a word-word distance or word-dimension projection, we would sample a corpus the same size as the original corpus, but with replacement, 20 times, estimate word embedding models on each sample. Then we take the 2nd order (2nd smallest) statistic $s_{(2)}$--either distance or projection--as our confidence interval’s lower bound, and 19th order statistic $s_{(19)}$ as its upper bound. The distance between $s_{(2)}$ and $s_{(19)}$ across 20 bootstrap samples span the 5th to the 95th percentiles of the statistic’s variance, bounding the 90th confidence interval. A 95% confidence interval would span $s_{(2)}$ and $s_{(39)}$ in word embedding distances or projections estimated on 40 bootstrap samples of a corpus, tracing the 2.5th to 97.5th percentiles. "
   ]
  },
  {
   "cell_type": "code",
   "execution_count": 35,
   "metadata": {},
   "outputs": [
    {
     "data": {
      "text/plain": [
       "[0.28565806,\n",
       " 0.28813428,\n",
       " 0.34111184,\n",
       " 0.39012378,\n",
       " 0.3996875,\n",
       " 0.45880115,\n",
       " 0.46837172,\n",
       " 0.49124125,\n",
       " 0.51016086,\n",
       " 0.5160894,\n",
       " 0.5161947,\n",
       " 0.5259503,\n",
       " 0.5289189,\n",
       " 0.5531907,\n",
       " 0.55609596,\n",
       " 0.5720395,\n",
       " 0.6015819,\n",
       " 0.62895036]"
      ]
     },
     "execution_count": 35,
     "metadata": {},
     "output_type": "execute_result"
    }
   ],
   "source": [
    "estimatesB=[]\n",
    "for x in range(20):\n",
    "    senReleasesW2VB = gensim.models.word2vec.Word2Vec(senReleasesDF['normalized_sents'].sample(frac=1.0, replace=True).sum())\n",
    "    try:\n",
    "        estimatesB.append(cos_difference(senReleasesW2VB, 'war', 'unwinnable')[0,0])\n",
    "    except KeyError:\n",
    "        #Missing one of the words from the vocab\n",
    "        pass\n",
    "                                                      \n",
    "estimatesB.sort()         \n",
    "estimatesB"
   ]
  },
  {
   "cell_type": "code",
   "execution_count": 36,
   "metadata": {},
   "outputs": [
    {
     "name": "stdout",
     "output_type": "stream",
     "text": [
      "The 90% confidence interval for the cosine distance between war and unwinnable is:\n",
      " 0.28813428 0.6015819\n"
     ]
    }
   ],
   "source": [
    "print(\"The 90% confidence interval for the cosine distance between war and unwinnable is:\\n\",estimatesB[1], estimatesB[-2])"
   ]
  },
  {
   "cell_type": "markdown",
   "metadata": {},
   "source": [
    "### Subsampling approach"
   ]
  },
  {
   "cell_type": "markdown",
   "metadata": {},
   "source": [
    "If the corpus is large, then we may take a subsampling approach, which randomly partitions the corpus into non-overlapping samples, then estimates the word-embedding models on these subsets and calculates confidence intervals as a function of the empirical distribution of distance or projection statistics and number of texts in the subsample (Politis and Romano 1997). Subsampling requires the same i.i.d. assumption as the bootrap (Politis and Romano 1992; Politis and Romano 1994). For 90% confidence intervals, we randomly partition the corpus into 20 subcorpora, then calculate $B^k=\\sqrt{\\tau_k}\\left(s^k-\\bar{s}\\right)$ for each $k$th sample, where $k$ is the number of texts and $s^k$ is the embedding distance or projection for the $k$th sample, and $\\bar{s}$ is the average statistic for all samples. The 90% confidence interval spans the 5th to 95th percentile variances, inscribed by $\\bar{s}-\\frac{B_{(19)}^k}{\\sqrt{\\tau}}$ and $\\bar{s}-\\frac{B_{(2)}^k}{\\sqrt{\\tau}}$, where $\\tau$ the number of texts in the total corpus and $s$ is the average statistic across all subsamples. As with bootrapping, a 95% confidence interval would require 40 subsamples; a 99% confidence would require 200 (.5th to 99.5th percentiles)."
   ]
  },
  {
   "cell_type": "code",
   "execution_count": 43,
   "metadata": {},
   "outputs": [
    {
     "data": {
      "text/html": [
       "<div>\n",
       "<style scoped>\n",
       "    .dataframe tbody tr th:only-of-type {\n",
       "        vertical-align: middle;\n",
       "    }\n",
       "\n",
       "    .dataframe tbody tr th {\n",
       "        vertical-align: top;\n",
       "    }\n",
       "\n",
       "    .dataframe thead th {\n",
       "        text-align: right;\n",
       "    }\n",
       "</style>\n",
       "<table border=\"1\" class=\"dataframe\">\n",
       "  <thead>\n",
       "    <tr style=\"text-align: right;\">\n",
       "      <th></th>\n",
       "      <th>text</th>\n",
       "      <th>category</th>\n",
       "      <th>tokenized_sents</th>\n",
       "      <th>normalized_sents</th>\n",
       "    </tr>\n",
       "  </thead>\n",
       "  <tbody>\n",
       "    <tr>\n",
       "      <th>17Mar2005Kyl399.txt</th>\n",
       "      <td>SEN. KYL CRITICIZES MEXICAN PRESIDENT FOR THRE...</td>\n",
       "      <td>Kyl</td>\n",
       "      <td>[[SEN., KYL, CRITICIZES, MEXICAN, PRESIDENT, F...</td>\n",
       "      <td>[[kyl, criticizes, mexican, president, threats...</td>\n",
       "    </tr>\n",
       "    <tr>\n",
       "      <th>4Feb2008Kyl28.txt</th>\n",
       "      <td>STATE OF OUR UNION 2008\\n  In his final State ...</td>\n",
       "      <td>Kyl</td>\n",
       "      <td>[[STATE, OF, OUR, UNION, 2008, In, his, final,...</td>\n",
       "      <td>[[state, union, final, state, union, address, ...</td>\n",
       "    </tr>\n",
       "    <tr>\n",
       "      <th>30May2006Kyl209.txt</th>\n",
       "      <td>SECURING BORDER MUST COME FIRST\\n  The problem...</td>\n",
       "      <td>Kyl</td>\n",
       "      <td>[[SECURING, BORDER, MUST, COME, FIRST, The, pr...</td>\n",
       "      <td>[[securing, border, must, come, first, problem...</td>\n",
       "    </tr>\n",
       "    <tr>\n",
       "      <th>8Feb2006Kyl264.txt</th>\n",
       "      <td>SEN. KYL CONCERNED NEW BUDGET LEAVES ARIZONA'S...</td>\n",
       "      <td>Kyl</td>\n",
       "      <td>[[SEN., KYL, CONCERNED, NEW, BUDGET, LEAVES, A...</td>\n",
       "      <td>[[kyl, concerned, new, budget, leaves, arizona...</td>\n",
       "    </tr>\n",
       "    <tr>\n",
       "      <th>11Oct2004Kyl447.txt</th>\n",
       "      <td>SEN. KYL CONGRATULATES NOBEL LAUREATE\\n  Sen. ...</td>\n",
       "      <td>Kyl</td>\n",
       "      <td>[[SEN., KYL, CONGRATULATES, NOBEL, LAUREATE, S...</td>\n",
       "      <td>[[kyl, congratulates, nobel, laureate, jon, ky...</td>\n",
       "    </tr>\n",
       "    <tr>\n",
       "      <th>17Apr2006Kyl231.txt</th>\n",
       "      <td>PROTECTING CHILDREN\\n  Abuse and neglect of ou...</td>\n",
       "      <td>Kyl</td>\n",
       "      <td>[[PROTECTING, CHILDREN, Abuse, and, neglect, o...</td>\n",
       "      <td>[[protecting, children, abuse, neglect, childr...</td>\n",
       "    </tr>\n",
       "    <tr>\n",
       "      <th>18May2006Kyl214.txt</th>\n",
       "      <td>SEN. KYL: TEMPORARY MEANS TEMPORARY\\n  Sen. Jo...</td>\n",
       "      <td>Kyl</td>\n",
       "      <td>[[SEN., KYL, :, TEMPORARY, MEANS, TEMPORARY, S...</td>\n",
       "      <td>[[kyl, temporary, means, temporary, jon, kyl, ...</td>\n",
       "    </tr>\n",
       "    <tr>\n",
       "      <th>13Jun2006Kyl201.txt</th>\n",
       "      <td>SEN. KYL INTRODUCES LEGISLATION TO ADD LAND TO...</td>\n",
       "      <td>Kyl</td>\n",
       "      <td>[[SEN., KYL, INTRODUCES, LEGISLATION, TO, ADD,...</td>\n",
       "      <td>[[kyl, introduces, legislation, add, land, las...</td>\n",
       "    </tr>\n",
       "    <tr>\n",
       "      <th>5May2006Kyl223.txt</th>\n",
       "      <td>SENS. KYL, FEINSTEIN CALL FOR ELIMINATING ETHA...</td>\n",
       "      <td>Kyl</td>\n",
       "      <td>[[SENS, .], [KYL, ,, FEINSTEIN, CALL, FOR, ELI...</td>\n",
       "      <td>[[sens], [kyl, feinstein, call, eliminating, e...</td>\n",
       "    </tr>\n",
       "    <tr>\n",
       "      <th>28Nov2005Kyl293.txt</th>\n",
       "      <td>SEN. KYL JOINS BUSH AT TUCSON BORDER BRIEFING\\...</td>\n",
       "      <td>Kyl</td>\n",
       "      <td>[[SEN., KYL, JOINS, BUSH, AT, TUCSON, BORDER, ...</td>\n",
       "      <td>[[kyl, joins, bush, tucson, border, briefing, ...</td>\n",
       "    </tr>\n",
       "    <tr>\n",
       "      <th>14Dec2007Kyl44.txt</th>\n",
       "      <td>SENATE CONFIRMS DIANE HUMETEWA AS U.S. ATTORNE...</td>\n",
       "      <td>Kyl</td>\n",
       "      <td>[[SENATE, CONFIRMS, DIANE, HUMETEWA, AS, U.S.,...</td>\n",
       "      <td>[[senate, confirms, diane, humetewa, attorney,...</td>\n",
       "    </tr>\n",
       "    <tr>\n",
       "      <th>3May2004Kyl499.txt</th>\n",
       "      <td>SAVING MONEY ON PRESCRIPTION DRUGS\\n  By Sen. ...</td>\n",
       "      <td>Kyl</td>\n",
       "      <td>[[SAVING, MONEY, ON, PRESCRIPTION, DRUGS, By, ...</td>\n",
       "      <td>[[saving, money, prescription, drugs, jon, kyl...</td>\n",
       "    </tr>\n",
       "    <tr>\n",
       "      <th>17Sep2007Kyl70.txt</th>\n",
       "      <td>SEN. KYL APPLAUDS NOMINATION OF JUDGE MUKASEY ...</td>\n",
       "      <td>Kyl</td>\n",
       "      <td>[[SEN., KYL, APPLAUDS, NOMINATION, OF, JUDGE, ...</td>\n",
       "      <td>[[kyl, applauds, nomination, judge, mukasey, a...</td>\n",
       "    </tr>\n",
       "    <tr>\n",
       "      <th>25Jul2007Kyl81.txt</th>\n",
       "      <td>SEN. KYL, SENATE REPUBLICANS INTRODUCE LEGISLA...</td>\n",
       "      <td>Kyl</td>\n",
       "      <td>[[SEN., KYL, ,, SENATE, REPUBLICANS, INTRODUCE...</td>\n",
       "      <td>[[kyl, senate, republicans, introduce, legisla...</td>\n",
       "    </tr>\n",
       "    <tr>\n",
       "      <th>11Oct2004Kyl445.txt</th>\n",
       "      <td>SEN. KYL ANNOUNCES SENATE PASSAGE OF MAJOR ARI...</td>\n",
       "      <td>Kyl</td>\n",
       "      <td>[[SEN., KYL, ANNOUNCES, SENATE, PASSAGE, OF, M...</td>\n",
       "      <td>[[kyl, announces, senate, passage, major, ariz...</td>\n",
       "    </tr>\n",
       "    <tr>\n",
       "      <th>4Feb2008Kyl29.txt</th>\n",
       "      <td>STATE OF OUR UNION 2008\\n  In his final State ...</td>\n",
       "      <td>Kyl</td>\n",
       "      <td>[[STATE, OF, OUR, UNION, 2008, In, his, final,...</td>\n",
       "      <td>[[state, union, final, state, union, address, ...</td>\n",
       "    </tr>\n",
       "    <tr>\n",
       "      <th>20Oct2005Kyl315.txt</th>\n",
       "      <td>SEN. KYL GARNERS $3.4 MILLION FOR ARIZONA HIGH...</td>\n",
       "      <td>Kyl</td>\n",
       "      <td>[[SEN., KYL, GARNERS, $, 3.4, MILLION, FOR, AR...</td>\n",
       "      <td>[[kyl, garners, million, arizona, training, pr...</td>\n",
       "    </tr>\n",
       "    <tr>\n",
       "      <th>19Dec2007Kyl38.txt</th>\n",
       "      <td>ARIZONA LAWMAKERS ANNOUNCE REVERSAL OF FEMA DE...</td>\n",
       "      <td>Kyl</td>\n",
       "      <td>[[ARIZONA, LAWMAKERS, ANNOUNCE, REVERSAL, OF, ...</td>\n",
       "      <td>[[arizona, lawmakers, announce, reversal, fema...</td>\n",
       "    </tr>\n",
       "    <tr>\n",
       "      <th>7Aug2006Kyl170.txt</th>\n",
       "      <td>FRONT LINES OF WAR ON TERROR\\n  For the past s...</td>\n",
       "      <td>Kyl</td>\n",
       "      <td>[[FRONT, LINES, OF, WAR, ON, TERROR, For, the,...</td>\n",
       "      <td>[[front, lines, war, terror, past, several, we...</td>\n",
       "    </tr>\n",
       "    <tr>\n",
       "      <th>9May2006Kyl221.txt</th>\n",
       "      <td>SEN. KYL HAILS TAX RELIEF AGREEMENT\\n  The con...</td>\n",
       "      <td>Kyl</td>\n",
       "      <td>[[SEN., KYL, HAILS, TAX, RELIEF, AGREEMENT, Th...</td>\n",
       "      <td>[[kyl, hails, tax, relief, agreement, conferen...</td>\n",
       "    </tr>\n",
       "    <tr>\n",
       "      <th>9Jun2004Kyl492.txt</th>\n",
       "      <td>SEN. KYL URGES WORLD COMMUNITY TO AID RECONSTR...</td>\n",
       "      <td>Kyl</td>\n",
       "      <td>[[SEN., KYL, URGES, WORLD, COMMUNITY, TO, AID,...</td>\n",
       "      <td>[[kyl, urges, world, community, aid, reconstru...</td>\n",
       "    </tr>\n",
       "    <tr>\n",
       "      <th>18Sep2006Kyl159.txt</th>\n",
       "      <td>COURTESY OF A VOTE\\n  As we reach the end of t...</td>\n",
       "      <td>Kyl</td>\n",
       "      <td>[[COURTESY, OF, A, VOTE, As, we, reach, the, e...</td>\n",
       "      <td>[[courtesy, vote, reach, end, congressional, s...</td>\n",
       "    </tr>\n",
       "    <tr>\n",
       "      <th>15Nov2006Kyl151.txt</th>\n",
       "      <td>SEN. KYL ELECTED CHAIRMAN OF SENATE REPUBLICAN...</td>\n",
       "      <td>Kyl</td>\n",
       "      <td>[[SEN., KYL, ELECTED, CHAIRMAN, OF, SENATE, RE...</td>\n",
       "      <td>[[kyl, elected, chairman, senate, republican, ...</td>\n",
       "    </tr>\n",
       "    <tr>\n",
       "      <th>25Oct2004Kyl441.txt</th>\n",
       "      <td>GUARDING THE HOMELAND - AND THE TREASURY\\n  Th...</td>\n",
       "      <td>Kyl</td>\n",
       "      <td>[[GUARDING, THE, HOMELAND, -, AND, THE, TREASU...</td>\n",
       "      <td>[[guarding, homeland, treasury, challenge, bud...</td>\n",
       "    </tr>\n",
       "    <tr>\n",
       "      <th>1Feb2007Kyl130.txt</th>\n",
       "      <td>SEN. KYL: WE CANNOT UNDERCUT OUR TROOPS\\n  The...</td>\n",
       "      <td>Kyl</td>\n",
       "      <td>[[SEN., KYL, :, WE, CAN, NOT, UNDERCUT, OUR, T...</td>\n",
       "      <td>[[kyl, undercut, troops, following, excerpts, ...</td>\n",
       "    </tr>\n",
       "    <tr>\n",
       "      <th>9Sep2005Kyl342.txt</th>\n",
       "      <td>SEN. KYL'S WEB SITE OFFERS GUIDANCE ON HELPING...</td>\n",
       "      <td>Kyl</td>\n",
       "      <td>[[SEN., KYL, 'S, WEB, SITE, OFFERS, GUIDANCE, ...</td>\n",
       "      <td>[[kyl, web, site, offers, guidance, helping, v...</td>\n",
       "    </tr>\n",
       "    <tr>\n",
       "      <th>21Jun2004Kyl487.txt</th>\n",
       "      <td>SEN. KYL PRAISES INTERIOR DEPTARTMENT GRANTS F...</td>\n",
       "      <td>Kyl</td>\n",
       "      <td>[[SEN., KYL, PRAISES, INTERIOR, DEPTARTMENT, G...</td>\n",
       "      <td>[[kyl, praises, interior, deptartment, grants,...</td>\n",
       "    </tr>\n",
       "    <tr>\n",
       "      <th>26Apr2007Kyl104.txt</th>\n",
       "      <td>SEN. KYL WILL OPPOSE EFFORTS TO REMOVE RESTRIC...</td>\n",
       "      <td>Kyl</td>\n",
       "      <td>[[SEN., KYL, WILL, OPPOSE, EFFORTS, TO, REMOVE...</td>\n",
       "      <td>[[kyl, oppose, efforts, remove, restrictions, ...</td>\n",
       "    </tr>\n",
       "    <tr>\n",
       "      <th>8Jul2004Kyl477.txt</th>\n",
       "      <td>SEN. KYL JOINS INTERIOR SECRETARY AT SIGNING O...</td>\n",
       "      <td>Kyl</td>\n",
       "      <td>[[SEN., KYL, JOINS, INTERIOR, SECRETARY, AT, S...</td>\n",
       "      <td>[[kyl, joins, interior, secretary, signing, zu...</td>\n",
       "    </tr>\n",
       "    <tr>\n",
       "      <th>9Mar2006Kyl247.txt</th>\n",
       "      <td>SEN. KYL APPLAUDS TRIUMPH OF SECURITY OVER PAR...</td>\n",
       "      <td>Kyl</td>\n",
       "      <td>[[SEN., KYL, APPLAUDS, TRIUMPH, OF, SECURITY, ...</td>\n",
       "      <td>[[kyl, applauds, triumph, security, partisansh...</td>\n",
       "    </tr>\n",
       "    <tr>\n",
       "      <th>...</th>\n",
       "      <td>...</td>\n",
       "      <td>...</td>\n",
       "      <td>...</td>\n",
       "      <td>...</td>\n",
       "    </tr>\n",
       "    <tr>\n",
       "      <th>19Mar2007Kerry409.txt</th>\n",
       "      <td>Releases                               ...</td>\n",
       "      <td>Kerry</td>\n",
       "      <td>[[Releases, 03, 19, 2007, On, Anniversary, of,...</td>\n",
       "      <td>[[releases, anniversary, iraq, war, kerry, tel...</td>\n",
       "    </tr>\n",
       "    <tr>\n",
       "      <th>20Dec2007Kerry8.txt</th>\n",
       "      <td>Releases                               ...</td>\n",
       "      <td>Kerry</td>\n",
       "      <td>[[Releases, 12, 20, 2007, Kerry, Kennedy, Fran...</td>\n",
       "      <td>[[releases, kerry, kennedy, frank, announce, f...</td>\n",
       "    </tr>\n",
       "    <tr>\n",
       "      <th>19Jun2007Kerry300.txt</th>\n",
       "      <td>Releases                               ...</td>\n",
       "      <td>Kerry</td>\n",
       "      <td>[[Releases, 06, 19, 2007, Kerry, Support, Amer...</td>\n",
       "      <td>[[releases, kerry, support, america, workers, ...</td>\n",
       "    </tr>\n",
       "    <tr>\n",
       "      <th>02Jun2005Kerry166.txt</th>\n",
       "      <td>Releases                               ...</td>\n",
       "      <td>Kerry</td>\n",
       "      <td>[[Releases, 06, 02, 2005, Pepperell, Springs, ...</td>\n",
       "      <td>[[releases, pepperell, springs, conservation, ...</td>\n",
       "    </tr>\n",
       "    <tr>\n",
       "      <th>22Jun2007Kerry289.txt</th>\n",
       "      <td>Releases                               ...</td>\n",
       "      <td>Kerry</td>\n",
       "      <td>[[Releases, 06, 22, 2007, Kerry, Says, Histori...</td>\n",
       "      <td>[[releases, kerry, says, historic, energy, bil...</td>\n",
       "    </tr>\n",
       "    <tr>\n",
       "      <th>13Apr2007Kerry377.txt</th>\n",
       "      <td>Releases                               ...</td>\n",
       "      <td>Kerry</td>\n",
       "      <td>[[Releases, 04, 13, 2007, Kerry, Says, White, ...</td>\n",
       "      <td>[[releases, kerry, says, white, house, promote...</td>\n",
       "    </tr>\n",
       "    <tr>\n",
       "      <th>15Mar2007Kerry414.txt</th>\n",
       "      <td>Releases                               ...</td>\n",
       "      <td>Kerry</td>\n",
       "      <td>[[Releases, 03, 15, 2007, Kerry, Pressures, Co...</td>\n",
       "      <td>[[releases, kerry, pressures, coast, guard, bi...</td>\n",
       "    </tr>\n",
       "    <tr>\n",
       "      <th>05Apr2007Kerry386.txt</th>\n",
       "      <td>Releases                               ...</td>\n",
       "      <td>Kerry</td>\n",
       "      <td>[[Releases, 04, 05, 2007, John, Kerry, to, Deb...</td>\n",
       "      <td>[[releases, john, kerry, debate, newt, gingric...</td>\n",
       "    </tr>\n",
       "    <tr>\n",
       "      <th>26Jan2006Kerry207.txt</th>\n",
       "      <td>Releases                               ...</td>\n",
       "      <td>Kerry</td>\n",
       "      <td>[[Releases, 01, 26, 2006, John, Kerry, on, Pal...</td>\n",
       "      <td>[[releases, john, kerry, palestinian, election...</td>\n",
       "    </tr>\n",
       "    <tr>\n",
       "      <th>04Sep2005Kerry87.txt</th>\n",
       "      <td>Releases                               ...</td>\n",
       "      <td>Kerry</td>\n",
       "      <td>[[Releases, 09, 04, 2005, Senator, John, Kerry...</td>\n",
       "      <td>[[releases, senator, john, kerry, passing, chi...</td>\n",
       "    </tr>\n",
       "    <tr>\n",
       "      <th>21Sep2005Kerry73.txt</th>\n",
       "      <td>Releases                               ...</td>\n",
       "      <td>Kerry</td>\n",
       "      <td>[[Releases, 09, 21, 2005, Remarks, by, Senator...</td>\n",
       "      <td>[[releases, remarks, senator, john, kerry, opp...</td>\n",
       "    </tr>\n",
       "    <tr>\n",
       "      <th>18Sep2007Kerry153.txt</th>\n",
       "      <td>Releases                               ...</td>\n",
       "      <td>Kerry</td>\n",
       "      <td>[[Releases, 09, 18, 2007, Kerry, Statement, on...</td>\n",
       "      <td>[[releases, kerry, statement, florida, campus,...</td>\n",
       "    </tr>\n",
       "    <tr>\n",
       "      <th>26Oct2005Kerry50.txt</th>\n",
       "      <td>Releases                               ...</td>\n",
       "      <td>Kerry</td>\n",
       "      <td>[[Releases, 10, 26, 2005, Statement, from, Joh...</td>\n",
       "      <td>[[releases, statement, john, kerry, loss, amer...</td>\n",
       "    </tr>\n",
       "    <tr>\n",
       "      <th>07Jul2005Kerry130.txt</th>\n",
       "      <td>Releases                               ...</td>\n",
       "      <td>Kerry</td>\n",
       "      <td>[[Releases, 07, 07, 2005, Statement, from, Sen...</td>\n",
       "      <td>[[releases, statement, senator, john, kerry, t...</td>\n",
       "    </tr>\n",
       "    <tr>\n",
       "      <th>18Jun2007Kerry302.txt</th>\n",
       "      <td>Releases                               ...</td>\n",
       "      <td>Kerry</td>\n",
       "      <td>[[Releases, 06, 18, 2007, Kerry, Says, He, ll,...</td>\n",
       "      <td>[[releases, kerry, says, filibuster, republica...</td>\n",
       "    </tr>\n",
       "    <tr>\n",
       "      <th>11Mar2007Kerry423.txt</th>\n",
       "      <td>Releases                               ...</td>\n",
       "      <td>Kerry</td>\n",
       "      <td>[[Releases, 03, 11, 2007, West, Roxbury, and, ...</td>\n",
       "      <td>[[releases, west, roxbury, new, bedford, senat...</td>\n",
       "    </tr>\n",
       "    <tr>\n",
       "      <th>09May2007Kerry348.txt</th>\n",
       "      <td>Releases                               ...</td>\n",
       "      <td>Kerry</td>\n",
       "      <td>[[Releases, 05, 09, 2007, Kerry, Says, Global,...</td>\n",
       "      <td>[[releases, kerry, says, global, warming, pose...</td>\n",
       "    </tr>\n",
       "    <tr>\n",
       "      <th>27Sep2006Kerry35.txt</th>\n",
       "      <td>Releases                               ...</td>\n",
       "      <td>Kerry</td>\n",
       "      <td>[[Releases, 09, 27, 2006, FEINGOLD, KERRY, INT...</td>\n",
       "      <td>[[releases, feingold, kerry, introduce, resolu...</td>\n",
       "    </tr>\n",
       "    <tr>\n",
       "      <th>14Dec2007Kerry27.txt</th>\n",
       "      <td>Releases                               ...</td>\n",
       "      <td>Kerry</td>\n",
       "      <td>[[Releases, 12, 14, 2007, Kerry, Statement, on...</td>\n",
       "      <td>[[releases, kerry, statement, bali, climate, c...</td>\n",
       "    </tr>\n",
       "    <tr>\n",
       "      <th>28Sep2006Kerry34.txt</th>\n",
       "      <td>Releases                               ...</td>\n",
       "      <td>Kerry</td>\n",
       "      <td>[[Releases, 09, 28, 2006, Kerry, Opposes, Sena...</td>\n",
       "      <td>[[releases, kerry, opposes, senate, failure, t...</td>\n",
       "    </tr>\n",
       "    <tr>\n",
       "      <th>15Mar2005Kerry232.txt</th>\n",
       "      <td>Releases                               ...</td>\n",
       "      <td>Kerry</td>\n",
       "      <td>[[Releases, 03, 15, 2005, Senators, John, Kerr...</td>\n",
       "      <td>[[releases, senators, john, kerry, maria, cant...</td>\n",
       "    </tr>\n",
       "    <tr>\n",
       "      <th>23May2007Kerry327.txt</th>\n",
       "      <td>Releases                               ...</td>\n",
       "      <td>Kerry</td>\n",
       "      <td>[[Releases, 05, 23, 2007, Kerry, An, Iraq, Bil...</td>\n",
       "      <td>[[releases, kerry, iraq, bill, without, deadli...</td>\n",
       "    </tr>\n",
       "    <tr>\n",
       "      <th>13Jan2006Kerry218.txt</th>\n",
       "      <td>Releases                               ...</td>\n",
       "      <td>Kerry</td>\n",
       "      <td>[[Releases, 01, 13, 2006, Kerry, Stands, Up, t...</td>\n",
       "      <td>[[releases, kerry, stands, administration, eff...</td>\n",
       "    </tr>\n",
       "    <tr>\n",
       "      <th>23May2006Kerry126.txt</th>\n",
       "      <td>Releases                               ...</td>\n",
       "      <td>Kerry</td>\n",
       "      <td>[[Releases, 05, 23, 2006, John, Kerry, Fights,...</td>\n",
       "      <td>[[releases, john, kerry, fights, protect, vete...</td>\n",
       "    </tr>\n",
       "    <tr>\n",
       "      <th>22Mar2005Kerry222.txt</th>\n",
       "      <td>Releases                               ...</td>\n",
       "      <td>Kerry</td>\n",
       "      <td>[[Releases, 03, 22, 2005, John, Kerry, on, EPA...</td>\n",
       "      <td>[[releases, john, kerry, epa, hiding, harvard,...</td>\n",
       "    </tr>\n",
       "    <tr>\n",
       "      <th>14Jun2007Kerry310.txt</th>\n",
       "      <td>Releases                               ...</td>\n",
       "      <td>Kerry</td>\n",
       "      <td>[[Releases, 06, 14, 2007, Kerry, Tells, White,...</td>\n",
       "      <td>[[releases, kerry, tells, white, house, attack...</td>\n",
       "    </tr>\n",
       "    <tr>\n",
       "      <th>12Mar2007Kerry422.txt</th>\n",
       "      <td>Releases                               ...</td>\n",
       "      <td>Kerry</td>\n",
       "      <td>[[Releases, 03, 12, 2007, Kerry, calls, for, t...</td>\n",
       "      <td>[[releases, kerry, calls, thorough, investigat...</td>\n",
       "    </tr>\n",
       "    <tr>\n",
       "      <th>14Jun2007Kerry311.txt</th>\n",
       "      <td>Releases                               ...</td>\n",
       "      <td>Kerry</td>\n",
       "      <td>[[Releases, 06, 14, 2007, Kerry, on, defeat, o...</td>\n",
       "      <td>[[releases, kerry, defeat, sex, marriage, ban,...</td>\n",
       "    </tr>\n",
       "    <tr>\n",
       "      <th>13Nov2007Kerry55.txt</th>\n",
       "      <td>Releases                               ...</td>\n",
       "      <td>Kerry</td>\n",
       "      <td>[[Releases, 11, 13, 2007, Kerry, Chairs, Heari...</td>\n",
       "      <td>[[releases, kerry, chairs, hearing, global, cl...</td>\n",
       "    </tr>\n",
       "    <tr>\n",
       "      <th>05Sep2007Kerry174.txt</th>\n",
       "      <td>Releases                               ...</td>\n",
       "      <td>Kerry</td>\n",
       "      <td>[[Releases, 09, 05, 2007, Kerry, on, reopening...</td>\n",
       "      <td>[[releases, kerry, reopening, new, comeau, bri...</td>\n",
       "    </tr>\n",
       "  </tbody>\n",
       "</table>\n",
       "<p>396 rows × 4 columns</p>\n",
       "</div>"
      ],
      "text/plain": [
       "                                                                    text  \\\n",
       "17Mar2005Kyl399.txt    SEN. KYL CRITICIZES MEXICAN PRESIDENT FOR THRE...   \n",
       "4Feb2008Kyl28.txt      STATE OF OUR UNION 2008\\n  In his final State ...   \n",
       "30May2006Kyl209.txt    SECURING BORDER MUST COME FIRST\\n  The problem...   \n",
       "8Feb2006Kyl264.txt     SEN. KYL CONCERNED NEW BUDGET LEAVES ARIZONA'S...   \n",
       "11Oct2004Kyl447.txt    SEN. KYL CONGRATULATES NOBEL LAUREATE\\n  Sen. ...   \n",
       "17Apr2006Kyl231.txt    PROTECTING CHILDREN\\n  Abuse and neglect of ou...   \n",
       "18May2006Kyl214.txt    SEN. KYL: TEMPORARY MEANS TEMPORARY\\n  Sen. Jo...   \n",
       "13Jun2006Kyl201.txt    SEN. KYL INTRODUCES LEGISLATION TO ADD LAND TO...   \n",
       "5May2006Kyl223.txt     SENS. KYL, FEINSTEIN CALL FOR ELIMINATING ETHA...   \n",
       "28Nov2005Kyl293.txt    SEN. KYL JOINS BUSH AT TUCSON BORDER BRIEFING\\...   \n",
       "14Dec2007Kyl44.txt     SENATE CONFIRMS DIANE HUMETEWA AS U.S. ATTORNE...   \n",
       "3May2004Kyl499.txt     SAVING MONEY ON PRESCRIPTION DRUGS\\n  By Sen. ...   \n",
       "17Sep2007Kyl70.txt     SEN. KYL APPLAUDS NOMINATION OF JUDGE MUKASEY ...   \n",
       "25Jul2007Kyl81.txt     SEN. KYL, SENATE REPUBLICANS INTRODUCE LEGISLA...   \n",
       "11Oct2004Kyl445.txt    SEN. KYL ANNOUNCES SENATE PASSAGE OF MAJOR ARI...   \n",
       "4Feb2008Kyl29.txt      STATE OF OUR UNION 2008\\n  In his final State ...   \n",
       "20Oct2005Kyl315.txt    SEN. KYL GARNERS $3.4 MILLION FOR ARIZONA HIGH...   \n",
       "19Dec2007Kyl38.txt     ARIZONA LAWMAKERS ANNOUNCE REVERSAL OF FEMA DE...   \n",
       "7Aug2006Kyl170.txt     FRONT LINES OF WAR ON TERROR\\n  For the past s...   \n",
       "9May2006Kyl221.txt     SEN. KYL HAILS TAX RELIEF AGREEMENT\\n  The con...   \n",
       "9Jun2004Kyl492.txt     SEN. KYL URGES WORLD COMMUNITY TO AID RECONSTR...   \n",
       "18Sep2006Kyl159.txt    COURTESY OF A VOTE\\n  As we reach the end of t...   \n",
       "15Nov2006Kyl151.txt    SEN. KYL ELECTED CHAIRMAN OF SENATE REPUBLICAN...   \n",
       "25Oct2004Kyl441.txt    GUARDING THE HOMELAND - AND THE TREASURY\\n  Th...   \n",
       "1Feb2007Kyl130.txt     SEN. KYL: WE CANNOT UNDERCUT OUR TROOPS\\n  The...   \n",
       "9Sep2005Kyl342.txt     SEN. KYL'S WEB SITE OFFERS GUIDANCE ON HELPING...   \n",
       "21Jun2004Kyl487.txt    SEN. KYL PRAISES INTERIOR DEPTARTMENT GRANTS F...   \n",
       "26Apr2007Kyl104.txt    SEN. KYL WILL OPPOSE EFFORTS TO REMOVE RESTRIC...   \n",
       "8Jul2004Kyl477.txt     SEN. KYL JOINS INTERIOR SECRETARY AT SIGNING O...   \n",
       "9Mar2006Kyl247.txt     SEN. KYL APPLAUDS TRIUMPH OF SECURITY OVER PAR...   \n",
       "...                                                                  ...   \n",
       "19Mar2007Kerry409.txt         Releases                               ...   \n",
       "20Dec2007Kerry8.txt           Releases                               ...   \n",
       "19Jun2007Kerry300.txt         Releases                               ...   \n",
       "02Jun2005Kerry166.txt         Releases                               ...   \n",
       "22Jun2007Kerry289.txt         Releases                               ...   \n",
       "13Apr2007Kerry377.txt         Releases                               ...   \n",
       "15Mar2007Kerry414.txt         Releases                               ...   \n",
       "05Apr2007Kerry386.txt         Releases                               ...   \n",
       "26Jan2006Kerry207.txt         Releases                               ...   \n",
       "04Sep2005Kerry87.txt          Releases                               ...   \n",
       "21Sep2005Kerry73.txt          Releases                               ...   \n",
       "18Sep2007Kerry153.txt         Releases                               ...   \n",
       "26Oct2005Kerry50.txt          Releases                               ...   \n",
       "07Jul2005Kerry130.txt         Releases                               ...   \n",
       "18Jun2007Kerry302.txt         Releases                               ...   \n",
       "11Mar2007Kerry423.txt         Releases                               ...   \n",
       "09May2007Kerry348.txt         Releases                               ...   \n",
       "27Sep2006Kerry35.txt          Releases                               ...   \n",
       "14Dec2007Kerry27.txt          Releases                               ...   \n",
       "28Sep2006Kerry34.txt          Releases                               ...   \n",
       "15Mar2005Kerry232.txt         Releases                               ...   \n",
       "23May2007Kerry327.txt         Releases                               ...   \n",
       "13Jan2006Kerry218.txt         Releases                               ...   \n",
       "23May2006Kerry126.txt         Releases                               ...   \n",
       "22Mar2005Kerry222.txt         Releases                               ...   \n",
       "14Jun2007Kerry310.txt         Releases                               ...   \n",
       "12Mar2007Kerry422.txt         Releases                               ...   \n",
       "14Jun2007Kerry311.txt         Releases                               ...   \n",
       "13Nov2007Kerry55.txt          Releases                               ...   \n",
       "05Sep2007Kerry174.txt         Releases                               ...   \n",
       "\n",
       "                      category  \\\n",
       "17Mar2005Kyl399.txt        Kyl   \n",
       "4Feb2008Kyl28.txt          Kyl   \n",
       "30May2006Kyl209.txt        Kyl   \n",
       "8Feb2006Kyl264.txt         Kyl   \n",
       "11Oct2004Kyl447.txt        Kyl   \n",
       "17Apr2006Kyl231.txt        Kyl   \n",
       "18May2006Kyl214.txt        Kyl   \n",
       "13Jun2006Kyl201.txt        Kyl   \n",
       "5May2006Kyl223.txt         Kyl   \n",
       "28Nov2005Kyl293.txt        Kyl   \n",
       "14Dec2007Kyl44.txt         Kyl   \n",
       "3May2004Kyl499.txt         Kyl   \n",
       "17Sep2007Kyl70.txt         Kyl   \n",
       "25Jul2007Kyl81.txt         Kyl   \n",
       "11Oct2004Kyl445.txt        Kyl   \n",
       "4Feb2008Kyl29.txt          Kyl   \n",
       "20Oct2005Kyl315.txt        Kyl   \n",
       "19Dec2007Kyl38.txt         Kyl   \n",
       "7Aug2006Kyl170.txt         Kyl   \n",
       "9May2006Kyl221.txt         Kyl   \n",
       "9Jun2004Kyl492.txt         Kyl   \n",
       "18Sep2006Kyl159.txt        Kyl   \n",
       "15Nov2006Kyl151.txt        Kyl   \n",
       "25Oct2004Kyl441.txt        Kyl   \n",
       "1Feb2007Kyl130.txt         Kyl   \n",
       "9Sep2005Kyl342.txt         Kyl   \n",
       "21Jun2004Kyl487.txt        Kyl   \n",
       "26Apr2007Kyl104.txt        Kyl   \n",
       "8Jul2004Kyl477.txt         Kyl   \n",
       "9Mar2006Kyl247.txt         Kyl   \n",
       "...                        ...   \n",
       "19Mar2007Kerry409.txt    Kerry   \n",
       "20Dec2007Kerry8.txt      Kerry   \n",
       "19Jun2007Kerry300.txt    Kerry   \n",
       "02Jun2005Kerry166.txt    Kerry   \n",
       "22Jun2007Kerry289.txt    Kerry   \n",
       "13Apr2007Kerry377.txt    Kerry   \n",
       "15Mar2007Kerry414.txt    Kerry   \n",
       "05Apr2007Kerry386.txt    Kerry   \n",
       "26Jan2006Kerry207.txt    Kerry   \n",
       "04Sep2005Kerry87.txt     Kerry   \n",
       "21Sep2005Kerry73.txt     Kerry   \n",
       "18Sep2007Kerry153.txt    Kerry   \n",
       "26Oct2005Kerry50.txt     Kerry   \n",
       "07Jul2005Kerry130.txt    Kerry   \n",
       "18Jun2007Kerry302.txt    Kerry   \n",
       "11Mar2007Kerry423.txt    Kerry   \n",
       "09May2007Kerry348.txt    Kerry   \n",
       "27Sep2006Kerry35.txt     Kerry   \n",
       "14Dec2007Kerry27.txt     Kerry   \n",
       "28Sep2006Kerry34.txt     Kerry   \n",
       "15Mar2005Kerry232.txt    Kerry   \n",
       "23May2007Kerry327.txt    Kerry   \n",
       "13Jan2006Kerry218.txt    Kerry   \n",
       "23May2006Kerry126.txt    Kerry   \n",
       "22Mar2005Kerry222.txt    Kerry   \n",
       "14Jun2007Kerry310.txt    Kerry   \n",
       "12Mar2007Kerry422.txt    Kerry   \n",
       "14Jun2007Kerry311.txt    Kerry   \n",
       "13Nov2007Kerry55.txt     Kerry   \n",
       "05Sep2007Kerry174.txt    Kerry   \n",
       "\n",
       "                                                         tokenized_sents  \\\n",
       "17Mar2005Kyl399.txt    [[SEN., KYL, CRITICIZES, MEXICAN, PRESIDENT, F...   \n",
       "4Feb2008Kyl28.txt      [[STATE, OF, OUR, UNION, 2008, In, his, final,...   \n",
       "30May2006Kyl209.txt    [[SECURING, BORDER, MUST, COME, FIRST, The, pr...   \n",
       "8Feb2006Kyl264.txt     [[SEN., KYL, CONCERNED, NEW, BUDGET, LEAVES, A...   \n",
       "11Oct2004Kyl447.txt    [[SEN., KYL, CONGRATULATES, NOBEL, LAUREATE, S...   \n",
       "17Apr2006Kyl231.txt    [[PROTECTING, CHILDREN, Abuse, and, neglect, o...   \n",
       "18May2006Kyl214.txt    [[SEN., KYL, :, TEMPORARY, MEANS, TEMPORARY, S...   \n",
       "13Jun2006Kyl201.txt    [[SEN., KYL, INTRODUCES, LEGISLATION, TO, ADD,...   \n",
       "5May2006Kyl223.txt     [[SENS, .], [KYL, ,, FEINSTEIN, CALL, FOR, ELI...   \n",
       "28Nov2005Kyl293.txt    [[SEN., KYL, JOINS, BUSH, AT, TUCSON, BORDER, ...   \n",
       "14Dec2007Kyl44.txt     [[SENATE, CONFIRMS, DIANE, HUMETEWA, AS, U.S.,...   \n",
       "3May2004Kyl499.txt     [[SAVING, MONEY, ON, PRESCRIPTION, DRUGS, By, ...   \n",
       "17Sep2007Kyl70.txt     [[SEN., KYL, APPLAUDS, NOMINATION, OF, JUDGE, ...   \n",
       "25Jul2007Kyl81.txt     [[SEN., KYL, ,, SENATE, REPUBLICANS, INTRODUCE...   \n",
       "11Oct2004Kyl445.txt    [[SEN., KYL, ANNOUNCES, SENATE, PASSAGE, OF, M...   \n",
       "4Feb2008Kyl29.txt      [[STATE, OF, OUR, UNION, 2008, In, his, final,...   \n",
       "20Oct2005Kyl315.txt    [[SEN., KYL, GARNERS, $, 3.4, MILLION, FOR, AR...   \n",
       "19Dec2007Kyl38.txt     [[ARIZONA, LAWMAKERS, ANNOUNCE, REVERSAL, OF, ...   \n",
       "7Aug2006Kyl170.txt     [[FRONT, LINES, OF, WAR, ON, TERROR, For, the,...   \n",
       "9May2006Kyl221.txt     [[SEN., KYL, HAILS, TAX, RELIEF, AGREEMENT, Th...   \n",
       "9Jun2004Kyl492.txt     [[SEN., KYL, URGES, WORLD, COMMUNITY, TO, AID,...   \n",
       "18Sep2006Kyl159.txt    [[COURTESY, OF, A, VOTE, As, we, reach, the, e...   \n",
       "15Nov2006Kyl151.txt    [[SEN., KYL, ELECTED, CHAIRMAN, OF, SENATE, RE...   \n",
       "25Oct2004Kyl441.txt    [[GUARDING, THE, HOMELAND, -, AND, THE, TREASU...   \n",
       "1Feb2007Kyl130.txt     [[SEN., KYL, :, WE, CAN, NOT, UNDERCUT, OUR, T...   \n",
       "9Sep2005Kyl342.txt     [[SEN., KYL, 'S, WEB, SITE, OFFERS, GUIDANCE, ...   \n",
       "21Jun2004Kyl487.txt    [[SEN., KYL, PRAISES, INTERIOR, DEPTARTMENT, G...   \n",
       "26Apr2007Kyl104.txt    [[SEN., KYL, WILL, OPPOSE, EFFORTS, TO, REMOVE...   \n",
       "8Jul2004Kyl477.txt     [[SEN., KYL, JOINS, INTERIOR, SECRETARY, AT, S...   \n",
       "9Mar2006Kyl247.txt     [[SEN., KYL, APPLAUDS, TRIUMPH, OF, SECURITY, ...   \n",
       "...                                                                  ...   \n",
       "19Mar2007Kerry409.txt  [[Releases, 03, 19, 2007, On, Anniversary, of,...   \n",
       "20Dec2007Kerry8.txt    [[Releases, 12, 20, 2007, Kerry, Kennedy, Fran...   \n",
       "19Jun2007Kerry300.txt  [[Releases, 06, 19, 2007, Kerry, Support, Amer...   \n",
       "02Jun2005Kerry166.txt  [[Releases, 06, 02, 2005, Pepperell, Springs, ...   \n",
       "22Jun2007Kerry289.txt  [[Releases, 06, 22, 2007, Kerry, Says, Histori...   \n",
       "13Apr2007Kerry377.txt  [[Releases, 04, 13, 2007, Kerry, Says, White, ...   \n",
       "15Mar2007Kerry414.txt  [[Releases, 03, 15, 2007, Kerry, Pressures, Co...   \n",
       "05Apr2007Kerry386.txt  [[Releases, 04, 05, 2007, John, Kerry, to, Deb...   \n",
       "26Jan2006Kerry207.txt  [[Releases, 01, 26, 2006, John, Kerry, on, Pal...   \n",
       "04Sep2005Kerry87.txt   [[Releases, 09, 04, 2005, Senator, John, Kerry...   \n",
       "21Sep2005Kerry73.txt   [[Releases, 09, 21, 2005, Remarks, by, Senator...   \n",
       "18Sep2007Kerry153.txt  [[Releases, 09, 18, 2007, Kerry, Statement, on...   \n",
       "26Oct2005Kerry50.txt   [[Releases, 10, 26, 2005, Statement, from, Joh...   \n",
       "07Jul2005Kerry130.txt  [[Releases, 07, 07, 2005, Statement, from, Sen...   \n",
       "18Jun2007Kerry302.txt  [[Releases, 06, 18, 2007, Kerry, Says, He, ll,...   \n",
       "11Mar2007Kerry423.txt  [[Releases, 03, 11, 2007, West, Roxbury, and, ...   \n",
       "09May2007Kerry348.txt  [[Releases, 05, 09, 2007, Kerry, Says, Global,...   \n",
       "27Sep2006Kerry35.txt   [[Releases, 09, 27, 2006, FEINGOLD, KERRY, INT...   \n",
       "14Dec2007Kerry27.txt   [[Releases, 12, 14, 2007, Kerry, Statement, on...   \n",
       "28Sep2006Kerry34.txt   [[Releases, 09, 28, 2006, Kerry, Opposes, Sena...   \n",
       "15Mar2005Kerry232.txt  [[Releases, 03, 15, 2005, Senators, John, Kerr...   \n",
       "23May2007Kerry327.txt  [[Releases, 05, 23, 2007, Kerry, An, Iraq, Bil...   \n",
       "13Jan2006Kerry218.txt  [[Releases, 01, 13, 2006, Kerry, Stands, Up, t...   \n",
       "23May2006Kerry126.txt  [[Releases, 05, 23, 2006, John, Kerry, Fights,...   \n",
       "22Mar2005Kerry222.txt  [[Releases, 03, 22, 2005, John, Kerry, on, EPA...   \n",
       "14Jun2007Kerry310.txt  [[Releases, 06, 14, 2007, Kerry, Tells, White,...   \n",
       "12Mar2007Kerry422.txt  [[Releases, 03, 12, 2007, Kerry, calls, for, t...   \n",
       "14Jun2007Kerry311.txt  [[Releases, 06, 14, 2007, Kerry, on, defeat, o...   \n",
       "13Nov2007Kerry55.txt   [[Releases, 11, 13, 2007, Kerry, Chairs, Heari...   \n",
       "05Sep2007Kerry174.txt  [[Releases, 09, 05, 2007, Kerry, on, reopening...   \n",
       "\n",
       "                                                        normalized_sents  \n",
       "17Mar2005Kyl399.txt    [[kyl, criticizes, mexican, president, threats...  \n",
       "4Feb2008Kyl28.txt      [[state, union, final, state, union, address, ...  \n",
       "30May2006Kyl209.txt    [[securing, border, must, come, first, problem...  \n",
       "8Feb2006Kyl264.txt     [[kyl, concerned, new, budget, leaves, arizona...  \n",
       "11Oct2004Kyl447.txt    [[kyl, congratulates, nobel, laureate, jon, ky...  \n",
       "17Apr2006Kyl231.txt    [[protecting, children, abuse, neglect, childr...  \n",
       "18May2006Kyl214.txt    [[kyl, temporary, means, temporary, jon, kyl, ...  \n",
       "13Jun2006Kyl201.txt    [[kyl, introduces, legislation, add, land, las...  \n",
       "5May2006Kyl223.txt     [[sens], [kyl, feinstein, call, eliminating, e...  \n",
       "28Nov2005Kyl293.txt    [[kyl, joins, bush, tucson, border, briefing, ...  \n",
       "14Dec2007Kyl44.txt     [[senate, confirms, diane, humetewa, attorney,...  \n",
       "3May2004Kyl499.txt     [[saving, money, prescription, drugs, jon, kyl...  \n",
       "17Sep2007Kyl70.txt     [[kyl, applauds, nomination, judge, mukasey, a...  \n",
       "25Jul2007Kyl81.txt     [[kyl, senate, republicans, introduce, legisla...  \n",
       "11Oct2004Kyl445.txt    [[kyl, announces, senate, passage, major, ariz...  \n",
       "4Feb2008Kyl29.txt      [[state, union, final, state, union, address, ...  \n",
       "20Oct2005Kyl315.txt    [[kyl, garners, million, arizona, training, pr...  \n",
       "19Dec2007Kyl38.txt     [[arizona, lawmakers, announce, reversal, fema...  \n",
       "7Aug2006Kyl170.txt     [[front, lines, war, terror, past, several, we...  \n",
       "9May2006Kyl221.txt     [[kyl, hails, tax, relief, agreement, conferen...  \n",
       "9Jun2004Kyl492.txt     [[kyl, urges, world, community, aid, reconstru...  \n",
       "18Sep2006Kyl159.txt    [[courtesy, vote, reach, end, congressional, s...  \n",
       "15Nov2006Kyl151.txt    [[kyl, elected, chairman, senate, republican, ...  \n",
       "25Oct2004Kyl441.txt    [[guarding, homeland, treasury, challenge, bud...  \n",
       "1Feb2007Kyl130.txt     [[kyl, undercut, troops, following, excerpts, ...  \n",
       "9Sep2005Kyl342.txt     [[kyl, web, site, offers, guidance, helping, v...  \n",
       "21Jun2004Kyl487.txt    [[kyl, praises, interior, deptartment, grants,...  \n",
       "26Apr2007Kyl104.txt    [[kyl, oppose, efforts, remove, restrictions, ...  \n",
       "8Jul2004Kyl477.txt     [[kyl, joins, interior, secretary, signing, zu...  \n",
       "9Mar2006Kyl247.txt     [[kyl, applauds, triumph, security, partisansh...  \n",
       "...                                                                  ...  \n",
       "19Mar2007Kerry409.txt  [[releases, anniversary, iraq, war, kerry, tel...  \n",
       "20Dec2007Kerry8.txt    [[releases, kerry, kennedy, frank, announce, f...  \n",
       "19Jun2007Kerry300.txt  [[releases, kerry, support, america, workers, ...  \n",
       "02Jun2005Kerry166.txt  [[releases, pepperell, springs, conservation, ...  \n",
       "22Jun2007Kerry289.txt  [[releases, kerry, says, historic, energy, bil...  \n",
       "13Apr2007Kerry377.txt  [[releases, kerry, says, white, house, promote...  \n",
       "15Mar2007Kerry414.txt  [[releases, kerry, pressures, coast, guard, bi...  \n",
       "05Apr2007Kerry386.txt  [[releases, john, kerry, debate, newt, gingric...  \n",
       "26Jan2006Kerry207.txt  [[releases, john, kerry, palestinian, election...  \n",
       "04Sep2005Kerry87.txt   [[releases, senator, john, kerry, passing, chi...  \n",
       "21Sep2005Kerry73.txt   [[releases, remarks, senator, john, kerry, opp...  \n",
       "18Sep2007Kerry153.txt  [[releases, kerry, statement, florida, campus,...  \n",
       "26Oct2005Kerry50.txt   [[releases, statement, john, kerry, loss, amer...  \n",
       "07Jul2005Kerry130.txt  [[releases, statement, senator, john, kerry, t...  \n",
       "18Jun2007Kerry302.txt  [[releases, kerry, says, filibuster, republica...  \n",
       "11Mar2007Kerry423.txt  [[releases, west, roxbury, new, bedford, senat...  \n",
       "09May2007Kerry348.txt  [[releases, kerry, says, global, warming, pose...  \n",
       "27Sep2006Kerry35.txt   [[releases, feingold, kerry, introduce, resolu...  \n",
       "14Dec2007Kerry27.txt   [[releases, kerry, statement, bali, climate, c...  \n",
       "28Sep2006Kerry34.txt   [[releases, kerry, opposes, senate, failure, t...  \n",
       "15Mar2005Kerry232.txt  [[releases, senators, john, kerry, maria, cant...  \n",
       "23May2007Kerry327.txt  [[releases, kerry, iraq, bill, without, deadli...  \n",
       "13Jan2006Kerry218.txt  [[releases, kerry, stands, administration, eff...  \n",
       "23May2006Kerry126.txt  [[releases, john, kerry, fights, protect, vete...  \n",
       "22Mar2005Kerry222.txt  [[releases, john, kerry, epa, hiding, harvard,...  \n",
       "14Jun2007Kerry310.txt  [[releases, kerry, tells, white, house, attack...  \n",
       "12Mar2007Kerry422.txt  [[releases, kerry, calls, thorough, investigat...  \n",
       "14Jun2007Kerry311.txt  [[releases, kerry, defeat, sex, marriage, ban,...  \n",
       "13Nov2007Kerry55.txt   [[releases, kerry, chairs, hearing, global, cl...  \n",
       "05Sep2007Kerry174.txt  [[releases, kerry, reopening, new, comeau, bri...  \n",
       "\n",
       "[396 rows x 4 columns]"
      ]
     },
     "execution_count": 43,
     "metadata": {},
     "output_type": "execute_result"
    }
   ],
   "source": [
    "senReleasesDF[sample_indices == i]"
   ]
  },
  {
   "cell_type": "code",
   "execution_count": 39,
   "metadata": {},
   "outputs": [
    {
     "name": "stdout",
     "output_type": "stream",
     "text": [
      "[0.99978143 0.99886113 0.99295092 0.99954009 0.99937177 0.99330014\n",
      " 0.99497122 0.99520278 0.9994607  0.99742031]\n",
      "[364. 378. 415. 393. 394. 398. 428. 359. 379. 396.]\n"
     ]
    }
   ],
   "source": [
    "n_samples = 10\n",
    "sample_indices = np.random.randint(0,n_samples,(len(senReleasesDF),))\n",
    "\n",
    "s_k =np.array([])\n",
    "tau_k=np.array([])\n",
    "\n",
    "for i in range(n_samples):\n",
    "    sample_w2v = gensim.models.word2vec.Word2Vec(senReleasesDF[sample_indices == i]['normalized_sents'].sum())\n",
    "    try:\n",
    "        #Need to use words present in most samples\n",
    "        s_k = np.append(s_k, cos_difference(sample_w2v, 'war', 'responsibility')[0,0])\n",
    "    except KeyError:\n",
    "        pass\n",
    "    else:\n",
    "        tau_k = np.append(tau_k, len(senReleasesDF[sample_indices == i]))\n",
    "\n",
    "print(s_k)\n",
    "print(tau_k)\n",
    "\n",
    "tau = tau_k.sum()\n",
    "s = s_k.mean()\n",
    "B_k = np.sqrt(tau_k) * s_k-s_k.mean()"
   ]
  },
  {
   "cell_type": "code",
   "execution_count": 44,
   "metadata": {},
   "outputs": [
    {
     "name": "stdout",
     "output_type": "stream",
     "text": [
      "The 90% confidence interval for the cosine distance between war and responsibility is:\n",
      " 0.7016355512422501 0.7022332148801056\n"
     ]
    }
   ],
   "source": [
    "print(\"The 90% confidence interval for the cosine distance between war and responsibility is:\\n\",s-B_k[-2]/np.sqrt(tau), s-B_k[1]/np.sqrt(tau))"
   ]
  },
  {
   "cell_type": "markdown",
   "metadata": {},
   "source": [
    "We can also save the vectors for later use:"
   ]
  },
  {
   "cell_type": "code",
   "execution_count": 45,
   "metadata": {},
   "outputs": [],
   "source": [
    "senReleasesW2V.save(\"senpressreleasesWORD2Vec.mm\")\n",
    "#Load with senReleasesW2V = gensim.models.word2vec.Word2Vec.load('senpressreleasesWORD2Vec.mm')"
   ]
  },
  {
   "cell_type": "markdown",
   "metadata": {},
   "source": [
    "## Visualize"
   ]
  },
  {
   "cell_type": "markdown",
   "metadata": {},
   "source": [
    "We can also use dimension reduction to visulize the vectors. We will start by selecting a subset we want to plot. Let's look at the top words from the set:"
   ]
  },
  {
   "cell_type": "code",
   "execution_count": 51,
   "metadata": {},
   "outputs": [],
   "source": [
    "numWords = 150\n",
    "targetWords = senReleasesW2V.wv.index2word[:numWords]"
   ]
  },
  {
   "cell_type": "markdown",
   "metadata": {},
   "source": [
    "We can then extract their vectors and create our own smaller matrix that preserved the distances from the original:"
   ]
  },
  {
   "cell_type": "code",
   "execution_count": 52,
   "metadata": {},
   "outputs": [
    {
     "data": {
      "text/plain": [
       "array([[-0.94120795, -1.8400685 , -1.3218987 , ...,  0.13542643,\n",
       "        -0.50177014, -0.86544496],\n",
       "       [-0.94934297,  0.43845165, -0.9425724 , ..., -0.6209691 ,\n",
       "         0.8019852 ,  1.3230622 ],\n",
       "       [-2.432587  , -0.04964406,  0.48183766, ...,  2.3541257 ,\n",
       "        -1.2899616 ,  0.47361198],\n",
       "       ...,\n",
       "       [-0.7458146 ,  0.41669658,  0.6002132 , ..., -1.8028432 ,\n",
       "        -1.1281102 , -1.7471681 ],\n",
       "       [-0.32803816, -0.4299144 , -0.49309182, ...,  0.9839894 ,\n",
       "         0.4961773 ,  0.03256946],\n",
       "       [ 0.6929918 ,  0.07891822, -0.29634103, ..., -0.48087245,\n",
       "         0.24238855,  0.4636628 ]], dtype=float32)"
      ]
     },
     "execution_count": 52,
     "metadata": {},
     "output_type": "execute_result"
    }
   ],
   "source": [
    "wordsSubMatrix = []\n",
    "for word in targetWords:\n",
    "    wordsSubMatrix.append(senReleasesW2V[word])\n",
    "wordsSubMatrix = np.array(wordsSubMatrix)\n",
    "wordsSubMatrix"
   ]
  },
  {
   "cell_type": "markdown",
   "metadata": {},
   "source": [
    "Then we can use PCA to reduce the dimesions (e.g., to 50), and [T-SNE](https://en.wikipedia.org/wiki/T-distributed_stochastic_neighbor_embedding) to project them down to the two we will visualize. We note that this is nondeterministic process, and so you can repeat and achieve alternative projectsions/visualizations of the words:"
   ]
  },
  {
   "cell_type": "code",
   "execution_count": 53,
   "metadata": {},
   "outputs": [],
   "source": [
    "pcaWords = sklearn.decomposition.PCA(n_components = 50).fit(wordsSubMatrix)\n",
    "reducedPCA_data = pcaWords.transform(wordsSubMatrix)\n",
    "#T-SNE is theoretically better, but you should experiment\n",
    "tsneWords = sklearn.manifold.TSNE(n_components = 2, early_exaggeration = 25).fit_transform(reducedPCA_data)"
   ]
  },
  {
   "cell_type": "markdown",
   "metadata": {},
   "source": [
    "We now can plot the points"
   ]
  },
  {
   "cell_type": "code",
   "execution_count": 54,
   "metadata": {},
   "outputs": [
    {
     "data": {
      "image/png": "[encoded data removed]",
      "text/plain": [
       "<matplotlib.figure.Figure at 0x7fd7ce7a9208>"
      ]
     },
     "metadata": {},
     "output_type": "display_data"
    }
   ],
   "source": [
    "fig = plt.figure(figsize = (15,10))\n",
    "ax = fig.add_subplot(111)\n",
    "ax.set_frame_on(False)\n",
    "plt.scatter(tsneWords[:, 0], tsneWords[:, 1], alpha = 0)#Making the points invisible \n",
    "for i, word in enumerate(targetWords):\n",
    "    ax.annotate(word, \n",
    "                (tsneWords[:, 0][i],tsneWords[:, 1][i]), \n",
    "                size =  20 * (numWords - i) / numWords, \n",
    "                alpha = .8 * (numWords - i) / numWords + .2)\n",
    "plt.xticks(())\n",
    "plt.yticks(())\n",
    "plt.show()"
   ]
  },
  {
   "cell_type": "markdown",
   "metadata": {},
   "source": [
    "My visualization above puts ``iraq`` next to ``time`` and ``bill`` near ``help``. <img src='../data/examplewordcloud.svg'>"
   ]
  },
  {
   "cell_type": "markdown",
   "metadata": {},
   "source": [
    "What if a new senator come along with whose names starts with K? Could we analyse their releases too without rerunning the entire embedding? Lets try with Cardin in `../data/grimmerPressReleases_extra/Cardin`. First we need to load and proccess the releases:"
   ]
  },
  {
   "cell_type": "code",
   "execution_count": null,
   "metadata": {},
   "outputs": [],
   "source": [
    "cardinDF = lucem_illud.loadTextDirectory('../data/grimmerPressReleases_extra/Cardin')\n",
    "cardinDF['category'] = 'Cardin'\n",
    "\n",
    "cardinDF['tokenized_sents'] = cardinDF['text'].apply(lambda x: \n",
    "                                                               [nltk.word_tokenize(s) for s in nltk.sent_tokenize(x)])\n",
    "cardinDF['normalized_sents'] = cardinDF['tokenized_sents'].apply(lambda x: \n",
    "                                                                           [lucem_illud.normalizeTokens(s, \n",
    "                                                                                           stopwordLst = lucem_illud.stop_words_basic, \n",
    "                                                                                           stemmer = None) \n",
    "                                                                            for s in x])\n",
    "\n",
    "cardinDF[:10]"
   ]
  },
  {
   "cell_type": "markdown",
   "metadata": {},
   "source": [
    "We can now merge Cardin's releases with the rest. This can update all the weights in *w2v* model, so be careful."
   ]
  },
  {
   "cell_type": "code",
   "execution_count": null,
   "metadata": {},
   "outputs": [],
   "source": [
    "#This is using a newer API so we have to tell it a little bit more for it to work right\n",
    "senReleasesW2V.build_vocab(cardinDF['normalized_sents'].sum(), update=True)\n",
    "senReleasesW2V.train(cardinDF['normalized_sents'].sum(), \n",
    "                     total_examples=senReleasesW2V.corpus_count, \n",
    "                     epochs=senReleasesW2V.iter)\n",
    "senReleasesW2V.save(\"senpressreleasesWORD2Vec_new.mm\")"
   ]
  },
  {
   "cell_type": "markdown",
   "metadata": {},
   "source": [
    "As the model is updated by this, we need to load our old copy to do a comparison."
   ]
  },
  {
   "cell_type": "code",
   "execution_count": null,
   "metadata": {},
   "outputs": [],
   "source": [
    "senReleasesW2V_old = gensim.models.word2vec.Word2Vec.load('senpressreleasesWORD2Vec.mm')"
   ]
  },
  {
   "cell_type": "code",
   "execution_count": null,
   "metadata": {},
   "outputs": [],
   "source": [
    "print(\"A {} dimesional vector:\".format(senReleasesW2V['president'].shape[0]))\n",
    "senReleasesW2V['president'][:10]"
   ]
  },
  {
   "cell_type": "code",
   "execution_count": null,
   "metadata": {},
   "outputs": [],
   "source": [
    "print(\"A {} dimesional vector:\".format(senReleasesW2V_old['president'].shape[0]))\n",
    "senReleasesW2V_old['president'][:10]"
   ]
  },
  {
   "cell_type": "code",
   "execution_count": null,
   "metadata": {},
   "outputs": [],
   "source": [
    "(senReleasesW2V_old['president'] - senReleasesW2V['president'])[:10]"
   ]
  },
  {
   "cell_type": "markdown",
   "metadata": {},
   "source": [
    "As you can see the vector for 'president' has changed a little bit and the word cloud should also be a bit different too"
   ]
  },
  {
   "cell_type": "code",
   "execution_count": null,
   "metadata": {},
   "outputs": [],
   "source": [
    "pcaWords = sklearn.decomposition.PCA(n_components = 50).fit(wordsSubMatrix)\n",
    "reducedPCA_data = pcaWords.transform(wordsSubMatrix)\n",
    "#T-SNE is theoretically better, but you should experiment\n",
    "tsneWords = sklearn.manifold.TSNE(n_components = 2, early_exaggeration = 25).fit_transform(reducedPCA_data)"
   ]
  },
  {
   "cell_type": "code",
   "execution_count": null,
   "metadata": {},
   "outputs": [],
   "source": [
    "fig = plt.figure(figsize = (15,10))\n",
    "ax = fig.add_subplot(111)\n",
    "ax.set_frame_on(False)\n",
    "plt.scatter(tsneWords[:, 0], tsneWords[:, 1], alpha = 0)#Making the points invisible \n",
    "for i, word in enumerate(targetWords):\n",
    "    ax.annotate(word, \n",
    "                (tsneWords[:, 0][i],tsneWords[:, 1][i]), \n",
    "                size =  20 * (numWords - i) / numWords, \n",
    "                alpha = .8 * (numWords - i) / numWords + .2)\n",
    "plt.xticks(())\n",
    "plt.yticks(())\n",
    "plt.show()"
   ]
  },
  {
   "cell_type": "markdown",
   "metadata": {},
   "source": [
    "Another thing to consider in training is how we know that our parameters for the model are correct. We can do this by looking at the training loss of the model. Let's tart by training a new model, but this time we will expose most of the options and train it one epoch at a time. Look [here](https://radimrehurek.com/gensim/models/word2vec.html#gensim.models.word2vec.Word2Vec) for more detail: "
   ]
  },
  {
   "cell_type": "code",
   "execution_count": null,
   "metadata": {},
   "outputs": [],
   "source": [
    "senReleasesW2V_loss = gensim.models.word2vec.Word2Vec(size = 100, #dimensions\n",
    "                                                      alpha=0.025,\n",
    "                                                      window=5,\n",
    "                                                      min_count=5,\n",
    "                                                      hs=0,  #hierarchical softmax toggle\n",
    "                                                      compute_loss = True,\n",
    "                                                     )\n",
    "senReleasesW2V_loss.build_vocab(senReleasesDF['normalized_sents'].sum())\n",
    "senReleasesW2V_loss.train(senReleasesDF['normalized_sents'].sum(), \n",
    "                     total_examples=senReleasesW2V.corpus_count, \n",
    "                     epochs=1, #This the running_training_loss is a total so we have to do 1 epoch at a time\n",
    "                    )\n",
    "#Using a list so we can capture every epoch\n",
    "losses = [senReleasesW2V_loss.running_training_loss]\n",
    "losses[0]"
   ]
  },
  {
   "cell_type": "markdown",
   "metadata": {},
   "source": [
    "Now we have the training loss and can optimize training to minimize it."
   ]
  },
  {
   "cell_type": "code",
   "execution_count": null,
   "metadata": {},
   "outputs": [],
   "source": [
    "for i in range(19):\n",
    "    senReleasesW2V_loss.train(senReleasesDF['normalized_sents'].sum(), \n",
    "                     total_examples=senReleasesW2V.corpus_count, \n",
    "                     epochs=1,\n",
    "                             )\n",
    "    losses.append(senReleasesW2V_loss.running_training_loss)\n",
    "    print(\"Done epoch {}\".format(i + 2), end = '\\r')"
   ]
  },
  {
   "cell_type": "markdown",
   "metadata": {},
   "source": [
    "Lets plot the loss vs epoch"
   ]
  },
  {
   "cell_type": "code",
   "execution_count": null,
   "metadata": {},
   "outputs": [],
   "source": [
    "lossesDF = pandas.DataFrame({'loss' : losses, 'epoch' : range(len(losses))})\n",
    "lossesDF.plot(y = 'loss', x = 'epoch', logy=False, figsize=(15, 7))\n",
    "plt.show()"
   ]
  },
  {
   "cell_type": "markdown",
   "metadata": {},
   "source": [
    "You should see that the loss is almost monotonic, but that the rate decreases as epoch increases. Since we are testing on our training data monotonicity is a common result and we must try to avoid over fitting. A simple way to do this is to stop training when there is significant change in the rate of decrease. In this run, that looks to be approximately 8 or 9. If we were to do another analysis, we might use an `iter=9` instead of the default 5."
   ]
  },
  {
   "cell_type": "markdown",
   "metadata": {},
   "source": [
    "Even more culturally interesting is how many dimensions are required to achieve an optimal embedding. The use of words in complex ways and contradictory contexts will require more dimensions to represent them with integrity. For example, if one word, $w_a$, is \"nearby\" $w_b$, but $w_b$ is not near the other words beside $w_a$, then a new dimension will be required for the two words to be uniquely together. "
   ]
  },
  {
   "cell_type": "code",
   "execution_count": null,
   "metadata": {},
   "outputs": [],
   "source": [
    "losses_dims=[]\n",
    "\n",
    "for d in [50,100,150,200,250,300,350,400,450,500, 550, 600, 650, 700, 750]:\n",
    "    senReleasesW2V_loss_dims = gensim.models.word2vec.Word2Vec(size = d, #dimensions\n",
    "                                                      alpha=0.025,\n",
    "                                                      window=5,\n",
    "                                                      min_count=5,\n",
    "                                                      hs=0,  #hierarchical softmax toggle\n",
    "                                                      compute_loss = True,\n",
    "                                                     )\n",
    "    senReleasesW2V_loss_dims.build_vocab(senReleasesDF['normalized_sents'].sum())\n",
    "    senReleasesW2V_loss_dims.train(senReleasesDF['normalized_sents'].sum(), \n",
    "                     total_examples=senReleasesW2V.corpus_count, \n",
    "                     epochs=7, #This the running_training_loss is a total so we have to do 1 epoch at a time\n",
    "                    )\n",
    "    senReleasesW2V_loss_dims.train(senReleasesDF['normalized_sents'].sum(), \n",
    "                     total_examples=senReleasesW2V.corpus_count, \n",
    "                     epochs=1, #This the running_training_loss is a total so we have to do 1 epoch at a time\n",
    "                    )\n",
    "    \n",
    "    losses_dims.append(senReleasesW2V_loss_dims.running_training_loss/(10+d*10))"
   ]
  },
  {
   "cell_type": "code",
   "execution_count": null,
   "metadata": {},
   "outputs": [],
   "source": [
    "losses_dimsDF = pandas.DataFrame({'loss' : losses_dims, 'dimensions' : [50,100,150,200,250,300,350,400,450,500,550,600,650,700,750]})\n",
    "losses_dimsDF.plot(y = 'loss', x = 'dimensions', logy=False, figsize=(15, 7))\n",
    "plt.show()"
   ]
  },
  {
   "cell_type": "markdown",
   "metadata": {},
   "source": [
    "This is a work in progress for Gensim, but its clear that most of the word distance variation is captured by 300 dimensions."
   ]
  },
  {
   "cell_type": "markdown",
   "metadata": {},
   "source": [
    "# Chinese examples"
   ]
  },
  {
   "cell_type": "code",
   "execution_count": 25,
   "metadata": {},
   "outputs": [],
   "source": [
    "model=gensim.models.Word2Vec.load('../data/1992embeddings_hs_new3.sg')"
   ]
  },
  {
   "cell_type": "markdown",
   "metadata": {},
   "source": [
    "## analogy\n",
    "\n",
    "King+man-Queen? A few examples based on a corpus of Chinese news. \n",
    "\n",
    "First, location analogy: **province -> capital**"
   ]
  },
  {
   "cell_type": "code",
   "execution_count": 26,
   "metadata": {},
   "outputs": [
    {
     "name": "stdout",
     "output_type": "stream",
     "text": [
      "西安 0.36609965562820435\n",
      "Xi'an\n"
     ]
    }
   ],
   "source": [
    "mm = model.most_similar(positive=[u'长沙',u'陕西'], negative=[u'湖南']) # Changsha + Shaanxi - Hunan\n",
    "for m in mm:\n",
    "    print(m[0],m[1])\n",
    "    print(\"Xi'an\")\n",
    "    break"
   ]
  },
  {
   "cell_type": "code",
   "execution_count": 27,
   "metadata": {},
   "outputs": [
    {
     "name": "stdout",
     "output_type": "stream",
     "text": [
      "武汉 0.3677000403404236\n",
      "Wuhan\n"
     ]
    }
   ],
   "source": [
    "mm = model.most_similar(positive=[u'广州',u'湖北'], negative=[u'广东']) # Guangzhou + Hubei - Guangdong\n",
    "for m in mm:\n",
    "    print(m[0],m[1])\n",
    "    print(\"Wuhan\")\n",
    "    break"
   ]
  },
  {
   "cell_type": "markdown",
   "metadata": {},
   "source": [
    "Second, location analogy: **country -> capital**"
   ]
  },
  {
   "cell_type": "code",
   "execution_count": 28,
   "metadata": {},
   "outputs": [
    {
     "name": "stdout",
     "output_type": "stream",
     "text": [
      "华盛顿 0.508813738822937\n",
      "(Washington DC)\n"
     ]
    }
   ],
   "source": [
    "mm = model.most_similar(positive=[u'东京',u'美国'], negative=[u'日本']) # Tokyo + US - Japan\n",
    "for m in mm:\n",
    "    print(m[0],m[1])\n",
    "    print(\"(Washington DC)\")\n",
    "    break"
   ]
  },
  {
   "cell_type": "markdown",
   "metadata": {},
   "source": [
    "## similar words"
   ]
  },
  {
   "cell_type": "code",
   "execution_count": 29,
   "metadata": {},
   "outputs": [
    {
     "name": "stdout",
     "output_type": "stream",
     "text": [
      "the most similar words to 社会主义 is: \n",
      "特色\n",
      "市场经济\n",
      "理论\n",
      "建设\n",
      "改革开放\n",
      "马克思主义\n",
      "党\n",
      "经济体制\n",
      "基本路线\n",
      "现代化\n",
      "\n"
     ]
    }
   ],
   "source": [
    "word = u'社会主义'  #socialism\n",
    "ss = model.similar_by_word(word,topn=10)\n",
    "print(\"the most similar words to \" + word + \" is: \")\n",
    "for s in ss:\n",
    "    print(s[0])\n",
    "print(\"\")"
   ]
  },
  {
   "cell_type": "code",
   "execution_count": 30,
   "metadata": {},
   "outputs": [
    {
     "name": "stdout",
     "output_type": "stream",
     "text": [
      "the most similar words to 玉米 is: \n",
      "小麦\n",
      "水稻\n",
      "作物\n",
      "棉花\n",
      "新品种\n",
      "杂交\n",
      "大豆\n",
      "增产\n",
      "栽培\n",
      "农作物\n",
      "\n"
     ]
    }
   ],
   "source": [
    "word = u'玉米'  # corn\n",
    "ss = model.similar_by_word(word,topn=10)\n",
    "print(\"the most similar words to \" + word + \" is: \")\n",
    "for s in ss:\n",
    "    print(s[0])\n",
    "print(\"\")"
   ]
  },
  {
   "cell_type": "markdown",
   "metadata": {},
   "source": [
    "## <span style=\"color:red\">*Exercise 1*</span>\n",
    "\n",
    "<span style=\"color:red\">Construct cells immediately below this that build a word2vec model with your corpus. Interrogate word relationships in the resulting space, including estimating 90% confidence intervals for specific word cosine distances of interest. Plot a subset of your words. What do these word relationships reveal about the *social* and *cultural game* underlying your corpus? What was surprising--what violated your prior understanding of the corpus? What was expected--what confirmed your knowledge about this domain?"
   ]
  },
  {
   "cell_type": "code",
   "execution_count": 2,
   "metadata": {},
   "outputs": [
    {
     "data": {
      "text/html": [
       "<div>\n",
       "<style scoped>\n",
       "    .dataframe tbody tr th:only-of-type {\n",
       "        vertical-align: middle;\n",
       "    }\n",
       "\n",
       "    .dataframe tbody tr th {\n",
       "        vertical-align: top;\n",
       "    }\n",
       "\n",
       "    .dataframe thead th {\n",
       "        text-align: right;\n",
       "    }\n",
       "</style>\n",
       "<table border=\"1\" class=\"dataframe\">\n",
       "  <thead>\n",
       "    <tr style=\"text-align: right;\">\n",
       "      <th></th>\n",
       "      <th>category</th>\n",
       "      <th>date</th>\n",
       "      <th>text</th>\n",
       "      <th>title</th>\n",
       "      <th>url</th>\n",
       "    </tr>\n",
       "  </thead>\n",
       "  <tbody>\n",
       "    <tr>\n",
       "      <th>0</th>\n",
       "      <td>taiwan</td>\n",
       "      <td>2017/12/31</td>\n",
       "      <td>The Ministry of Foreign Affairs yesterday dism...</td>\n",
       "      <td>Ministry denies hiding flawed passports</td>\n",
       "      <td>http://www.taipeitimes.com/News/taiwan/archive...</td>\n",
       "    </tr>\n",
       "    <tr>\n",
       "      <th>1</th>\n",
       "      <td>taiwan</td>\n",
       "      <td>2017/12/31</td>\n",
       "      <td>The Ministry of Foreign Affairs' swift demotio...</td>\n",
       "      <td>IN FOCUS: Diplomat's dismissal not political p...</td>\n",
       "      <td>http://www.taipeitimes.com/News/taiwan/archive...</td>\n",
       "    </tr>\n",
       "    <tr>\n",
       "      <th>2</th>\n",
       "      <td>taiwan</td>\n",
       "      <td>2017/12/31</td>\n",
       "      <td>Premier William Lai (') on Friday said he hope...</td>\n",
       "      <td>DPP outlines priorities for special legislativ...</td>\n",
       "      <td>http://www.taipeitimes.com/News/taiwan/archive...</td>\n",
       "    </tr>\n",
       "    <tr>\n",
       "      <th>3</th>\n",
       "      <td>taiwan</td>\n",
       "      <td>2017/12/31</td>\n",
       "      <td>The results of a Democratic Progressive Party ...</td>\n",
       "      <td>DPP challenges labor rules poll with its own n...</td>\n",
       "      <td>http://www.taipeitimes.com/News/taiwan/archive...</td>\n",
       "    </tr>\n",
       "    <tr>\n",
       "      <th>4</th>\n",
       "      <td>taiwan</td>\n",
       "      <td>2017/12/31</td>\n",
       "      <td>The Presidential Office has denied claims made...</td>\n",
       "      <td>Local firm not involved in N Korea oil transfe...</td>\n",
       "      <td>http://www.taipeitimes.com/News/taiwan/archive...</td>\n",
       "    </tr>\n",
       "    <tr>\n",
       "      <th>5</th>\n",
       "      <td>taiwan</td>\n",
       "      <td>2017/12/31</td>\n",
       "      <td>The Legislative Yuan on Friday passed amendmen...</td>\n",
       "      <td>Students at experimental schools gain recognition</td>\n",
       "      <td>http://www.taipeitimes.com/News/taiwan/archive...</td>\n",
       "    </tr>\n",
       "    <tr>\n",
       "      <th>6</th>\n",
       "      <td>taiwan</td>\n",
       "      <td>2017/12/31</td>\n",
       "      <td>Poor air quality affects not only people's lun...</td>\n",
       "      <td>Poor air quality linked to insomnia and depres...</td>\n",
       "      <td>http://www.taipeitimes.com/News/taiwan/archive...</td>\n",
       "    </tr>\n",
       "    <tr>\n",
       "      <th>7</th>\n",
       "      <td>taiwan</td>\n",
       "      <td>2017/12/31</td>\n",
       "      <td>The nation's development in the past was guide...</td>\n",
       "      <td>Poet warns against foreign culture</td>\n",
       "      <td>http://www.taipeitimes.com/News/taiwan/archive...</td>\n",
       "    </tr>\n",
       "    <tr>\n",
       "      <th>8</th>\n",
       "      <td>taiwan</td>\n",
       "      <td>2017/12/31</td>\n",
       "      <td>As per tradition, many of the nation's compani...</td>\n",
       "      <td>FEATURE: Taiwanese firms return to desk calend...</td>\n",
       "      <td>http://www.taipeitimes.com/News/taiwan/archive...</td>\n",
       "    </tr>\n",
       "    <tr>\n",
       "      <th>9</th>\n",
       "      <td>taiwan</td>\n",
       "      <td>2017/12/31</td>\n",
       "      <td>A Taichung man who lost his memory has been di...</td>\n",
       "      <td>Man's sudden-onset amnesia linked to septicemi...</td>\n",
       "      <td>http://www.taipeitimes.com/News/taiwan/archive...</td>\n",
       "    </tr>\n",
       "  </tbody>\n",
       "</table>\n",
       "</div>"
      ],
      "text/plain": [
       "  category        date                                               text  \\\n",
       "0   taiwan  2017/12/31  The Ministry of Foreign Affairs yesterday dism...   \n",
       "1   taiwan  2017/12/31  The Ministry of Foreign Affairs' swift demotio...   \n",
       "2   taiwan  2017/12/31  Premier William Lai (') on Friday said he hope...   \n",
       "3   taiwan  2017/12/31  The results of a Democratic Progressive Party ...   \n",
       "4   taiwan  2017/12/31  The Presidential Office has denied claims made...   \n",
       "5   taiwan  2017/12/31  The Legislative Yuan on Friday passed amendmen...   \n",
       "6   taiwan  2017/12/31  Poor air quality affects not only people's lun...   \n",
       "7   taiwan  2017/12/31  The nation's development in the past was guide...   \n",
       "8   taiwan  2017/12/31  As per tradition, many of the nation's compani...   \n",
       "9   taiwan  2017/12/31  A Taichung man who lost his memory has been di...   \n",
       "\n",
       "                                               title  \\\n",
       "0            Ministry denies hiding flawed passports   \n",
       "1  IN FOCUS: Diplomat's dismissal not political p...   \n",
       "2  DPP outlines priorities for special legislativ...   \n",
       "3  DPP challenges labor rules poll with its own n...   \n",
       "4  Local firm not involved in N Korea oil transfe...   \n",
       "5  Students at experimental schools gain recognition   \n",
       "6  Poor air quality linked to insomnia and depres...   \n",
       "7                 Poet warns against foreign culture   \n",
       "8  FEATURE: Taiwanese firms return to desk calend...   \n",
       "9  Man's sudden-onset amnesia linked to septicemi...   \n",
       "\n",
       "                                                 url  \n",
       "0  http://www.taipeitimes.com/News/taiwan/archive...  \n",
       "1  http://www.taipeitimes.com/News/taiwan/archive...  \n",
       "2  http://www.taipeitimes.com/News/taiwan/archive...  \n",
       "3  http://www.taipeitimes.com/News/taiwan/archive...  \n",
       "4  http://www.taipeitimes.com/News/taiwan/archive...  \n",
       "5  http://www.taipeitimes.com/News/taiwan/archive...  \n",
       "6  http://www.taipeitimes.com/News/taiwan/archive...  \n",
       "7  http://www.taipeitimes.com/News/taiwan/archive...  \n",
       "8  http://www.taipeitimes.com/News/taiwan/archive...  \n",
       "9  http://www.taipeitimes.com/News/taiwan/archive...  "
      ]
     },
     "execution_count": 2,
     "metadata": {},
     "output_type": "execute_result"
    }
   ],
   "source": [
    "TWNewsDF = pandas.read_csv('../data/TWNews.txt', sep = \"|\", header = 0)\n",
    "TWNewsDF[:10]"
   ]
  },
  {
   "cell_type": "code",
   "execution_count": 3,
   "metadata": {},
   "outputs": [
    {
     "data": {
      "text/html": [
       "<div>\n",
       "<style scoped>\n",
       "    .dataframe tbody tr th:only-of-type {\n",
       "        vertical-align: middle;\n",
       "    }\n",
       "\n",
       "    .dataframe tbody tr th {\n",
       "        vertical-align: top;\n",
       "    }\n",
       "\n",
       "    .dataframe thead th {\n",
       "        text-align: right;\n",
       "    }\n",
       "</style>\n",
       "<table border=\"1\" class=\"dataframe\">\n",
       "  <thead>\n",
       "    <tr style=\"text-align: right;\">\n",
       "      <th></th>\n",
       "      <th>category</th>\n",
       "      <th>date</th>\n",
       "      <th>text</th>\n",
       "      <th>title</th>\n",
       "      <th>url</th>\n",
       "      <th>tokenized_sents</th>\n",
       "      <th>normalized_sents</th>\n",
       "    </tr>\n",
       "  </thead>\n",
       "  <tbody>\n",
       "    <tr>\n",
       "      <th>0</th>\n",
       "      <td>taiwan</td>\n",
       "      <td>2017/12/31</td>\n",
       "      <td>The Ministry of Foreign Affairs yesterday dism...</td>\n",
       "      <td>Ministry denies hiding flawed passports</td>\n",
       "      <td>http://www.taipeitimes.com/News/taiwan/archive...</td>\n",
       "      <td>[[The, Ministry, of, Foreign, Affairs, yesterd...</td>\n",
       "      <td>[[ministry, foreign, affairs, yesterday, dismi...</td>\n",
       "    </tr>\n",
       "    <tr>\n",
       "      <th>1</th>\n",
       "      <td>taiwan</td>\n",
       "      <td>2017/12/31</td>\n",
       "      <td>The Ministry of Foreign Affairs' swift demotio...</td>\n",
       "      <td>IN FOCUS: Diplomat's dismissal not political p...</td>\n",
       "      <td>http://www.taipeitimes.com/News/taiwan/archive...</td>\n",
       "      <td>[[The, Ministry, of, Foreign, Affairs, ', swif...</td>\n",
       "      <td>[[ministry, foreign, affairs, swift, demotion,...</td>\n",
       "    </tr>\n",
       "    <tr>\n",
       "      <th>2</th>\n",
       "      <td>taiwan</td>\n",
       "      <td>2017/12/31</td>\n",
       "      <td>Premier William Lai (') on Friday said he hope...</td>\n",
       "      <td>DPP outlines priorities for special legislativ...</td>\n",
       "      <td>http://www.taipeitimes.com/News/taiwan/archive...</td>\n",
       "      <td>[[Premier, William, Lai, (, ', ), on, Friday, ...</td>\n",
       "      <td>[[premier, william, lai, friday, said, hopes, ...</td>\n",
       "    </tr>\n",
       "    <tr>\n",
       "      <th>3</th>\n",
       "      <td>taiwan</td>\n",
       "      <td>2017/12/31</td>\n",
       "      <td>The results of a Democratic Progressive Party ...</td>\n",
       "      <td>DPP challenges labor rules poll with its own n...</td>\n",
       "      <td>http://www.taipeitimes.com/News/taiwan/archive...</td>\n",
       "      <td>[[The, results, of, a, Democratic, Progressive...</td>\n",
       "      <td>[[results, democratic, progressive, party, dpp...</td>\n",
       "    </tr>\n",
       "    <tr>\n",
       "      <th>4</th>\n",
       "      <td>taiwan</td>\n",
       "      <td>2017/12/31</td>\n",
       "      <td>The Presidential Office has denied claims made...</td>\n",
       "      <td>Local firm not involved in N Korea oil transfe...</td>\n",
       "      <td>http://www.taipeitimes.com/News/taiwan/archive...</td>\n",
       "      <td>[[The, Presidential, Office, has, denied, clai...</td>\n",
       "      <td>[[presidential, office, denied, claims, made, ...</td>\n",
       "    </tr>\n",
       "  </tbody>\n",
       "</table>\n",
       "</div>"
      ],
      "text/plain": [
       "  category        date                                               text  \\\n",
       "0   taiwan  2017/12/31  The Ministry of Foreign Affairs yesterday dism...   \n",
       "1   taiwan  2017/12/31  The Ministry of Foreign Affairs' swift demotio...   \n",
       "2   taiwan  2017/12/31  Premier William Lai (') on Friday said he hope...   \n",
       "3   taiwan  2017/12/31  The results of a Democratic Progressive Party ...   \n",
       "4   taiwan  2017/12/31  The Presidential Office has denied claims made...   \n",
       "\n",
       "                                               title  \\\n",
       "0            Ministry denies hiding flawed passports   \n",
       "1  IN FOCUS: Diplomat's dismissal not political p...   \n",
       "2  DPP outlines priorities for special legislativ...   \n",
       "3  DPP challenges labor rules poll with its own n...   \n",
       "4  Local firm not involved in N Korea oil transfe...   \n",
       "\n",
       "                                                 url  \\\n",
       "0  http://www.taipeitimes.com/News/taiwan/archive...   \n",
       "1  http://www.taipeitimes.com/News/taiwan/archive...   \n",
       "2  http://www.taipeitimes.com/News/taiwan/archive...   \n",
       "3  http://www.taipeitimes.com/News/taiwan/archive...   \n",
       "4  http://www.taipeitimes.com/News/taiwan/archive...   \n",
       "\n",
       "                                     tokenized_sents  \\\n",
       "0  [[The, Ministry, of, Foreign, Affairs, yesterd...   \n",
       "1  [[The, Ministry, of, Foreign, Affairs, ', swif...   \n",
       "2  [[Premier, William, Lai, (, ', ), on, Friday, ...   \n",
       "3  [[The, results, of, a, Democratic, Progressive...   \n",
       "4  [[The, Presidential, Office, has, denied, clai...   \n",
       "\n",
       "                                    normalized_sents  \n",
       "0  [[ministry, foreign, affairs, yesterday, dismi...  \n",
       "1  [[ministry, foreign, affairs, swift, demotion,...  \n",
       "2  [[premier, william, lai, friday, said, hopes, ...  \n",
       "3  [[results, democratic, progressive, party, dpp...  \n",
       "4  [[presidential, office, denied, claims, made, ...  "
      ]
     },
     "execution_count": 3,
     "metadata": {},
     "output_type": "execute_result"
    }
   ],
   "source": [
    "TWNewsDF['tokenized_sents'] = TWNewsDF['text'].str.replace(\"-\",\"\").apply(lambda x: \n",
    "                                                                         [nltk.word_tokenize(s) for s in nltk.sent_tokenize(x)])\n",
    "TWNewsDF['normalized_sents'] = TWNewsDF['tokenized_sents'].apply(lambda x: \n",
    "                                                    [lucem_illud.normalizeTokens(s, \n",
    "                                                                                 stopwordLst = lucem_illud.stop_words_basic, \n",
    "                                                                                 stemmer = None)\n",
    "                                                    for s in x])\n",
    "\n",
    "TWNewsDF[:5]"
   ]
  },
  {
   "cell_type": "code",
   "execution_count": 4,
   "metadata": {},
   "outputs": [],
   "source": [
    "TWNewsW2V = gensim.models.word2vec.Word2Vec(TWNewsDF['normalized_sents'].sum())"
   ]
  },
  {
   "cell_type": "code",
   "execution_count": 5,
   "metadata": {},
   "outputs": [
    {
     "name": "stdout",
     "output_type": "stream",
     "text": [
      "The cosine difference between the word 'international' and the word 'local' is: 0.11802195012569427\n",
      "The cosine difference between the word 'international' and the word 'world' is: 0.6650351285934448\n",
      "The cosine difference between the word 'international' and the word 'foreign' is: 0.4277587831020355\n",
      "The cosine difference between the word 'china' and the word 'japan' is: 0.6806716918945312\n",
      "The cosine difference between the word 'taiwan' and the word 'japan' is: 0.7098989486694336\n",
      "The cosine difference between the word 'taiwan' and the word 'china' is: 0.5738372802734375\n",
      "The cosine difference between the word 'taiwanese' and the word 'chinese' is: 0.6305859088897705\n"
     ]
    }
   ],
   "source": [
    "def cos_difference(embedding,word1,word2):\n",
    "    return sklearn.metrics.pairwise.cosine_similarity(embedding[word1].reshape(1,-1),embedding[word2].reshape(1,-1))\n",
    "\n",
    "print(\"The cosine difference between the word 'international' and the word 'local' is: {}\".format(\n",
    "      cos_difference(TWNewsW2V, 'international', 'local')[0,0]))\n",
    "print(\"The cosine difference between the word 'international' and the word 'world' is: {}\".format(\n",
    "      cos_difference(TWNewsW2V, 'international', 'world')[0,0]))\n",
    "print(\"The cosine difference between the word 'international' and the word 'foreign' is: {}\".format(\n",
    "      cos_difference(TWNewsW2V, 'foreign', 'international')[0,0]))\n",
    "print(\"The cosine difference between the word 'china' and the word 'japan' is: {}\".format(\n",
    "      cos_difference(TWNewsW2V, 'china', 'japan')[0,0]))\n",
    "print(\"The cosine difference between the word 'taiwan' and the word 'japan' is: {}\".format(\n",
    "      cos_difference(TWNewsW2V, 'taiwan', 'japan')[0,0]))\n",
    "print(\"The cosine difference between the word 'taiwan' and the word 'china' is: {}\".format(\n",
    "      cos_difference(TWNewsW2V, 'taiwan', 'china')[0,0]))\n",
    "print(\"The cosine difference between the word 'taiwanese' and the word 'chinese' is: {}\".format(\n",
    "      cos_difference(TWNewsW2V, 'taiwanese', 'chinese')[0,0]))"
   ]
  },
  {
   "cell_type": "code",
   "execution_count": 6,
   "metadata": {},
   "outputs": [
    {
     "name": "stdout",
     "output_type": "stream",
     "text": [
      "[-0.0061715962, 0.009621152, 0.019508304, 0.021093955, 0.028711695, 0.028938927, 0.074858084, 0.07914573, 0.08919867, 0.09807417, 0.101474725, 0.10671693, 0.10869583, 0.109431915, 0.11184698, 0.11457512, 0.17636772, 0.18282987, 0.1869359, 0.2104712]\n",
      "The 90% confidence interval for the cosine distance between 'local' and 'international' is:\n",
      " 0.009621152 0.1869359\n"
     ]
    }
   ],
   "source": [
    "#Bootstrapping\n",
    "\n",
    "estimatesB=[]\n",
    "for x in range(20):\n",
    "    TWNewsW2VB = gensim.models.word2vec.Word2Vec(TWNewsDF['normalized_sents'].sample(frac=1.0, replace=True).sum())\n",
    "    try:\n",
    "        estimatesB.append(cos_difference(TWNewsW2VB, 'local', 'international')[0,0])\n",
    "    except KeyError:\n",
    "        #Missing one of the words from the vocab\n",
    "        pass\n",
    "                                                      \n",
    "estimatesB.sort()\n",
    "\n",
    "print(estimatesB)\n",
    "\n",
    "print(\"The 90% confidence interval for the cosine distance between 'local' and 'international' is:\\n\",estimatesB[1], estimatesB[-2])"
   ]
  },
  {
   "cell_type": "code",
   "execution_count": 19,
   "metadata": {},
   "outputs": [
    {
     "data": {
      "text/plain": [
       "[('yiyu', 0.768915057182312),\n",
       " ('shihying', 0.7521408796310425),\n",
       " ('chichang', 0.7207480669021606),\n",
       " ('tsai', 0.6805303692817688),\n",
       " ('inauguration', 0.6635650396347046),\n",
       " ('promises', 0.6600677967071533),\n",
       " ('mingyen', 0.6568668484687805),\n",
       " ('inaugural', 0.6399880051612854),\n",
       " ('hungteh', 0.6300640106201172),\n",
       " ('standstill', 0.6295530200004578)]"
      ]
     },
     "execution_count": 19,
     "metadata": {},
     "output_type": "execute_result"
    }
   ],
   "source": [
    "TWNewsW2V.most_similar(positive=['ingwen', 'dpp'], negative = ['kmt'])"
   ]
  },
  {
   "cell_type": "code",
   "execution_count": 21,
   "metadata": {},
   "outputs": [
    {
     "data": {
      "image/png": "[encoded data removed]",
      "text/plain": [
       "<matplotlib.figure.Figure at 0x7f6fe0dc9ef0>"
      ]
     },
     "metadata": {},
     "output_type": "display_data"
    }
   ],
   "source": [
    "#subsetting words for visualization\n",
    "numWords = 150\n",
    "targetWords = TWNewsW2V.wv.index2word[:numWords]\n",
    "\n",
    "#create sub-matrix for visualization\n",
    "wordsSubMatrix = []\n",
    "for word in targetWords:\n",
    "    wordsSubMatrix.append(TWNewsW2V[word])\n",
    "wordsSubMatrix = np.array(wordsSubMatrix)\n",
    "\n",
    "#reduce dimension\n",
    "pcaWords = sklearn.decomposition.PCA(n_components = 50).fit(wordsSubMatrix)\n",
    "reducedPCA_data = pcaWords.transform(wordsSubMatrix)\n",
    "#T-SNE is theoretically better, but you should experiment\n",
    "tsneWords = sklearn.manifold.TSNE(n_components = 2, early_exaggeration = 25).fit_transform(reducedPCA_data)\n",
    "\n",
    "#visualization!\n",
    "fig = plt.figure(figsize = (15,10))\n",
    "ax = fig.add_subplot(111)\n",
    "ax.set_frame_on(False)\n",
    "plt.scatter(tsneWords[:, 0], tsneWords[:, 1], alpha = 0)#Making the points invisible \n",
    "for i, word in enumerate(targetWords):\n",
    "    ax.annotate(word, \n",
    "                (tsneWords[:, 0][i],tsneWords[:, 1][i]), \n",
    "                size =  20 * (numWords - i) / numWords, \n",
    "                alpha = .8 * (numWords - i) / numWords + .2)\n",
    "plt.xticks(())\n",
    "plt.yticks(())\n",
    "plt.show()"
   ]
  },
  {
   "cell_type": "markdown",
   "metadata": {},
   "source": [
    "## Exercise 1 Memo\n",
    "\n",
    "The corpus used in this exercise is a full collection of Taiwan news scraped from the website 'Taipei Times' (http://www.taipeitimes.com). It consists of over 4800 news articles, which should provide enough accuracy for the deep learning method of the genism library. (Noticeably, I used a much smaller corpus in the first place, and the trained model was not very accurate.)\n",
    "\n",
    "First of all, after the model is generated, I calculated cosine similarities between a few words to test the model accuracy. According to the result, the cosine similarity between 'local' and 'international' is around 0.0718, suggesting that these two words are not similar at all. As expected, the cosine similarity between 'international' and 'world' is much higher (around 0.6267). The cosine similarity between 'international' and 'foreign' is around 0.3738, which is a bit lower than my initial guess, but still in acceptable range. Since the results above is generally in agreement with my personal expectation, I decided to proceed with this model.\n",
    "\n",
    "I then calculated the cosine similarity score between 'china', 'taiwan' and 'japan'. While 'japan' had similarity scores of around 0.7 with both 'china' and 'taiwan', the cosine similarity between 'china' and 'taiwan' is only 0.6. The similarity score between 'chinese' and 'taiwanese' was slightly higher (around 0.64). This result is in fact somewhat surprising, as chinese and japanese usually do not identify with each other, and there is supposed to be a stronger tie between mainland china and taiwan. The observed result might be partly caused by the increasingly strong recognition of 'taiwan identity' among taiwanese in the past several years，and the de-Sinicization (removal of Chinese influence) policy under the ruling of DPP government.\n",
    "\n",
    "The visualization also revealed some interesting patterns. First of all, according to the result, 'dpp' (DPP/The Democratic Progressive Party) and 'kmt' (KMT/Kuomintang) are extremely similar to each other, despite the fact that they usually speak for opposite ideologies and policies. Also, despite the fact that 'chinese' is quite close to 'taiwanese', and that 'china' is close to 'taiwan' on the map, 'chinese'/'taiwanese' is very far from 'china'/'taiwan'. A possible explanation is that the algorithm tends to classify words more on what they actually are (countries, people, etc.) and less on what they actually mean. Another possible explanation is that no stemmer is used while training this model, which may futher reduce the weight of meanings of words in the algorithm (because stems are often associated with meanings).\n",
    "\n",
    "Some other random but interesting observations include that, 'people' is very close to 'work', and 'company' stands in the middle between 'people' and 'government'. (hmmmm?) Also, the word 'legislator' is quite far from 'legislative', but is extremely close to the 'party', 'kmt', and 'dpp'. (wow!) This observation may suggests that the legislators in Taiwan are strongly influenced by the political parties and their respective ideologies/policies."
   ]
  },
  {
   "cell_type": "markdown",
   "metadata": {},
   "source": [
    "# Doc2Vec"
   ]
  },
  {
   "cell_type": "markdown",
   "metadata": {
    "collapsed": true
   },
   "source": [
    "Instead of just looking at just how words embed within in the space, we can look at how the different documents relate to each other within the space. First lets load our data--abstracts of most U.S. physics papers from the 1950s."
   ]
  },
  {
   "cell_type": "code",
   "execution_count": 38,
   "metadata": {},
   "outputs": [
    {
     "data": {
      "text/html": [
       "<div>\n",
       "<style scoped>\n",
       "    .dataframe tbody tr th:only-of-type {\n",
       "        vertical-align: middle;\n",
       "    }\n",
       "\n",
       "    .dataframe tbody tr th {\n",
       "        vertical-align: top;\n",
       "    }\n",
       "\n",
       "    .dataframe thead th {\n",
       "        text-align: right;\n",
       "    }\n",
       "</style>\n",
       "<table border=\"1\" class=\"dataframe\">\n",
       "  <thead>\n",
       "    <tr style=\"text-align: right;\">\n",
       "      <th></th>\n",
       "      <th>copyrightYear</th>\n",
       "      <th>doi</th>\n",
       "      <th>abstract</th>\n",
       "    </tr>\n",
       "  </thead>\n",
       "  <tbody>\n",
       "    <tr>\n",
       "      <th>0</th>\n",
       "      <td>1950</td>\n",
       "      <td>10.1103/RevModPhys.22.221</td>\n",
       "      <td>A summarizing account is given of the research...</td>\n",
       "    </tr>\n",
       "    <tr>\n",
       "      <th>1</th>\n",
       "      <td>1951</td>\n",
       "      <td>10.1103/RevModPhys.23.147</td>\n",
       "      <td>New tables of coulomb functions are presented ...</td>\n",
       "    </tr>\n",
       "    <tr>\n",
       "      <th>2</th>\n",
       "      <td>1951</td>\n",
       "      <td>10.1103/RevModPhys.23.185</td>\n",
       "      <td>Ionization by electron impact in diatomic gase...</td>\n",
       "    </tr>\n",
       "    <tr>\n",
       "      <th>3</th>\n",
       "      <td>1951</td>\n",
       "      <td>10.1103/RevModPhys.23.203</td>\n",
       "      <td>It is shown that the conductivity in the ohmic...</td>\n",
       "    </tr>\n",
       "    <tr>\n",
       "      <th>4</th>\n",
       "      <td>1951</td>\n",
       "      <td>10.1103/RevModPhys.23.21</td>\n",
       "      <td>The factorization method is an operational pro...</td>\n",
       "    </tr>\n",
       "    <tr>\n",
       "      <th>5</th>\n",
       "      <td>1951</td>\n",
       "      <td>10.1103/RevModPhys.23.311</td>\n",
       "      <td>A brief account is given of Dyson's proof of t...</td>\n",
       "    </tr>\n",
       "    <tr>\n",
       "      <th>6</th>\n",
       "      <td>1951</td>\n",
       "      <td>10.1103/RevModPhys.23.315</td>\n",
       "      <td>A systematics is given of all transitions for ...</td>\n",
       "    </tr>\n",
       "    <tr>\n",
       "      <th>7</th>\n",
       "      <td>1951</td>\n",
       "      <td>10.1103/RevModPhys.23.322</td>\n",
       "      <td>A systematics of the -transitions of even A nu...</td>\n",
       "    </tr>\n",
       "    <tr>\n",
       "      <th>8</th>\n",
       "      <td>1951</td>\n",
       "      <td>10.1103/RevModPhys.23.328</td>\n",
       "      <td>The available experiments on the absorption sp...</td>\n",
       "    </tr>\n",
       "    <tr>\n",
       "      <th>9</th>\n",
       "      <td>1952</td>\n",
       "      <td>10.1103/RevModPhys.24.108</td>\n",
       "      <td>The classical theory of the dynamics of viscou...</td>\n",
       "    </tr>\n",
       "  </tbody>\n",
       "</table>\n",
       "</div>"
      ],
      "text/plain": [
       "   copyrightYear                        doi  \\\n",
       "0           1950  10.1103/RevModPhys.22.221   \n",
       "1           1951  10.1103/RevModPhys.23.147   \n",
       "2           1951  10.1103/RevModPhys.23.185   \n",
       "3           1951  10.1103/RevModPhys.23.203   \n",
       "4           1951   10.1103/RevModPhys.23.21   \n",
       "5           1951  10.1103/RevModPhys.23.311   \n",
       "6           1951  10.1103/RevModPhys.23.315   \n",
       "7           1951  10.1103/RevModPhys.23.322   \n",
       "8           1951  10.1103/RevModPhys.23.328   \n",
       "9           1952  10.1103/RevModPhys.24.108   \n",
       "\n",
       "                                            abstract  \n",
       "0  A summarizing account is given of the research...  \n",
       "1  New tables of coulomb functions are presented ...  \n",
       "2  Ionization by electron impact in diatomic gase...  \n",
       "3  It is shown that the conductivity in the ohmic...  \n",
       "4  The factorization method is an operational pro...  \n",
       "5  A brief account is given of Dyson's proof of t...  \n",
       "6  A systematics is given of all transitions for ...  \n",
       "7  A systematics of the -transitions of even A nu...  \n",
       "8  The available experiments on the absorption sp...  \n",
       "9  The classical theory of the dynamics of viscou...  "
      ]
     },
     "execution_count": 38,
     "metadata": {},
     "output_type": "execute_result"
    }
   ],
   "source": [
    "apsDF = pandas.read_csv('../data/APSabstracts1950s.csv', index_col = 0)\n",
    "apsDF[:10]"
   ]
  },
  {
   "cell_type": "markdown",
   "metadata": {},
   "source": [
    "We will load these as documents into Word2Vec, but first we need to normalize and pick some tags"
   ]
  },
  {
   "cell_type": "code",
   "execution_count": 33,
   "metadata": {},
   "outputs": [],
   "source": [
    "keywords = ['photomagnetoelectric', 'quantum', 'boltzmann', 'proton', 'positron', 'feynman', 'classical', 'relativity']"
   ]
  },
  {
   "cell_type": "code",
   "execution_count": 34,
   "metadata": {},
   "outputs": [],
   "source": [
    "apsDF['tokenized_words'] = apsDF['abstract'].apply(lambda x: nltk.word_tokenize(x))\n",
    "apsDF['normalized_words'] = apsDF['tokenized_words'].apply(lambda x: lucem_illud.normalizeTokens(x, stopwordLst = lucem_illud.stop_words_basic, stemmer = None))"
   ]
  },
  {
   "cell_type": "code",
   "execution_count": 35,
   "metadata": {},
   "outputs": [],
   "source": [
    "taggedDocs = []\n",
    "for index, row in apsDF.iterrows():\n",
    "    #Just doing a simple keyword assignment\n",
    "    docKeywords = [s for s in keywords if s in row['normalized_words']]\n",
    "    docKeywords.append(row['copyrightYear'])\n",
    "    docKeywords.append(row['doi']) #This lets us extract individual documnets since doi's are unique\n",
    "    taggedDocs.append(gensim.models.doc2vec.LabeledSentence(words = row['normalized_words'], tags = docKeywords))\n",
    "apsDF['TaggedAbstracts'] = taggedDocs"
   ]
  },
  {
   "cell_type": "markdown",
   "metadata": {},
   "source": [
    "Now we can train a Doc2Vec model:"
   ]
  },
  {
   "cell_type": "code",
   "execution_count": 36,
   "metadata": {},
   "outputs": [],
   "source": [
    "apsD2V = gensim.models.doc2vec.Doc2Vec(apsDF['TaggedAbstracts'], size = 100) #Limiting to 100 dimensions"
   ]
  },
  {
   "cell_type": "markdown",
   "metadata": {},
   "source": [
    "We can get vectors for the tags/documents, just as we did with words. Documents are actually the centroids (high dimensional average points) of their words. "
   ]
  },
  {
   "cell_type": "code",
   "execution_count": 37,
   "metadata": {
    "scrolled": true
   },
   "outputs": [
    {
     "data": {
      "text/plain": [
       "array([ 0.33696997, -1.218426  ,  0.77769536, -1.2436711 , -0.93585974,\n",
       "       -0.58905894,  0.3667863 , -0.71601456,  0.9431071 ,  0.10514754,\n",
       "       -1.3648063 , -0.9119069 , -0.4805054 ,  0.8016981 , -0.44475162,\n",
       "        0.949897  ,  0.2750762 , -0.5098536 , -0.46942407, -1.3695889 ,\n",
       "       -1.446731  , -1.3071648 ,  0.99287236, -1.4453905 , -0.12296593,\n",
       "        0.58859116, -0.8730691 , -1.1333594 , -0.8404249 , -0.24546354,\n",
       "        0.02848427,  0.9556961 ,  0.70622855,  0.42452294, -1.5414505 ,\n",
       "       -0.72141933,  0.01567354,  0.09578741,  0.4905179 ,  0.65473074,\n",
       "       -0.6174239 , -0.02434308,  0.50113857,  0.09743275,  0.01956225,\n",
       "        1.6049696 , -0.50665027,  0.02387065,  0.20094429,  0.9070049 ,\n",
       "        1.7402828 , -1.5141268 ,  1.4388012 ,  1.6948127 , -0.673939  ,\n",
       "        1.2258341 ,  0.39029765, -1.1219523 , -0.9060592 ,  0.3599193 ,\n",
       "       -0.23890494,  1.0102026 ,  0.08924157,  0.82143646, -1.0398176 ,\n",
       "        1.3663259 , -0.10816079, -0.8011003 ,  0.13716705,  0.5690875 ,\n",
       "        2.009622  , -0.8815036 ,  0.13497758,  0.56529236,  0.4366013 ,\n",
       "        1.1255705 , -0.94674045, -1.1588429 , -1.0663235 ,  0.25917515,\n",
       "       -0.00526563,  1.0057074 ,  0.1959503 ,  1.0588406 , -0.25793326,\n",
       "        0.2766631 ,  1.0550966 , -1.6142461 , -0.0570003 ,  0.41611755,\n",
       "        1.6393819 , -0.08802032, -1.6610986 ,  0.80704075, -1.9584266 ,\n",
       "       -0.8402766 , -0.95728517,  0.16074564,  0.03857054,  0.21358098],\n",
       "      dtype=float32)"
      ]
     },
     "execution_count": 37,
     "metadata": {},
     "output_type": "execute_result"
    }
   ],
   "source": [
    "apsD2V.docvecs[1952]"
   ]
  },
  {
   "cell_type": "markdown",
   "metadata": {},
   "source": [
    "The words can still be accessed in the same way:"
   ]
  },
  {
   "cell_type": "code",
   "execution_count": 38,
   "metadata": {},
   "outputs": [
    {
     "data": {
      "text/plain": [
       "array([-0.08446857, -0.13310567,  0.76769716,  0.09199319, -0.8318273 ,\n",
       "       -0.9667662 ,  0.19666474, -0.25466406,  0.10815541,  0.15054949,\n",
       "       -0.16121422,  0.09450565, -0.7948625 , -0.06357443,  0.15401892,\n",
       "        0.24936496,  0.0959717 ,  1.0449395 ,  0.28643677, -0.52428114,\n",
       "       -0.03410733, -1.0592328 , -0.25746533, -1.0623927 , -0.27061018,\n",
       "       -0.03547266,  0.39062172, -0.9111596 ,  0.02812086,  0.18007664,\n",
       "        0.61605734, -0.4145628 ,  0.42855403,  0.14217614,  0.08817472,\n",
       "       -0.5187094 , -0.21278135,  0.20793508,  0.2911178 , -0.727797  ,\n",
       "        0.6449067 ,  0.1859763 , -0.0175694 , -0.0139199 , -0.46649638,\n",
       "       -0.3748949 , -1.0712662 , -0.720538  , -0.04117895,  0.61615664,\n",
       "        1.1272829 , -1.3560671 ,  0.899589  , -0.64328134, -0.24923839,\n",
       "       -0.29499203, -0.4975179 , -0.59219724, -0.4151598 ,  0.12087698,\n",
       "        0.1786247 ,  1.1079594 ,  0.20142445,  0.44005418,  0.29087266,\n",
       "        0.6117812 ,  0.36966828, -0.77955234, -0.43765077,  0.16971776,\n",
       "        0.58061695, -0.93407077, -0.14021447, -0.4377087 , -0.7516002 ,\n",
       "        0.2210358 , -0.4304    , -0.9020273 , -0.17749684, -0.18165734,\n",
       "        0.44287276, -0.29231173,  0.50159705, -0.4093256 , -0.26654392,\n",
       "        0.10793588,  0.7307555 , -0.48102117, -1.3520081 , -0.00485218,\n",
       "        0.30566052,  0.37493262, -0.16454089,  0.71659034, -0.9137637 ,\n",
       "       -0.35560575, -0.50991917, -0.07049676,  0.8698366 ,  0.12959999],\n",
       "      dtype=float32)"
      ]
     },
     "execution_count": 38,
     "metadata": {},
     "output_type": "execute_result"
    }
   ],
   "source": [
    "apsD2V['atom']"
   ]
  },
  {
   "cell_type": "markdown",
   "metadata": {},
   "source": [
    "We can still use the ``most_similar`` command to perform simple semantic equations:"
   ]
  },
  {
   "cell_type": "code",
   "execution_count": 42,
   "metadata": {},
   "outputs": [
    {
     "data": {
      "text/plain": [
       "[('atoms', 0.771075963973999)]"
      ]
     },
     "execution_count": 42,
     "metadata": {},
     "output_type": "execute_result"
    }
   ],
   "source": [
    "apsD2V.most_similar(positive = ['atom','electrons'], negative = ['electron'], topn = 1)"
   ]
  },
  {
   "cell_type": "markdown",
   "metadata": {},
   "source": [
    "This is interesting. **Electron** is to **electrons** as **atom** is to **atoms**. Another way to understand this, developed below is: **electrons - electron** induces a singular to plural dimension, so when we subtract **electron** from **atom** and add **electrons**, we get **atoms**! "
   ]
  },
  {
   "cell_type": "code",
   "execution_count": 43,
   "metadata": {},
   "outputs": [
    {
     "data": {
      "text/plain": [
       "[('superconductivity', 0.9167728424072266)]"
      ]
     },
     "execution_count": 43,
     "metadata": {},
     "output_type": "execute_result"
    }
   ],
   "source": [
    "apsD2V.most_similar(positive = ['einstein','law'], negative = ['equation'], topn = 1)"
   ]
  },
  {
   "cell_type": "markdown",
   "metadata": {},
   "source": [
    "In other words **Einstein** minus **equation** plus **law** equals **Meissner**--Walthur Meissner studied mechanical engineering and physics ... and was more likely to produce a \"law\" than a \"equation\", like the Meissner effect, the damping of the magnetic field in superconductors. If we built our word-embedding with a bigger corpus like the entire arXiv, a massive repository of physics preprints, we would see many more such relationships like **gravity - Newton + Einstein = relativity**."
   ]
  },
  {
   "cell_type": "markdown",
   "metadata": {},
   "source": [
    "We can also compute all of these *by hand*--explicitly wth vector algebra: "
   ]
  },
  {
   "cell_type": "code",
   "execution_count": 44,
   "metadata": {},
   "outputs": [
    {
     "data": {
      "text/plain": [
       "array([[0.6275522]], dtype=float32)"
      ]
     },
     "execution_count": 44,
     "metadata": {},
     "output_type": "execute_result"
    }
   ],
   "source": [
    "sklearn.metrics.pairwise.cosine_similarity(apsD2V['electron'].reshape(1,-1), apsD2V['positron'].reshape(1,-1))\n",
    "#We reorient the vectors with .reshape(1, -1) so that they can be computed without a warning in sklearn"
   ]
  },
  {
   "cell_type": "markdown",
   "metadata": {},
   "source": [
    "In the doc2vec model, the documents have vectors just as the words do, so that we can compare documents with each other and also with words (similar to how a search engine locates a webpage with a query). First, we will calculate the distance between a word and documents in the dataset:"
   ]
  },
  {
   "cell_type": "code",
   "execution_count": 45,
   "metadata": {},
   "outputs": [
    {
     "data": {
      "text/plain": [
       "[('10.1103/PhysRev.100.1646', 0.6934189796447754),\n",
       " ('10.1103/PhysRev.84.457', 0.6684035062789917),\n",
       " ('10.1103/PhysRev.95.897', 0.6483315229415894),\n",
       " ('10.1103/PhysRev.92.1152', 0.6350014805793762),\n",
       " ('10.1103/PhysRev.105.1459', 0.6346756219863892)]"
      ]
     },
     "execution_count": 45,
     "metadata": {},
     "output_type": "execute_result"
    }
   ],
   "source": [
    "apsD2V.docvecs.most_similar([ apsD2V['electron'] ], topn=5 )"
   ]
  },
  {
   "cell_type": "markdown",
   "metadata": {},
   "source": [
    "If we search for the first of these on the web (these are doi codes), we find the following...a pretty good match:\n",
    "<img src='../data/PhysRev.98.875.jpg'>"
   ]
  },
  {
   "cell_type": "markdown",
   "metadata": {},
   "source": [
    "Now let's go the other way around and find words most similar to this document:"
   ]
  },
  {
   "cell_type": "code",
   "execution_count": 46,
   "metadata": {},
   "outputs": [
    {
     "data": {
      "text/plain": [
       "[('tenth', 0.6652909517288208),\n",
       " ('magnitude', 0.6625649929046631),\n",
       " ('relaxation', 0.6513506174087524),\n",
       " ('change', 0.6451077461242676),\n",
       " ('constant', 0.6388159990310669)]"
      ]
     },
     "execution_count": 46,
     "metadata": {},
     "output_type": "execute_result"
    }
   ],
   "source": [
    "apsD2V.most_similar( [ apsD2V.docvecs['10.1103/PhysRev.98.875'] ], topn=5) "
   ]
  },
  {
   "cell_type": "markdown",
   "metadata": {},
   "source": [
    "We can even look for documents most like a query composed of multiple words:"
   ]
  },
  {
   "cell_type": "code",
   "execution_count": 47,
   "metadata": {},
   "outputs": [
    {
     "data": {
      "text/plain": [
       "[('10.1103/PhysRev.113.890', 0.7850648760795593),\n",
       " ('10.1103/PhysRev.103.966', 0.7695560455322266),\n",
       " ('10.1103/PhysRev.85.1012', 0.7665467262268066),\n",
       " ('10.1103/PhysRev.101.388', 0.7606978416442871),\n",
       " ('10.1103/PhysRev.89.1165', 0.7599977850914001)]"
      ]
     },
     "execution_count": 47,
     "metadata": {},
     "output_type": "execute_result"
    }
   ],
   "source": [
    "apsD2V.docvecs.most_similar([ apsD2V['electron']+apsD2V['positron']+apsD2V['neutron']], topn=5 )"
   ]
  },
  {
   "cell_type": "markdown",
   "metadata": {},
   "source": [
    "Now let's plot some words and documents against one another with a heatmap:"
   ]
  },
  {
   "cell_type": "code",
   "execution_count": 48,
   "metadata": {},
   "outputs": [],
   "source": [
    "heatmapMatrix = []\n",
    "for tagOuter in keywords:\n",
    "    column = []\n",
    "    tagVec = apsD2V.docvecs[tagOuter].reshape(1, -1)\n",
    "    for tagInner in keywords:\n",
    "        column.append(sklearn.metrics.pairwise.cosine_similarity(tagVec, apsD2V.docvecs[tagInner].reshape(1, -1))[0][0])\n",
    "    heatmapMatrix.append(column)\n",
    "heatmapMatrix = np.array(heatmapMatrix)"
   ]
  },
  {
   "cell_type": "code",
   "execution_count": 49,
   "metadata": {},
   "outputs": [
    {
     "data": {
      "image/png": "[encoded data removed]",
      "text/plain": [
       "<matplotlib.figure.Figure at 0x2b11416a5710>"
      ]
     },
     "metadata": {},
     "output_type": "display_data"
    }
   ],
   "source": [
    "fig, ax = plt.subplots()\n",
    "hmap = ax.pcolor(heatmapMatrix, cmap='terrain')\n",
    "cbar = plt.colorbar(hmap)\n",
    "\n",
    "cbar.set_label('cosine similarity', rotation=270)\n",
    "a = ax.set_xticks(np.arange(heatmapMatrix.shape[1]) + 0.5, minor=False)\n",
    "a = ax.set_yticks(np.arange(heatmapMatrix.shape[0]) + 0.5, minor=False)\n",
    "\n",
    "a = ax.set_xticklabels(keywords, minor=False, rotation=270)\n",
    "a = ax.set_yticklabels(keywords, minor=False)"
   ]
  },
  {
   "cell_type": "markdown",
   "metadata": {},
   "source": [
    "Now let's look at a heatmap of similarities between the first ten documents in the corpus:"
   ]
  },
  {
   "cell_type": "code",
   "execution_count": 50,
   "metadata": {},
   "outputs": [],
   "source": [
    "targetDocs = apsDF['doi'][:10]\n",
    "\n",
    "heatmapMatrixD = []\n",
    "\n",
    "for tagOuter in targetDocs:\n",
    "    column = []\n",
    "    tagVec = apsD2V.docvecs[tagOuter].reshape(1, -1)\n",
    "    for tagInner in targetDocs:\n",
    "        column.append(sklearn.metrics.pairwise.cosine_similarity(tagVec, apsD2V.docvecs[tagInner].reshape(1, -1))[0][0])\n",
    "    heatmapMatrixD.append(column)\n",
    "heatmapMatrixD = np.array(heatmapMatrixD)"
   ]
  },
  {
   "cell_type": "code",
   "execution_count": 51,
   "metadata": {},
   "outputs": [
    {
     "data": {
      "image/png": "[encoded data removed]",
      "text/plain": [
       "<matplotlib.figure.Figure at 0x2b1143dec7b8>"
      ]
     },
     "metadata": {},
     "output_type": "display_data"
    }
   ],
   "source": [
    "fig, ax = plt.subplots()\n",
    "hmap = ax.pcolor(heatmapMatrixD, cmap='terrain')\n",
    "cbar = plt.colorbar(hmap)\n",
    "\n",
    "cbar.set_label('cosine similarity', rotation=270)\n",
    "a = ax.set_xticks(np.arange(heatmapMatrixD.shape[1]) + 0.5, minor=False)\n",
    "a = ax.set_yticks(np.arange(heatmapMatrixD.shape[0]) + 0.5, minor=False)\n",
    "\n",
    "a = ax.set_xticklabels(targetDocs, minor=False, rotation=270)\n",
    "a = ax.set_yticklabels(targetDocs, minor=False)"
   ]
  },
  {
   "cell_type": "markdown",
   "metadata": {},
   "source": [
    "Now let's look at a heatmap of similarities between the first ten documents and our keywords:"
   ]
  },
  {
   "cell_type": "code",
   "execution_count": 52,
   "metadata": {},
   "outputs": [],
   "source": [
    "heatmapMatrixC = []\n",
    "\n",
    "for tagOuter in targetDocs:\n",
    "    column = []\n",
    "    tagVec = apsD2V.docvecs[tagOuter].reshape(1, -1)\n",
    "    for tagInner in keywords:\n",
    "        column.append(sklearn.metrics.pairwise.cosine_similarity(tagVec, apsD2V.docvecs[tagInner].reshape(1, -1))[0][0])\n",
    "    heatmapMatrixC.append(column)\n",
    "heatmapMatrixC = np.array(heatmapMatrixC)"
   ]
  },
  {
   "cell_type": "code",
   "execution_count": 53,
   "metadata": {},
   "outputs": [
    {
     "data": {
      "image/png": "[encoded data removed]",
      "text/plain": [
       "<matplotlib.figure.Figure at 0x2b114169fc88>"
      ]
     },
     "metadata": {},
     "output_type": "display_data"
    }
   ],
   "source": [
    "fig, ax = plt.subplots()\n",
    "hmap = ax.pcolor(heatmapMatrixC, cmap='terrain')\n",
    "cbar = plt.colorbar(hmap)\n",
    "\n",
    "cbar.set_label('cosine similarity', rotation=270)\n",
    "a = ax.set_xticks(np.arange(heatmapMatrixC.shape[1]) + 0.5, minor=False)\n",
    "a = ax.set_yticks(np.arange(heatmapMatrixC.shape[0]) + 0.5, minor=False)\n",
    "\n",
    "a = ax.set_xticklabels(keywords, minor=False, rotation=270)\n",
    "a = ax.set_yticklabels(targetDocs, minor=False)"
   ]
  },
  {
   "cell_type": "markdown",
   "metadata": {},
   "source": [
    "We will save the model in case we would like to use it again."
   ]
  },
  {
   "cell_type": "code",
   "execution_count": 54,
   "metadata": {},
   "outputs": [],
   "source": [
    "apsD2V.save('apsW2V')"
   ]
  },
  {
   "cell_type": "markdown",
   "metadata": {},
   "source": [
    "We can later load it:"
   ]
  },
  {
   "cell_type": "code",
   "execution_count": 55,
   "metadata": {},
   "outputs": [],
   "source": [
    "#apsD2V = gensim.models.word2vec.Word2Vec.load('data/apsW2V')"
   ]
  },
  {
   "cell_type": "markdown",
   "metadata": {},
   "source": [
    "## <span style=\"color:red\">*Exercise 2*</span>\n",
    "\n",
    "<span style=\"color:red\">Construct cells immediately below this that build a doc2vec model with your corpus. Interrogate document and word relationships in the resulting space. Construct a heatmap that plots the distances between a subset of your documents against each other, and against a set of informative words. Find distances between *every* document in your corpus and a word or query of interest. What do these doc-doc proximities reveal about your corpus? What do these word-doc proximities highlight? Demonstrate and document one reasonable way to select a defensible subset of query-relevant documents for subsequent analysis."
   ]
  },
  {
   "cell_type": "code",
   "execution_count": 69,
   "metadata": {},
   "outputs": [
    {
     "data": {
      "text/html": [
       "<div>\n",
       "<style scoped>\n",
       "    .dataframe tbody tr th:only-of-type {\n",
       "        vertical-align: middle;\n",
       "    }\n",
       "\n",
       "    .dataframe tbody tr th {\n",
       "        vertical-align: top;\n",
       "    }\n",
       "\n",
       "    .dataframe thead th {\n",
       "        text-align: right;\n",
       "    }\n",
       "</style>\n",
       "<table border=\"1\" class=\"dataframe\">\n",
       "  <thead>\n",
       "    <tr style=\"text-align: right;\">\n",
       "      <th></th>\n",
       "      <th>category</th>\n",
       "      <th>date</th>\n",
       "      <th>text</th>\n",
       "      <th>title</th>\n",
       "      <th>url</th>\n",
       "      <th>tokenized_sents</th>\n",
       "      <th>normalized_sents</th>\n",
       "      <th>tokenized_words</th>\n",
       "      <th>normalized_words</th>\n",
       "      <th>TaggedText</th>\n",
       "    </tr>\n",
       "  </thead>\n",
       "  <tbody>\n",
       "    <tr>\n",
       "      <th>0</th>\n",
       "      <td>taiwan</td>\n",
       "      <td>2017/12/31</td>\n",
       "      <td>The Ministry of Foreign Affairs yesterday dism...</td>\n",
       "      <td>Ministry denies hiding flawed passports</td>\n",
       "      <td>http://www.taipeitimes.com/News/taiwan/archive...</td>\n",
       "      <td>[[The, Ministry, of, Foreign, Affairs, yesterd...</td>\n",
       "      <td>[[ministry, foreign, affairs, yesterday, dismi...</td>\n",
       "      <td>[The, Ministry, of, Foreign, Affairs, yesterda...</td>\n",
       "      <td>[ministry, foreign, affairs, yesterday, dismis...</td>\n",
       "      <td>([ministry, foreign, affairs, yesterday, dismi...</td>\n",
       "    </tr>\n",
       "    <tr>\n",
       "      <th>1</th>\n",
       "      <td>taiwan</td>\n",
       "      <td>2017/12/31</td>\n",
       "      <td>The Ministry of Foreign Affairs' swift demotio...</td>\n",
       "      <td>IN FOCUS: Diplomat's dismissal not political p...</td>\n",
       "      <td>http://www.taipeitimes.com/News/taiwan/archive...</td>\n",
       "      <td>[[The, Ministry, of, Foreign, Affairs, ', swif...</td>\n",
       "      <td>[[ministry, foreign, affairs, swift, demotion,...</td>\n",
       "      <td>[The, Ministry, of, Foreign, Affairs, ', swift...</td>\n",
       "      <td>[ministry, foreign, affairs, swift, demotion, ...</td>\n",
       "      <td>([ministry, foreign, affairs, swift, demotion,...</td>\n",
       "    </tr>\n",
       "    <tr>\n",
       "      <th>2</th>\n",
       "      <td>taiwan</td>\n",
       "      <td>2017/12/31</td>\n",
       "      <td>Premier William Lai (') on Friday said he hope...</td>\n",
       "      <td>DPP outlines priorities for special legislativ...</td>\n",
       "      <td>http://www.taipeitimes.com/News/taiwan/archive...</td>\n",
       "      <td>[[Premier, William, Lai, (, ', ), on, Friday, ...</td>\n",
       "      <td>[[premier, william, lai, friday, said, hopes, ...</td>\n",
       "      <td>[Premier, William, Lai, (, ', ), on, Friday, s...</td>\n",
       "      <td>[premier, william, lai, friday, said, hopes, p...</td>\n",
       "      <td>([premier, william, lai, friday, said, hopes, ...</td>\n",
       "    </tr>\n",
       "    <tr>\n",
       "      <th>3</th>\n",
       "      <td>taiwan</td>\n",
       "      <td>2017/12/31</td>\n",
       "      <td>The results of a Democratic Progressive Party ...</td>\n",
       "      <td>DPP challenges labor rules poll with its own n...</td>\n",
       "      <td>http://www.taipeitimes.com/News/taiwan/archive...</td>\n",
       "      <td>[[The, results, of, a, Democratic, Progressive...</td>\n",
       "      <td>[[results, democratic, progressive, party, dpp...</td>\n",
       "      <td>[The, results, of, a, Democratic, Progressive,...</td>\n",
       "      <td>[results, democratic, progressive, party, dpp,...</td>\n",
       "      <td>([results, democratic, progressive, party, dpp...</td>\n",
       "    </tr>\n",
       "    <tr>\n",
       "      <th>4</th>\n",
       "      <td>taiwan</td>\n",
       "      <td>2017/12/31</td>\n",
       "      <td>The Presidential Office has denied claims made...</td>\n",
       "      <td>Local firm not involved in N Korea oil transfe...</td>\n",
       "      <td>http://www.taipeitimes.com/News/taiwan/archive...</td>\n",
       "      <td>[[The, Presidential, Office, has, denied, clai...</td>\n",
       "      <td>[[presidential, office, denied, claims, made, ...</td>\n",
       "      <td>[The, Presidential, Office, has, denied, claim...</td>\n",
       "      <td>[presidential, office, denied, claims, made, s...</td>\n",
       "      <td>([presidential, office, denied, claims, made, ...</td>\n",
       "    </tr>\n",
       "  </tbody>\n",
       "</table>\n",
       "</div>"
      ],
      "text/plain": [
       "  category        date                                               text  \\\n",
       "0   taiwan  2017/12/31  The Ministry of Foreign Affairs yesterday dism...   \n",
       "1   taiwan  2017/12/31  The Ministry of Foreign Affairs' swift demotio...   \n",
       "2   taiwan  2017/12/31  Premier William Lai (') on Friday said he hope...   \n",
       "3   taiwan  2017/12/31  The results of a Democratic Progressive Party ...   \n",
       "4   taiwan  2017/12/31  The Presidential Office has denied claims made...   \n",
       "\n",
       "                                               title  \\\n",
       "0            Ministry denies hiding flawed passports   \n",
       "1  IN FOCUS: Diplomat's dismissal not political p...   \n",
       "2  DPP outlines priorities for special legislativ...   \n",
       "3  DPP challenges labor rules poll with its own n...   \n",
       "4  Local firm not involved in N Korea oil transfe...   \n",
       "\n",
       "                                                 url  \\\n",
       "0  http://www.taipeitimes.com/News/taiwan/archive...   \n",
       "1  http://www.taipeitimes.com/News/taiwan/archive...   \n",
       "2  http://www.taipeitimes.com/News/taiwan/archive...   \n",
       "3  http://www.taipeitimes.com/News/taiwan/archive...   \n",
       "4  http://www.taipeitimes.com/News/taiwan/archive...   \n",
       "\n",
       "                                     tokenized_sents  \\\n",
       "0  [[The, Ministry, of, Foreign, Affairs, yesterd...   \n",
       "1  [[The, Ministry, of, Foreign, Affairs, ', swif...   \n",
       "2  [[Premier, William, Lai, (, ', ), on, Friday, ...   \n",
       "3  [[The, results, of, a, Democratic, Progressive...   \n",
       "4  [[The, Presidential, Office, has, denied, clai...   \n",
       "\n",
       "                                    normalized_sents  \\\n",
       "0  [[ministry, foreign, affairs, yesterday, dismi...   \n",
       "1  [[ministry, foreign, affairs, swift, demotion,...   \n",
       "2  [[premier, william, lai, friday, said, hopes, ...   \n",
       "3  [[results, democratic, progressive, party, dpp...   \n",
       "4  [[presidential, office, denied, claims, made, ...   \n",
       "\n",
       "                                     tokenized_words  \\\n",
       "0  [The, Ministry, of, Foreign, Affairs, yesterda...   \n",
       "1  [The, Ministry, of, Foreign, Affairs, ', swift...   \n",
       "2  [Premier, William, Lai, (, ', ), on, Friday, s...   \n",
       "3  [The, results, of, a, Democratic, Progressive,...   \n",
       "4  [The, Presidential, Office, has, denied, claim...   \n",
       "\n",
       "                                    normalized_words  \\\n",
       "0  [ministry, foreign, affairs, yesterday, dismis...   \n",
       "1  [ministry, foreign, affairs, swift, demotion, ...   \n",
       "2  [premier, william, lai, friday, said, hopes, p...   \n",
       "3  [results, democratic, progressive, party, dpp,...   \n",
       "4  [presidential, office, denied, claims, made, s...   \n",
       "\n",
       "                                          TaggedText  \n",
       "0  ([ministry, foreign, affairs, yesterday, dismi...  \n",
       "1  ([ministry, foreign, affairs, swift, demotion,...  \n",
       "2  ([premier, william, lai, friday, said, hopes, ...  \n",
       "3  ([results, democratic, progressive, party, dpp...  \n",
       "4  ([presidential, office, denied, claims, made, ...  "
      ]
     },
     "execution_count": 69,
     "metadata": {},
     "output_type": "execute_result"
    }
   ],
   "source": [
    "keywords = ['international', 'local', 'military','entertainment', 'economy', 'science','art','environment']\n",
    "\n",
    "TWNewsDF['tokenized_words'] = TWNewsDF['text'].str.replace(\"-\",\"\").apply(lambda x: nltk.word_tokenize(x))\n",
    "TWNewsDF['normalized_words'] = TWNewsDF['tokenized_words'].apply(lambda x: lucem_illud.normalizeTokens(x, stopwordLst = lucem_illud.stop_words_basic, stemmer = None))\n",
    "\n",
    "\n",
    "taggedDocs = []\n",
    "for index, row in TWNewsDF.iterrows():\n",
    "    #Just doing a simple keyword assignment\n",
    "    docKeywords = [s for s in keywords if s in row['normalized_words']]\n",
    "    docKeywords.append(row['title'])\n",
    "    docKeywords.append(row['date'])\n",
    "    taggedDocs.append(gensim.models.doc2vec.LabeledSentence(words = row['normalized_words'], tags = docKeywords))\n",
    "TWNewsDF['TaggedText'] = taggedDocs\n",
    "TWNewsDF[:5]"
   ]
  },
  {
   "cell_type": "code",
   "execution_count": 70,
   "metadata": {},
   "outputs": [],
   "source": [
    "#Document to vector model\n",
    "TWNewsD2V = gensim.models.doc2vec.Doc2Vec(TWNewsDF['TaggedText'], size = 100)"
   ]
  },
  {
   "cell_type": "code",
   "execution_count": 71,
   "metadata": {},
   "outputs": [
    {
     "data": {
      "text/plain": [
       "[('roc', 0.7955434322357178),\n",
       " ('strait', 0.7828337550163269),\n",
       " ('dominican', 0.7793713808059692),\n",
       " ('toward', 0.7659620046615601),\n",
       " ('republic', 0.7653858661651611),\n",
       " ('defend', 0.7461732625961304),\n",
       " ('observers', 0.7420657873153687),\n",
       " ('annex', 0.7412620186805725),\n",
       " ('sides', 0.7411026954650879),\n",
       " ('taiwanchina', 0.7410571575164795)]"
      ]
     },
     "execution_count": 71,
     "metadata": {},
     "output_type": "execute_result"
    }
   ],
   "source": [
    "TWNewsD2V.most_similar(positive = ['beijing','china'], negative = ['taipei'], topn = 10)"
   ]
  },
  {
   "cell_type": "code",
   "execution_count": 72,
   "metadata": {},
   "outputs": [
    {
     "data": {
      "text/plain": [
       "array([[0.24518444]], dtype=float32)"
      ]
     },
     "execution_count": 72,
     "metadata": {},
     "output_type": "execute_result"
    }
   ],
   "source": [
    "sklearn.metrics.pairwise.cosine_similarity(TWNewsD2V['international'].reshape(1,-1), TWNewsD2V['national'].reshape(1,-1))"
   ]
  },
  {
   "cell_type": "code",
   "execution_count": 77,
   "metadata": {},
   "outputs": [],
   "source": [
    "heatmapMatrix = []\n",
    "for tagOuter in keywords:\n",
    "    column = []\n",
    "    tagVec = TWNewsD2V.docvecs[tagOuter].reshape(1, -1)\n",
    "    for tagInner in keywords:\n",
    "        column.append(sklearn.metrics.pairwise.cosine_similarity(tagVec, TWNewsD2V.docvecs[tagInner].reshape(1, -1))[0][0])\n",
    "    heatmapMatrix.append(column)\n",
    "heatmapMatrix = np.array(heatmapMatrix)"
   ]
  },
  {
   "cell_type": "code",
   "execution_count": 78,
   "metadata": {},
   "outputs": [
    {
     "data": {
      "image/png": "[encoded data removed]",
      "text/plain": [
       "<matplotlib.figure.Figure at 0x7f6fe3c4f588>"
      ]
     },
     "metadata": {},
     "output_type": "display_data"
    }
   ],
   "source": [
    "fig, ax = plt.subplots()\n",
    "hmap = ax.pcolor(heatmapMatrix, cmap='terrain')\n",
    "cbar = plt.colorbar(hmap)\n",
    "\n",
    "cbar.set_label('cosine similarity', rotation=270)\n",
    "a = ax.set_xticks(np.arange(heatmapMatrix.shape[1]) + 0.5, minor=False)\n",
    "a = ax.set_yticks(np.arange(heatmapMatrix.shape[0]) + 0.5, minor=False)\n",
    "\n",
    "a = ax.set_xticklabels(keywords, minor=False, rotation=270)\n",
    "a = ax.set_yticklabels(keywords, minor=False)"
   ]
  },
  {
   "cell_type": "code",
   "execution_count": 79,
   "metadata": {},
   "outputs": [],
   "source": [
    "targetDocs = TWNewsDF['title'][:10]\n",
    "\n",
    "heatmapMatrixD = []\n",
    "\n",
    "for tagOuter in targetDocs:\n",
    "    column = []\n",
    "    tagVec = TWNewsD2V.docvecs[tagOuter].reshape(1, -1)\n",
    "    for tagInner in targetDocs:\n",
    "        column.append(sklearn.metrics.pairwise.cosine_similarity(tagVec, TWNewsD2V.docvecs[tagInner].reshape(1, -1))[0][0])\n",
    "    heatmapMatrixD.append(column)\n",
    "heatmapMatrixD = np.array(heatmapMatrixD)"
   ]
  },
  {
   "cell_type": "code",
   "execution_count": 80,
   "metadata": {},
   "outputs": [
    {
     "data": {
      "image/png": "[encoded data removed]",
      "text/plain": [
       "<matplotlib.figure.Figure at 0x7f6fe3b94f60>"
      ]
     },
     "metadata": {},
     "output_type": "display_data"
    }
   ],
   "source": [
    "fig, ax = plt.subplots()\n",
    "hmap = ax.pcolor(heatmapMatrixD, cmap='terrain')\n",
    "cbar = plt.colorbar(hmap)\n",
    "\n",
    "cbar.set_label('cosine similarity', rotation=270)\n",
    "a = ax.set_xticks(np.arange(heatmapMatrixD.shape[1]) + 0.5, minor=False)\n",
    "a = ax.set_yticks(np.arange(heatmapMatrixD.shape[0]) + 0.5, minor=False)\n",
    "\n",
    "a = ax.set_xticklabels(targetDocs, minor=False, rotation=270)\n",
    "a = ax.set_yticklabels(targetDocs, minor=False)"
   ]
  },
  {
   "cell_type": "code",
   "execution_count": 81,
   "metadata": {},
   "outputs": [
    {
     "data": {
      "image/png": "[encoded data removed]",
      "text/plain": [
       "<matplotlib.figure.Figure at 0x7f6fe3ab6208>"
      ]
     },
     "metadata": {},
     "output_type": "display_data"
    }
   ],
   "source": [
    "heatmapMatrixC = []\n",
    "\n",
    "for tagOuter in targetDocs:\n",
    "    column = []\n",
    "    tagVec = TWNewsD2V.docvecs[tagOuter].reshape(1, -1)\n",
    "    for tagInner in keywords:\n",
    "        column.append(sklearn.metrics.pairwise.cosine_similarity(tagVec, TWNewsD2V.docvecs[tagInner].reshape(1, -1))[0][0])\n",
    "    heatmapMatrixC.append(column)\n",
    "heatmapMatrixC = np.array(heatmapMatrixC)\n",
    "\n",
    "fig, ax = plt.subplots()\n",
    "hmap = ax.pcolor(heatmapMatrixC, cmap='terrain')\n",
    "cbar = plt.colorbar(hmap)\n",
    "\n",
    "cbar.set_label('cosine similarity', rotation=270)\n",
    "a = ax.set_xticks(np.arange(heatmapMatrixC.shape[1]) + 0.5, minor=False)\n",
    "a = ax.set_yticks(np.arange(heatmapMatrixC.shape[0]) + 0.5, minor=False)\n",
    "\n",
    "a = ax.set_xticklabels(keywords, minor=False, rotation=270)\n",
    "a = ax.set_yticklabels(targetDocs, minor=False)"
   ]
  },
  {
   "cell_type": "code",
   "execution_count": 87,
   "metadata": {},
   "outputs": [
    {
     "data": {
      "text/plain": [
       "[('Government offers assistance loans to ASEAN projects', 0.9038494229316711),\n",
       " (\"â\\x80\\x98New southbound policy' not affected by China: minister\",\n",
       "  0.890825629234314),\n",
       " ('Tourism office to open in Thailand', 0.8861500024795532),\n",
       " ('Workers prepare for life back home', 0.8805473446846008),\n",
       " ('Developers helping Vietnam, Indonesia with highway plans',\n",
       "  0.8793237805366516),\n",
       " ('Tsai signals shift in approach to allies', 0.8740750551223755),\n",
       " ('Student envoys to visit Philippine, Indonesian farms', 0.8730287551879883),\n",
       " (\"Nation needs to harness sun's energy, expert says\", 0.8640902042388916),\n",
       " ('Executive Yuan brochure promotes southbound policy', 0.8624232411384583),\n",
       " ('Platform to aid tech exchanges with Israel: Hsu', 0.8605626821517944),\n",
       " (\"Tsai briefs Asia media on â\\x80\\x98new southbound policy'\",\n",
       "  0.858839750289917),\n",
       " ('President Tsai responds to Morris Chang criticism', 0.854559600353241),\n",
       " ('Yushan Forum: Cooperation key to better future', 0.8457536101341248),\n",
       " ('Taiwan signs agricultural MOU with Poland: COA', 0.8440917730331421),\n",
       " ('Businessman urges Taiwanese youth to see the world', 0.8433107137680054),\n",
       " ('Official urges US-Taiwan digital trade partnerships', 0.84146648645401),\n",
       " ('ITRI, Thai agency to cooperate on innovation efforts', 0.8340516686439514),\n",
       " ('Vietnam hoping for rise in Taiwanese investment: envoy',\n",
       "  0.8328985571861267),\n",
       " ('Exchanges key to bilateral ties, Honduran VP says', 0.830814778804779),\n",
       " ('Diplomatic ties solid: Honduran envoy', 0.8273195028305054),\n",
       " ('Education memorandum with Philippines renewed', 0.8262341618537903),\n",
       " ('Language standards for tour guides could be relaxed this year',\n",
       "  0.8255547285079956),\n",
       " ('Cabinet plans to allocate NT$6bn to regional policy', 0.8247709274291992),\n",
       " ('Muslims part of new policy: Tsai', 0.8222686052322388),\n",
       " ('Japanese, Thai ex-officials call for more cooperation', 0.8214316368103027),\n",
       " ('Taiwan to grant visa waivers for Pacific allies: Tsai', 0.8184167146682739),\n",
       " ('Center has helped 2,000 older people to find jobs', 0.8126331567764282),\n",
       " ('Officials bullish on Philippine visitors', 0.812050461769104),\n",
       " ('Tsai expresses hope to promote ties with El Salvador', 0.8109792470932007),\n",
       " ('Energy policy coordination needed: groups', 0.8093101978302002),\n",
       " ('New policy seeks integration with SE Asia: adviser', 0.8086791634559631),\n",
       " ('Beyond sugar and coffee', 0.8084334135055542),\n",
       " ('Thai employees to get help finding jobs after returning',\n",
       "  0.8062698841094971),\n",
       " ('Japan eager to cooperate on Internet of Things', 0.8033822774887085),\n",
       " ('Taiwan, India to work on healthcare, delegation says', 0.8033446669578552),\n",
       " ('MOE seeks more funds for language policy', 0.8011777400970459),\n",
       " ('Transport minister vows to study merits of exit tax', 0.7996761798858643),\n",
       " ('Lai to announce shortage, labor policies next month', 0.797836422920227),\n",
       " (\"â\\x80\\x98Baby box' plan canceled after public backlash\",\n",
       "  0.7965295314788818),\n",
       " ('Australian partnership to boost lychee exports', 0.7913666367530823),\n",
       " (\"Tsai sends Honduras' new president congratulations\", 0.7905009388923645),\n",
       " (\"More Taiwanese jobseekers favor ASEAN's market\", 0.7898995876312256),\n",
       " (\"Climate efforts to continue despite US' Paris pullout\", 0.7872504591941833),\n",
       " ('2017/03/21', 0.7871214747428894),\n",
       " ('Taiwan climbs two places in global tourism rankings', 0.7849400043487549),\n",
       " ('Taiwan, Australia target stronger ties', 0.7846512794494629),\n",
       " (\"Taiwan â\\x80\\x98needs to understand Muslims better'\", 0.78411465883255),\n",
       " ('China to target younger Taiwanese in loyalty boost', 0.7807141542434692),\n",
       " ('Bureau downplays volcano concerns', 0.7787256240844727),\n",
       " ('Row erupts over unpaid internships in ASEAN', 0.7774093151092529),\n",
       " ('DPP defends policy as China, Vietnam declare friendship',\n",
       "  0.7734165191650391),\n",
       " (\"â\\x80\\x98Just call me a scientist': female expert\", 0.7731471061706543),\n",
       " ('City-level exchanges key to diplomatic plight: Ko', 0.772555947303772),\n",
       " ('Asia Democracy Forum to highlight the environment', 0.7717272043228149),\n",
       " ('Center to offer SE Asian language aptitude tests', 0.7716134190559387),\n",
       " ('MECO offering course in teaching Filipino language', 0.7695487141609192),\n",
       " ('Bureau touts halal restaurant strategy', 0.7646157741546631),\n",
       " ('INTERVIEW: Science minister wants to attract 3,000 AI experts',\n",
       "  0.7643340826034546),\n",
       " ('EPA reveals new toilet paper policy', 0.7631800174713135),\n",
       " ('INTERVIEW: Russia representative touts close ties', 0.7611812949180603),\n",
       " (\"Former president launches project to produce â\\x80\\x98wagyu'\",\n",
       "  0.7611042261123657),\n",
       " ('Farmers urged to cut tilapia numbers to improve prices',\n",
       "  0.7610327005386353),\n",
       " ('Restart of Honduran beef imports marked with pomp', 0.7603617906570435),\n",
       " ('App gives migrant workers independent travel advice', 0.7598859071731567),\n",
       " ('2017/02/03', 0.7595168352127075),\n",
       " ('2017/09/24', 0.7591935396194458),\n",
       " ('More foreign offices should be shuttered, experts say', 0.7588447332382202),\n",
       " ('Pests threaten Sun Moon Lake', 0.7578747272491455),\n",
       " ('Traveling college coming to Taipei for one semester', 0.7571671009063721),\n",
       " ('Global Health Forum opens, drawing an international crowd',\n",
       "  0.7534765601158142),\n",
       " ('Forum focuses on cybersecurity in financial sector', 0.7533774375915527),\n",
       " ('Nation welcomes 1 millionth S Korean visitor', 0.7531576156616211),\n",
       " (\"COA says imports of beef to â\\x80\\x98help' domestic industry\",\n",
       "  0.7505792379379272),\n",
       " ('S Korea competing for SE Asia projects', 0.7489759922027588),\n",
       " ('Greenpeace Taiwan  dances to highlight plastic waste issue',\n",
       "  0.7487966418266296),\n",
       " (\"Al Gore visits Taiwan to speak at electric scooter developer Gogoro's office\",\n",
       "  0.7485983371734619),\n",
       " ('Start-ups present biotech gadgets at Taiwan B.I.G. Demo',\n",
       "  0.7484773397445679),\n",
       " ('Start-up plan may be harmful: union', 0.7459570169448853),\n",
       " ('2017/12/19', 0.7433539032936096),\n",
       " (\"Couriers in care system â\\x80\\x98just a thought': Hochen\",\n",
       "  0.7432676553726196),\n",
       " (\"Palau says ties â\\x80\\x98extremely stable' and will not change\",\n",
       "  0.7428008317947388),\n",
       " ('James Huang appointed TAITRA chair', 0.742570161819458),\n",
       " ('Taiwan wins four WorldSkill golds', 0.7419297695159912),\n",
       " ('Minister vows to halve use of pesticide by 2027', 0.7412923574447632),\n",
       " ('US official queries defense, China spies', 0.7405587434768677),\n",
       " ('Program launched to offer students internships in India',\n",
       "  0.7381076812744141),\n",
       " ('Study of Hakka language to become mandatory in designated regions',\n",
       "  0.73797607421875),\n",
       " (\"Southbound Policy complements India's own efforts: envoy\",\n",
       "  0.7371295690536499),\n",
       " ('Graduate degrees losing their edge in workplace: poll', 0.7370128035545349),\n",
       " ('Taiwan seeks visa reciprocity from Manila', 0.7357685565948486),\n",
       " ('2017/09/09', 0.7354153394699097),\n",
       " ('Four awarded for enhancing Taiwan, France relations', 0.7344375848770142),\n",
       " ('2017/07/06', 0.7343682646751404),\n",
       " ('No nuclear restart in sight, premier says', 0.7339199781417847),\n",
       " ('Taiwan attends Thai fair, seeks increase in travelers', 0.733138918876648),\n",
       " ('Cabinet credits policy for surge in tourists', 0.7330993413925171),\n",
       " (\"MOE wants to raise some professors' salaries by NT$5m\", 0.7323745489120483),\n",
       " ('Moriarty hails Tsai on cross-strait links', 0.7304964065551758),\n",
       " ('Cruise operators expect an active winter season', 0.7294116020202637),\n",
       " (\"â\\x80\\x98New immigrant' languages taught in pilot program\",\n",
       "  0.7289509773254395),\n",
       " ('2017/06/06', 0.7275620698928833),\n",
       " ('NARL to export laboratory mice to Southeast Asia', 0.7256219983100891),\n",
       " (\"Tropical storm expected to skirt nation's east coast\", 0.7231482267379761),\n",
       " ('Funding should go to student-lecturer ratio, union says',\n",
       "  0.722389817237854),\n",
       " ('Teachers of Vietnamese in high demand, official says', 0.7197715044021606),\n",
       " ('ROC ranks 28th in passport power index', 0.7188886404037476),\n",
       " ('Pollution to fall despite coal-fired power: EPA', 0.7186880707740784),\n",
       " ('Yushan Forum: Female business leaders critical to growth: US official',\n",
       "  0.7182551622390747),\n",
       " ('Taiwanese prefer personal banking experience: survey', 0.7179462909698486),\n",
       " ('2017/06/03', 0.7161374092102051),\n",
       " ('2017/10/31', 0.7154516577720642),\n",
       " ('New policy must consider human rights: advocates', 0.7146915197372437),\n",
       " ('Southeast, South Asian numbers set tourism record high',\n",
       "  0.7143120169639587),\n",
       " ('Ko urges new graduates to stand up to setbacks', 0.7142456769943237),\n",
       " ('2017/01/15', 0.7138885259628296),\n",
       " ('EU forms group to examine, conduct trade exchanges', 0.7138691544532776),\n",
       " ('2017/02/17', 0.7128801345825195),\n",
       " ('Vehicle test program to cost NT$380m', 0.7125915288925171),\n",
       " ('Taiwan should participate on the global stage, stop complaining, lawmaker says',\n",
       "  0.7125656604766846),\n",
       " (\"Diver to publish maps of Keelung's Wanghaisiang Bay\", 0.7125056982040405),\n",
       " ('economy', 0.7124093770980835),\n",
       " ('Minister proposes historic sites and media projects', 0.710153341293335),\n",
       " (\"New Southbound Policy: â\\x80\\x98Southbound policy' takes off in schools\",\n",
       "  0.7091985940933228),\n",
       " ('Inconsistent policy blamed for slow development of renewables, poll finds',\n",
       "  0.7087100148200989),\n",
       " ('Taiwan must be involved in S China Sea talks: official',\n",
       "  0.7085914611816406),\n",
       " ('Military plans program for low-end training jet', 0.708455502986908),\n",
       " ('Taiwan delivers first Agenda 2030 performance review', 0.7082421183586121),\n",
       " ('Academics offer officials advice over power situation', 0.707846999168396),\n",
       " ('2017/04/11', 0.707298755645752),\n",
       " ('Escalation sees Itu Aba allocated howitzers', 0.7068029642105103),\n",
       " ('2017/12/13', 0.7062571048736572),\n",
       " ('Travel requirements for Japanese visitors relaxed', 0.7060196399688721),\n",
       " ('EPA planning ocean cleanup on June 4', 0.7053190469741821),\n",
       " ('China has upgraded its Dongfeng missile: report', 0.705216646194458),\n",
       " ('Bea Johnson promotes book on zero-waste lifestyle', 0.705003023147583),\n",
       " ('Nation 31% self-sufficient', 0.7045164108276367),\n",
       " ('Tsai vows defense budget changes', 0.7041728496551514),\n",
       " ('Aboriginal language bill reviewed by committee', 0.7034509181976318),\n",
       " (\"Officials celebrate Taiwan's inclusion in US' Global Entry\",\n",
       "  0.7031108140945435),\n",
       " ('Cabinet sets funds to improve toilets', 0.7021028399467468),\n",
       " ('AI not a threat to people: forum', 0.7020953893661499),\n",
       " ('New visa measures for Asian visitors take effect', 0.7014567852020264),\n",
       " ('Report calls for caution on visa-free entry plans', 0.7008512020111084),\n",
       " ('2017/08/11', 0.700620710849762),\n",
       " ('2017/12/05', 0.6985982656478882),\n",
       " ('New council to advise on sustainable development', 0.6982906460762024),\n",
       " ('Beauty queens star in tourism videos', 0.6982694864273071),\n",
       " ('Taichung mulls ground-level traffic signs', 0.6978268623352051),\n",
       " ('Lee urges prioritizing power supply', 0.6967614889144897),\n",
       " ('2017/09/06', 0.696520984172821),\n",
       " ('INTERVIEW: SMEs need tailored policies, finance: trade group head',\n",
       "  0.6959030032157898),\n",
       " (\"Association to help â\\x80\\x98new southbound policy'\", 0.6949328184127808),\n",
       " ('Deputy minister hopes for more S Korean exchanges', 0.6945109367370605),\n",
       " (\"Nation's greenhouse gas emissions cuts behind schedule\",\n",
       "  0.6943593621253967),\n",
       " ('Foreign visitor numbers rebound, reversing trend', 0.6939771175384521),\n",
       " ('Think tanks important for policy formation: Tsai', 0.6939284801483154),\n",
       " ('2017/03/18', 0.6936212778091431),\n",
       " ('Language a bar to SE Asian tourism', 0.6928255558013916),\n",
       " ('Andre Chiang announces closure of his Singapore restaurant in favor of Raw',\n",
       "  0.6924822330474854),\n",
       " ('Long-term Care Services Program facing shortages', 0.6918802857398987),\n",
       " ('Indonesia signals easing of domestic worker travel ban',\n",
       "  0.6916074752807617),\n",
       " ('Zazazoo leverages uniform business', 0.6913320422172546),\n",
       " (\"Finance firms will boost â\\x80\\x98green' energy sector: Lai\",\n",
       "  0.6912894248962402),\n",
       " ('No Taiwanese harmed in London terror attack', 0.6890540719032288),\n",
       " ('Taiwan-US trade talks commence', 0.6889435052871704),\n",
       " ('Number of students deferring graduation to climb to 48,000',\n",
       "  0.6885626316070557),\n",
       " (\"Thai royal family's delegation honor Sung Ching-yun\", 0.6873642206192017),\n",
       " ('Taiwan 45th in healthcare access and quality: study', 0.6869585514068604),\n",
       " ('Tsai gives pledges at Yushan Forum', 0.686599612236023),\n",
       " ('People willing to pay to mitigate climate change', 0.6865378618240356),\n",
       " ('2017/06/24', 0.6863254308700562),\n",
       " ('Subsidies for southbound loans allocated', 0.6862893104553223),\n",
       " ('Poll finds wide support for new diplomatic moves', 0.6847854852676392),\n",
       " ('Taxi firm calls for regulation relaxation', 0.6827683448791504),\n",
       " ('China watchdog says ties hurt safety', 0.6821528673171997),\n",
       " ('Nation must be friendlier to SE Asians: lawmaker', 0.6814481019973755),\n",
       " (\"Minister urges UN to remember nation's contributions\", 0.6814416646957397),\n",
       " ('Worker demand expected to rise in third quarter', 0.6807684302330017),\n",
       " ('Indonesia to send 100 professional home care nurses', 0.6802657842636108),\n",
       " (\"Taichung mayor aims for â\\x80\\x98smart' ties on France trip\",\n",
       "  0.6781471967697144),\n",
       " ('The outlook is bleak for younger generation: poll', 0.6780518293380737),\n",
       " ('2017/04/15', 0.678023099899292),\n",
       " ('2017/10/20', 0.6778073310852051),\n",
       " ('Taiwan eager to work on cyber issues with US: Tsai', 0.6777607798576355),\n",
       " ('China trying to poach allies: source', 0.6775414943695068),\n",
       " ('Government will try to ensure power supply: premier', 0.6772606372833252),\n",
       " ('Visits help US military ties: MND', 0.6768097877502441),\n",
       " ('2017/06/23', 0.6765029430389404),\n",
       " ('Consumers focusing on therapeutic items: report', 0.6764596700668335),\n",
       " ('2017/09/12', 0.6763954162597656),\n",
       " ('Taoyuan to establish toy libraries citywide: mayor', 0.6755104064941406),\n",
       " ('Free Thai visas remain in doubt', 0.6751918792724609),\n",
       " ('2017/08/10', 0.6750771999359131),\n",
       " ('No new cyberwarfare branch listed in defense review', 0.6742339134216309),\n",
       " ('FEATURE: Classmates work to help Nepalese children', 0.674056351184845),\n",
       " ('Top hackers discuss IoT vulnerabilities in Taipei', 0.6737760305404663),\n",
       " ('Sprightly 76-year-old still tiling roofs in Pingtung County',\n",
       "  0.6736642122268677),\n",
       " (\"â\\x80\\x98The time is right,' Cloud Gate director says\", 0.673308253288269),\n",
       " ('2017/11/10', 0.6732251644134521),\n",
       " ('2017/04/04', 0.6731133460998535),\n",
       " ('Taipei ranked 61st least stressful city in annual survey',\n",
       "  0.6721001863479614),\n",
       " ('Forum on regional cooperation to be held next week', 0.6710009574890137),\n",
       " ('Number of Thai tourists spiking due to rules ease', 0.6708815693855286),\n",
       " ('Solomon Islands crisis would not affect Tsai visit', 0.6701966524124146),\n",
       " (\"China's new travel pass poses security risk: lawmakers\",\n",
       "  0.6701362133026123),\n",
       " ('2017/11/04', 0.6699748039245605),\n",
       " ('Local edible oils gain in market', 0.6698188781738281),\n",
       " ('Tsai voices hope for signing free-trade pact with UK', 0.6692421436309814),\n",
       " ('2017/10/29', 0.6691175699234009),\n",
       " (\"Online platform to connect region's NGOs\", 0.6687225103378296),\n",
       " ('Expert says air pollution issue is overexaggerated', 0.6683025360107422),\n",
       " ('Warm winter hits poinsettia plants', 0.6681538820266724),\n",
       " ('Taipei not adverse to China ties: Lin', 0.6679348349571228),\n",
       " ('2017/01/14', 0.6674138903617859),\n",
       " ('Taiwan-China ties likely to be rocky: TAO minister', 0.667149543762207),\n",
       " ('Agency helping restaurants install filtering equipment',\n",
       "  0.6671092510223389),\n",
       " ('Taiwanese ranked third-highest in Asia in using smartphones while traveling',\n",
       "  0.6667343378067017),\n",
       " ('Yangming raises capital for SE Asia', 0.6666394472122192),\n",
       " ('More 4G frequencies set to be auctioned this year', 0.6664429903030396),\n",
       " ('Lai open to readjustment of pollution fund, he says', 0.6658049821853638),\n",
       " ('Cabinet approves patrol boat budget', 0.6645934581756592),\n",
       " ('2017/10/13', 0.6645858287811279),\n",
       " (\"Philippine lawmakers issue statement supporting Taiwan's WHA attendance\",\n",
       "  0.6645349264144897),\n",
       " ('More Taiwanese institutions likely hacking targets', 0.6644142866134644),\n",
       " ('Taiwanese travelers unfazed by tensions in North Asia', 0.6641980409622192),\n",
       " ('Taiwan in talks with India over foreign workers', 0.6637054681777954),\n",
       " ('Telecoms face NCC panel at pre-4G auction interview', 0.6636533141136169),\n",
       " ('Volunteer military a risk: Control Yuan', 0.6634948253631592),\n",
       " ('2017/09/16', 0.6630732417106628),\n",
       " ('Ban on Japanese, Swedish, Dutch, beef to be eased', 0.6627081632614136),\n",
       " ('Telecoms given price cuts to boost mobile coverage', 0.6621724963188171),\n",
       " ('US lawmaker urges increased military ties', 0.6620547771453857),\n",
       " ('Taiwan-Solomon Islands ties not affected by ouster', 0.6619229316711426),\n",
       " ('2017/06/19', 0.6617777943611145),\n",
       " ('2017/03/15', 0.6616456508636475),\n",
       " ('2017/08/01', 0.6612511277198792),\n",
       " ('E-bikes offer opportunity, challenges, iF CEO says', 0.6610835790634155),\n",
       " ('Taipei Universiade: Lewis touts Universiade experience',\n",
       "  0.6608909368515015),\n",
       " ('Yunlin festival to feature Southeast Asian lanterns', 0.6603237390518188),\n",
       " ('More than a third of Taiwanese feel unhealthy, Watsons survey shows',\n",
       "  0.6597532033920288),\n",
       " ('US source says the US likes the New Southbound Policy', 0.6580425500869751),\n",
       " ('Penghu jellyfish influx caused by winds', 0.6578860282897949),\n",
       " ('Technical colleges seek more funding', 0.6578015685081482),\n",
       " ('Songshan airport closure unlikely: aviation officials', 0.6577980518341064),\n",
       " ('Poetry Road to feature readings by Hoklo poets', 0.6574484705924988),\n",
       " ('2017/06/11', 0.6565951704978943),\n",
       " ('Civic groups disagree on program budget', 0.6565538644790649),\n",
       " ('E-SPORTS: Triumphant SMG return to fanfare', 0.6565016508102417),\n",
       " ('Lin Chuan downplays concerns about debt impact', 0.6561803817749023),\n",
       " ('Restoration of Siangshan Wetlands brings back life', 0.656173586845398),\n",
       " ('Lin speaks at Cabinet farewell party', 0.6558283567428589),\n",
       " ('Changes to tour guide certifications pass first hurdle',\n",
       "  0.6557250022888184),\n",
       " ('IC to be installed in identity cards', 0.6549270749092102),\n",
       " ('Tsai and US senator reaffirm relations', 0.6536322832107544),\n",
       " ('TransAsia flight routes reassigned to other airlines', 0.6522893309593201),\n",
       " (\"KMT caucus head blasts â\\x80\\x98desperate' visa waiver move\",\n",
       "  0.6516289114952087),\n",
       " ('MOE to promote English as official language: Lai', 0.6515515446662903),\n",
       " ('Ministry to invest NT$4bn to boost semiconductors', 0.6514660716056824),\n",
       " ('Inauguration Anniversary: Reforms to continue with tolerance: Premier Lin',\n",
       "  0.651456892490387),\n",
       " ('Golden Pin awards given', 0.6514314413070679),\n",
       " (\"â\\x80\\x98Treasure' online archive of US documents opens\",\n",
       "  0.6514060497283936),\n",
       " ('Four lighthouses focus of bike tours', 0.6508207321166992),\n",
       " ('Taipei looks to start EPA talks with Japan', 0.6502723097801208),\n",
       " (\"Lanyu snorkeling, scuba ban sparks tour operators' ire\",\n",
       "  0.6501525640487671),\n",
       " ('Lawmakers urge government focus on cruise tourism', 0.6496527194976807),\n",
       " ('Uranus and the Orionid shower liven up the sky', 0.6493157744407654),\n",
       " ('Fewer Chinese for Presidential Office', 0.6490603685379028),\n",
       " ('New P-3Cs to thwart any submarine attack: military', 0.6482693552970886),\n",
       " ('2017/06/17', 0.6471447944641113),\n",
       " ('Cypress trees suited for marshes, might tear roads: writer',\n",
       "  0.646878182888031),\n",
       " ('Swine farmers reiterate opposition to ractopamine', 0.6468693017959595),\n",
       " ('2017/08/04', 0.6466937065124512),\n",
       " ('Latest visa-free treatment comes with restrictions', 0.6464717388153076),\n",
       " ('College admissions plans require greater flexibility', 0.646406352519989),\n",
       " ('Forum told farmers need more advanced technology', 0.6453035473823547),\n",
       " ('2017/05/18', 0.645237147808075),\n",
       " ('Tsai vows to boost tourism industry', 0.6449034214019775),\n",
       " ('Taipei to test driverless bus next week', 0.6443106532096863),\n",
       " ('Students dance the Charleston for Tainan', 0.6441694498062134),\n",
       " ('LIFT program unveiled', 0.6440345048904419),\n",
       " ('Cabinet to raise Southbound tender goals, sources say', 0.6434895992279053),\n",
       " ('2017/09/30', 0.6429202556610107),\n",
       " ('Taipei, Manila reach agreement on fishery programs', 0.6424625515937805),\n",
       " ('2017/11/16', 0.6422539949417114),\n",
       " ('COA to promote use of solar panels at farms', 0.6422361731529236),\n",
       " ('Filipinos visa-exempt from June 1', 0.6420731544494629),\n",
       " (\"Taipower to add â\\x80\\x98green' power grid to Penghu\", 0.641974151134491),\n",
       " ('Roche Diagnostics Taiwan named Best Employer Taiwan 2017 by Aon',\n",
       "  0.6418583393096924),\n",
       " ('2017/07/15', 0.6418427228927612),\n",
       " (\"Latest â\\x80\\x98Maps' book includes Taiwan\", 0.6417409777641296),\n",
       " ('Taiwan ranks fourth-best place for expats: survey', 0.6417371034622192),\n",
       " (\"ARATS boss pushes â\\x80\\x98one country' for more trade\",\n",
       "  0.6415876746177673),\n",
       " (\"Taipei launches â\\x80\\x98fun pass' for foreigners visiting three cities\",\n",
       "  0.6415286660194397),\n",
       " ('2017/05/21', 0.6405956745147705),\n",
       " ('2017/01/13', 0.6405456066131592),\n",
       " ('2017/04/24', 0.6401784420013428),\n",
       " ('MAC rebuts allegations of restricting Chinese visits', 0.6396670937538147),\n",
       " (\"Ex-AIT chairman tells Trump not to follow China's lead\", 0.639100193977356),\n",
       " ('Universities sign MOU to  conduct research on brain', 0.639028787612915),\n",
       " ('Luring students becoming more difficult: Cabinet', 0.6389603018760681),\n",
       " ('2017/09/17', 0.6387395858764648),\n",
       " (\"Howsler's instant noodle makes â\\x80\\x98Ramen Rater' list\",\n",
       "  0.6376761198043823),\n",
       " ('Travel agencies demand flexible working hours', 0.6376625299453735),\n",
       " ('Taiwan photo editing app a global hit', 0.6371838450431824),\n",
       " (\"Kaohsiung is Lonely Planet's No. 5\", 0.6370364427566528),\n",
       " ('2017/05/01', 0.6365290284156799),\n",
       " (\"Donation to NCTU set to boost Taiwan's go playing\", 0.6358919143676758),\n",
       " ('Tainan-based German making garbage into art', 0.6348854303359985),\n",
       " ('MAC minister urges China to stop limiting tourists', 0.6341389417648315),\n",
       " ('KMT think tank excoriates government', 0.6321502923965454),\n",
       " ('2017/10/17', 0.6317371129989624),\n",
       " ('Two-thirds have given up on career advancement', 0.6314256191253662),\n",
       " (\"â\\x80\\x98Fun Taiwan' to feature first-time overseas travelers\",\n",
       "  0.6306413412094116),\n",
       " ('Land planning bill nears completion', 0.6305110454559326),\n",
       " ('Taiwan would welcome F-35 jet sales: ministry', 0.6300709247589111),\n",
       " ('AIT head affirms WHA participation', 0.6300044059753418),\n",
       " ('Bidding process for naval frame supply to begin', 0.6294392943382263),\n",
       " (\"Cabinet resubmits next year's budget\", 0.6293562650680542),\n",
       " ('Food safety, farmers top concern: office', 0.6289117336273193),\n",
       " ('Taiwan-Japan forum participants aim to boost tourism figures',\n",
       "  0.6288121938705444),\n",
       " ('2017/01/24', 0.6286693811416626),\n",
       " ('Program to teach Southeast Asian languages, cultures', 0.6281341314315796),\n",
       " ('2017/02/20', 0.6275433301925659),\n",
       " ('New office aims to boost birth rate and family aid', 0.6273003220558167),\n",
       " (\"Tourist numbers can top last year's record: Hochen\", 0.6272074580192566),\n",
       " ('Team cracks orchid evolution code', 0.626701295375824),\n",
       " ('Northeasterly winds to block view of full moon for some',\n",
       "  0.6261476278305054),\n",
       " ('Tourism Bureau meets with US travel agencies, urges CAL not to cut flights',\n",
       "  0.6249467134475708),\n",
       " ('2017/07/12', 0.6249295473098755),\n",
       " ('Tunnels impede progress on railway Wi-Fi and 4G', 0.6240736246109009),\n",
       " ('2017/05/02', 0.6233189105987549),\n",
       " ('New Japan-Taiwan Exchange president to visit, promote ties',\n",
       "  0.6232620477676392),\n",
       " ('2017/07/22', 0.6229064464569092),\n",
       " ('Taichung student wins a Red Dot Design Award', 0.6226333975791931),\n",
       " (\"INTERVIEW: Minister says role is to be â\\x80\\x98trailblazer' for technology\",\n",
       "  0.6223856210708618),\n",
       " ('2017/06/25', 0.6223276853561401),\n",
       " ('Overtime going unpaid, ministry data show', 0.6221843361854553),\n",
       " ('EasyCard honors badminton star', 0.6221426725387573),\n",
       " (\"Malaysia's Bersih 2.0 wins Taiwan's democracy award\", 0.6219409704208374),\n",
       " ('Austronesian experts hail launch of raft', 0.6216205954551697),\n",
       " ('Occupy protester talks democracy', 0.621600866317749),\n",
       " ('2017/11/26', 0.6207096576690674),\n",
       " (\"Indonesia aims to cut migrants' costs, improve conditions\",\n",
       "  0.6203597784042358),\n",
       " ('Taiwan-Japan commission meets in Tokyo', 0.6202007532119751),\n",
       " ('Labor minister promises to listen', 0.6200432777404785),\n",
       " ('Refueling planes imply attack exercises', 0.6194232106208801),\n",
       " ('2017/01/26', 0.6186853647232056),\n",
       " ('NDC criticized for plan to loosen EIA rules for Taisugar',\n",
       "  0.6184315085411072),\n",
       " ('Health ministry to consider water fluoridation', 0.6183633208274841),\n",
       " ('2017/08/30', 0.6182335615158081),\n",
       " (\"Lai sorry over comment on caregivers' pay\", 0.6154464483261108),\n",
       " ('Farm program popular with Kaohsiung visitors', 0.615375816822052),\n",
       " ('2017/02/02', 0.6153210401535034),\n",
       " ('2017/07/04', 0.6153151988983154),\n",
       " ('FEATURE: Government losing battle with betel nut addiction',\n",
       "  0.6152243614196777),\n",
       " ('2017/03/26', 0.6148262023925781),\n",
       " ('Tsai praises TPP progress at APEC', 0.6141384840011597),\n",
       " ('Indie games convention expecting 60 developers', 0.6141013503074646),\n",
       " ('Sniffer dogs overworked, lack colleagues: customs', 0.6139286756515503),\n",
       " (\"â\\x80\\x98Space Out' to be held in Taiwan\", 0.6137124300003052),\n",
       " ('Taiwan falls a notch in global competitiveness', 0.6134401559829712),\n",
       " ('Abe reaffirms ties between Taiwan and Japan', 0.6133631467819214),\n",
       " ('2017/07/23', 0.6133056879043579),\n",
       " ('National Palace Museum to open an outreach office', 0.6132794618606567),\n",
       " ('CGA to buy devices to protect EEZ', 0.611924946308136),\n",
       " ('Number of workers on unpaid leave continues to drop', 0.6117237210273743),\n",
       " ('FEATURE: Taiwanese search for roots in US archives', 0.6113705039024353),\n",
       " ('MOTC mulls vehicle tests after cement truck smash', 0.611294150352478),\n",
       " ('Taiwan urged to invest in Central America', 0.6112154722213745),\n",
       " ('2017/11/21', 0.6108872890472412),\n",
       " ('Forum wrangles with questions on national language', 0.6108211278915405),\n",
       " ('Foreign envoys endorse Pride Parade', 0.6107938885688782),\n",
       " ('2017/09/03', 0.6105629205703735),\n",
       " ('2017/07/02', 0.6099305152893066),\n",
       " (\"â\\x80\\x98Travelscope' Penghu episode nominated for awards\",\n",
       "  0.6098912358283997),\n",
       " ('2017/10/10', 0.6097793579101562),\n",
       " ('2017/01/29', 0.6097478866577148),\n",
       " ('2017/11/25', 0.609703779220581),\n",
       " ('2017/11/13', 0.6096763610839844),\n",
       " ('2017/01/30', 0.609352707862854),\n",
       " ('Ministry plans to attract international filmmakers', 0.6088733077049255),\n",
       " ('Pork import issue hampering ties, US official says', 0.6086684465408325),\n",
       " ('Taiwan to develop new stealth fighter jets, ministry says',\n",
       "  0.6080288290977478),\n",
       " ('2017/10/15', 0.6079330444335938),\n",
       " ('2017/11/08', 0.6076384782791138),\n",
       " ('2017/05/08', 0.6068019270896912),\n",
       " ('KMT criticizes labor law, cites price increases', 0.6061197519302368),\n",
       " ('Storms limit power supply; savings urged', 0.6058343648910522),\n",
       " (\"Study gives insight into importance  of a lizard's tail\",\n",
       "  0.6058053970336914),\n",
       " (\"Taipower's inefficiency root of power problems: group\", 0.605647087097168),\n",
       " ('Ministry announces plan to reduce daycare costs', 0.60551917552948),\n",
       " ('Forestry Bureau promotes benefits of plan in Hualien', 0.6048669219017029),\n",
       " ('Winning drawing  accompanies launch of Formosat-5', 0.6047530174255371),\n",
       " (\"Most Taiwanese support â\\x80\\x98status quo' peace: MAC\",\n",
       "  0.6040309071540833),\n",
       " ('Postal firm to launch home care services on Oct. 16', 0.6033549904823303),\n",
       " ('2017/09/11', 0.6033218502998352),\n",
       " ('104 Job Bank survey shows greater demand for tutors', 0.6031913161277771),\n",
       " ('Power Showdown: KMT lawmaker challenges premier on vow to meet power demand in two years',\n",
       "  0.6029574871063232),\n",
       " ('New aviation rules to restrict private drone operations to daytime flying',\n",
       "  0.6027967929840088),\n",
       " ('Cross-strait trade slid 0.7% in 2016 as relations cooled',\n",
       "  0.6025902032852173),\n",
       " ('Vendor confronts Ko over lengthy market renovation', 0.602185845375061),\n",
       " ('Young puppeteer fights for a declining art', 0.6021379828453064),\n",
       " ('2017/05/16', 0.601976215839386),\n",
       " (\"Best spots to see the new year's first sunrise in the south\",\n",
       "  0.6019688844680786),\n",
       " ('Uber is an isolated case, NDC deputy head says', 0.6019121408462524),\n",
       " ('First domestically built satellite to launch Thursday', 0.6013965010643005),\n",
       " ('2017/04/26', 0.601363480091095),\n",
       " ('Tsai invites pope to visit, pledges support for peace', 0.601294994354248),\n",
       " ('2017/01/07', 0.6011821031570435),\n",
       " ('Arborist rids 13m camphor of pests', 0.6010136604309082),\n",
       " ('Exchange student rules mulled', 0.6008070111274719),\n",
       " ('Agencies criticized for blocking cell stations', 0.600005030632019),\n",
       " ('Academics urge greater contribution in SE Asia', 0.5999513268470764),\n",
       " ('Comics to be distributed worldwide in campaign for rabies awareness',\n",
       "  0.5995678901672363),\n",
       " (\"Taipei to feature famed Venetian artist's creations\", 0.5992034673690796),\n",
       " ('Taipei Railway Workshop to open to public on July 19', 0.5986272096633911),\n",
       " (\"Video promotes Taiwan's sustainability know-how\", 0.5979804992675781),\n",
       " ('2017/10/07', 0.5976850986480713),\n",
       " ('Bill to tighten intellectual property protection: office',\n",
       "  0.5973469018936157),\n",
       " ('2017/10/23', 0.5971876978874207),\n",
       " ('2017/07/18', 0.5965760946273804),\n",
       " ('Applicant pool for housing subsidies to be widened', 0.5961085557937622),\n",
       " ('2017/05/24', 0.5959596633911133),\n",
       " ('2017/03/27', 0.5958161354064941),\n",
       " ('2017/05/04', 0.5958006381988525),\n",
       " ('2017/04/14', 0.5957171320915222),\n",
       " ('Tibetan envoy looks to invite the Dalai Lama', 0.5954825282096863),\n",
       " ('Hundreds perform at Taipei event', 0.5953859090805054),\n",
       " ('2017/11/28', 0.5953686833381653),\n",
       " ('Holy See reaffirms its partnership with ROC', 0.5945596694946289),\n",
       " ('2017/09/10', 0.5945074558258057),\n",
       " ('Luodong student wins first place in bakery at culinary arts competition',\n",
       "  0.5943572521209717),\n",
       " ('Activists incensed over proposed tax cut for day traders',\n",
       "  0.5942453742027283),\n",
       " ('2017/11/27', 0.5939748287200928),\n",
       " ('2017/04/17', 0.5934799313545227),\n",
       " ('Catholic congress opens in Kaohsiung', 0.5932142734527588),\n",
       " (\"MOFA welcomes Washington's adherence to TRA\", 0.5931211709976196),\n",
       " ('Paraquat ban might start in July', 0.5929802060127258),\n",
       " ('Number of expats returning for Double Ten surges: OCAC',\n",
       "  0.5917928218841553),\n",
       " (\"Thailand's visa-free lag not tied to â\\x80\\x98one China': MOFA\",\n",
       "  0.5915258526802063),\n",
       " ('Taipei Universiade: UK intermediary between Taiwan, Europol: source',\n",
       "  0.5913708209991455),\n",
       " ('Visiting China unlikely, but not out of the question: Ma',\n",
       "  0.5912970900535583),\n",
       " (\"Lawmakers talk series' success\", 0.5911647081375122),\n",
       " ('Blackouts: DPP calls on Lin to report to legislature', 0.5911118388175964),\n",
       " ('COA boss optimistic on Taiwan getting off EU warning list',\n",
       "  0.5910284519195557),\n",
       " ('Five more allies offer support at UN', 0.5909878015518188),\n",
       " ('Taipei mayor visits Taoyuan Summer Universiade venues', 0.589918315410614),\n",
       " ('Man finds peace in dedication to the art of calligraphy',\n",
       "  0.5895942449569702),\n",
       " ('Tale by Taiwanese author to be performed in the US', 0.5891639590263367),\n",
       " ('2017/01/02', 0.5889905691146851),\n",
       " ('2017/08/20', 0.5888195037841797),\n",
       " ('Factories to be taxed for PM2.5 emissions: EPA', 0.5888134241104126),\n",
       " ('Pingsi to hold moon-inspired lantern festival', 0.58878093957901),\n",
       " ('2017/01/31', 0.5887423753738403),\n",
       " ('Premier commends officials for biggest heroin bust', 0.5882877111434937),\n",
       " ('Intel channels set up for Universiade', 0.5880863666534424),\n",
       " ('Ko adds principle for Shanghai-Taipei forum', 0.58770751953125),\n",
       " ('2017/02/08', 0.5875911712646484),\n",
       " ('IC, photonics may be added to EPA monitor', 0.5875001549720764),\n",
       " ('CPBL, CWB agree on customized weather forecasts', 0.5874395370483398),\n",
       " ('More frequencies to be auctioned in October', 0.5873777270317078),\n",
       " ('2017/03/31', 0.5873000621795654),\n",
       " ('Baseball coach turns old building into study room', 0.5869252681732178),\n",
       " ('Drug use highest among people in their 20s: official', 0.5868368148803711),\n",
       " ('Tsai meets Russel, hails stable relations with US', 0.5863909721374512),\n",
       " ('Government should lead driverless vehicle industry, academics say',\n",
       "  0.5862112641334534),\n",
       " ('New money rules target key politicians', 0.5856747031211853),\n",
       " ('2017/11/19', 0.5852625370025635),\n",
       " ('ARATS visit would be welcomed, deputy minister says', 0.5851391553878784),\n",
       " ('2017/07/17', 0.5846959352493286),\n",
       " ('The US calls on Taipei, Beijing to settle differences', 0.5846817493438721),\n",
       " ('2017/12/22', 0.5845276713371277),\n",
       " ('Wastewater plant to be constructed on Pratas Island', 0.5844892263412476),\n",
       " ('2017/01/25', 0.5842867493629456),\n",
       " ('2017/12/16', 0.5839914083480835),\n",
       " ('Public to decide on territory: premier', 0.5839232206344604),\n",
       " ('Migrant worker contract extensions now online', 0.5839204788208008),\n",
       " ('Doctor advocates novelty, exercise, diet for brain health',\n",
       "  0.5839026570320129),\n",
       " ('Cabinet asks China to curb pollution as air quality worsens',\n",
       "  0.5838545560836792),\n",
       " ('Group calls for bigger warning labels on cigarette packs',\n",
       "  0.5829524993896484),\n",
       " ('Cable TV operators facing challenges, media expert says',\n",
       "  0.5827405452728271),\n",
       " ('TSRM calls for artificial insemination subsidies', 0.5827372074127197),\n",
       " ('Tabletop game maker looking to educate preschoolers', 0.5826413631439209),\n",
       " ('Pingtung population falls for 15th consecutive year', 0.5824682116508484),\n",
       " (\"Tourism Bureau is planning promotions for â\\x80\\x98Cinderella Shoe'\",\n",
       "  0.5821941494941711),\n",
       " (\"Taiwan government gives to Vietnam's relief efforts\", 0.581602931022644),\n",
       " ('Taichung to store parts of torn-down heritage sites', 0.581556499004364),\n",
       " ('Missile command set to be merged with air force', 0.581403374671936),\n",
       " ('Senior citizens outnumber young people in Taiwan', 0.5813800096511841),\n",
       " ('Chinese immigrant cultivates dragon fruit, new skills on farm in Tainan',\n",
       "  0.5813557505607605),\n",
       " ('2017/08/24', 0.5806570053100586),\n",
       " ('2017/08/14', 0.5804165601730347),\n",
       " ('Taoyuan airport exhibition showcases Matsu to visitors',\n",
       "  0.5803812146186829),\n",
       " ('2017/10/01', 0.5803139209747314),\n",
       " ('2017/11/01', 0.5802015066146851),\n",
       " ('Companies support labor act changes: poll', 0.5801595449447632),\n",
       " (\"Tainan rebuts â\\x80\\x98worst' traffic report\", 0.5801292657852173),\n",
       " ('Workers tend to huge snakes fresh out of hibernation', 0.5801075100898743),\n",
       " ('Ministry to reassign staff from six shuttered offices', 0.5800787210464478),\n",
       " (\"Ko elucidates â\\x80\\x98garden city' plan\", 0.5800497531890869),\n",
       " ('Environmentalists press oyster farmers', 0.5790873765945435),\n",
       " ('Lanyu residents demand removal of nuclear waste', 0.5785295367240906),\n",
       " ('Military hopeful over cooperation with US: sources', 0.5780496597290039),\n",
       " ('Time to start working on direct democracy: Ko', 0.5780127048492432),\n",
       " ('2017/07/13', 0.5776594281196594),\n",
       " ('2017/01/20', 0.5775961875915527),\n",
       " ('Japanese Cultural Center opens to boost exchanges', 0.577448308467865),\n",
       " ('Ratio of classical Chinese guidelines to be decided', 0.5772826671600342),\n",
       " ('Groups redesign therapy garments', 0.57716965675354),\n",
       " ('About 100,000 stores to be affected by free bag ban', 0.5769935846328735),\n",
       " ('Train ridership fell 8% last year, report shows', 0.5768259763717651),\n",
       " ('Nation secretly attended global oceans forum', 0.5768222808837891),\n",
       " ('Radar developed to track bees, probe hive declines', 0.5767270922660828),\n",
       " ('Lai wants realistic figures on energy plans', 0.5762636661529541),\n",
       " ('US thanks Taiwan for IS coalition contributions', 0.5761722326278687),\n",
       " ('Subsidy to private facilities panned', 0.5760376453399658),\n",
       " ('FEATURE: President works to keep Central American friends',\n",
       "  0.5758311748504639),\n",
       " ('Bookseller warns on free speech', 0.575491189956665),\n",
       " (\"Public dissatisfied with Tsai's energy policy: poll\", 0.5749726295471191),\n",
       " ('Hakka bill passes committee review', 0.5747852921485901),\n",
       " ('Jason Hsu fears marriage equality effort losing out', 0.5744103193283081),\n",
       " ('Ban on euthanizing stray animals to be enforced on Feb.4',\n",
       "  0.5742146968841553),\n",
       " ('Fruit names do not invite ghosts, food official says', 0.5737507343292236),\n",
       " ('2017/11/22', 0.5737061500549316),\n",
       " ('New Southbound Policy: Local firms look to boost regional clout',\n",
       "  0.5735186338424683),\n",
       " ('2017/09/29', 0.5732961297035217),\n",
       " ('Beijing most concerned with China policy', 0.5730313062667847),\n",
       " ('Two bitten by fish in Taitung lake', 0.5729800462722778),\n",
       " ('Traffic-calming zones to be introduced', 0.5728915929794312),\n",
       " ('TRA ticket fares to be adjusted: MOTC', 0.5727463960647583),\n",
       " ('Fuel surcharge system to continue unchanged', 0.5726180672645569),\n",
       " ('Chinese university ploy not a major concern: ministry', 0.5725165605545044),\n",
       " ('Students at experimental schools gain recognition', 0.5724395513534546),\n",
       " ('Report shows the TRA deficit to be NT$111.1bn', 0.5722484588623047),\n",
       " ('FEATURE: Activist parents challenge social norms on childcare',\n",
       "  0.5720493793487549),\n",
       " (\"Soong hopes for â\\x80\\x98natural' meeting with Xi at APEC\",\n",
       "  0.5719946622848511),\n",
       " ('2017/06/02', 0.5719284415245056),\n",
       " ('Taiwanese perform most travel searches on mobile devices',\n",
       "  0.5716587901115417),\n",
       " ('Government urged to use geothermal energy sources', 0.5716255307197571),\n",
       " ('Northeast monsoon brings air pollution from China: EPA',\n",
       "  0.5714949369430542),\n",
       " ('Habits hinder unisex restrooms', 0.5712499022483826),\n",
       " ('Advocates urge remodeling of Losheng Sanatorium', 0.5712200999259949),\n",
       " ('Students find fame after mixing Atayal, street-dance moves',\n",
       "  0.5711703896522522),\n",
       " ('2017/06/20', 0.5711193084716797),\n",
       " ('Taipei toy shop scrambles to satisfy demand for Lego', 0.5707695484161377),\n",
       " ('China planning policies to attract Taiwanese', 0.5705628395080566),\n",
       " ('Firing pregnant foreign workers illegal: ministry', 0.5704681873321533),\n",
       " ('Chan eyes solution for CPC plan', 0.570219874382019),\n",
       " ('Labor law needs revision now: DPP legislator', 0.5701532363891602),\n",
       " ('2017/06/05', 0.5696241855621338),\n",
       " ('Legislative Yuan passes Aboriginal language act', 0.5696195363998413),\n",
       " ('2017/10/05', 0.5693994760513306),\n",
       " ('Former movie poster artist loses home, but finds new mission in Linkou shelter',\n",
       "  0.5692359805107117),\n",
       " ('Amateur enthusiasts identify 15 new spider species', 0.5689181089401245),\n",
       " ('Lawmakers pass act covering rentals', 0.5687389373779297),\n",
       " ('Executive Yuan budget estimates up 0.6 percent', 0.5685397982597351),\n",
       " (\"â\\x80\\x98Minority' is desinicizing Taiwan: former minister\",\n",
       "  0.5683773159980774),\n",
       " ('MOE offers fun Mandarin learning program', 0.5680246353149414),\n",
       " ('Researchers probe vision', 0.5677715539932251),\n",
       " (\"Online system to combat â\\x80\\x98fake news'\", 0.5676110982894897),\n",
       " ('Government to promote programs in rural areas', 0.5675441026687622),\n",
       " ('Mexican quake fundraiser planned', 0.5674172043800354),\n",
       " ('2017/10/18', 0.5668004751205444),\n",
       " ('Chunghwa Post to switch bikes for electric scooters', 0.566778302192688),\n",
       " (\"â\\x80\\x98Lovers' Night' marks end of harvest\", 0.5662535429000854),\n",
       " ('First fully Taiwanese-designed satellite to be launched on Aug. 25',\n",
       "  0.5660634636878967),\n",
       " ('Chunghwa Post launches cross-strait electronic pay', 0.5660268068313599),\n",
       " (\"Taiwan's universities show mixed results in QS ranking\",\n",
       "  0.5659900903701782),\n",
       " ('Most campsites do not clarify insurance status, survey finds',\n",
       "  0.565853476524353),\n",
       " ('City government to  step up Universiade Games promotion',\n",
       "  0.5658454298973083),\n",
       " ('Teen to exhibit photos of Amis in his hometown', 0.5658259391784668),\n",
       " ('New work rules lift overtime pay 9.01%', 0.5656027793884277),\n",
       " ('2017/09/01', 0.5652341246604919),\n",
       " ('2017/11/07', 0.5652011632919312),\n",
       " ('DPP remains open to cross-strait dialogue', 0.5650535821914673),\n",
       " ('North Korean memoirist cancels trip to Taiwan', 0.5648204684257507),\n",
       " ('2017/04/25', 0.5647673606872559),\n",
       " ('Taiwan taken off regional money-laundering list', 0.5647342205047607),\n",
       " ('2017/10/30', 0.5645273923873901),\n",
       " ('2017/04/03', 0.5645046234130859),\n",
       " ('Ministry mulls purchase of additional 300 Stingers', 0.564437985420227),\n",
       " ('2017/12/04', 0.5642825961112976),\n",
       " ('Taiwanese-Russian tech transfer workshop held', 0.5642013549804688),\n",
       " ('INTERVIEW: New boss to reorient agricultural trading platform',\n",
       "  0.5634440183639526),\n",
       " ('Planes serving Itu Aba are fitted with life-saving devices',\n",
       "  0.5632227659225464),\n",
       " (\"Power shortage â\\x80\\x98illusion' benefits big firms: groups\",\n",
       "  0.5632060766220093),\n",
       " ('School band innovates to join music competition', 0.5627822875976562),\n",
       " ('DPP lawmaker pushes for geothermal power', 0.5626378655433655),\n",
       " ('Artificial Intelligence to get NT$1bn boost a year', 0.5625845789909363),\n",
       " ('Legislature to mull Cabinet restructuring', 0.5623443126678467),\n",
       " ('Volunteer group to work on restoring Danlan Old Trail', 0.5618923306465149),\n",
       " ('Bonsai exhibition opens in Changhua', 0.561764121055603),\n",
       " ('Cabinet urged to address pollution', 0.5617024898529053),\n",
       " ('Indonesia to urge higher pay for domestic workers', 0.5612287521362305),\n",
       " (\"Group protests Cabinet's labor amendment\", 0.5609456300735474),\n",
       " ('US legislators question arms sale delay', 0.5609399080276489),\n",
       " ('Policies take effect in new year', 0.5607421398162842),\n",
       " ('PANAMA SWITCHES SIDES: Taipei should forgo ROC framework: ex-premier',\n",
       "  0.560600996017456),\n",
       " ('Drinks businesses squeeze NT$49.1bn from consumers', 0.5604556798934937),\n",
       " ('Chain coffee shops added to Taipei food platform', 0.5604348182678223),\n",
       " ('2017/08/16', 0.5602190494537354),\n",
       " ('Rail terminus at Nangang said to cost extra NT$5bn', 0.5600383281707764),\n",
       " ('2017/08/27', 0.5597356557846069),\n",
       " ('Student takes first prize at robot model building competition',\n",
       "  0.5595642328262329),\n",
       " (\"Minimum wage to add billions to employers' costs\", 0.5595546960830688),\n",
       " ('Greenpeace slams lack of emissions-cutting map', 0.5590876340866089),\n",
       " ('Marine park office to start collecting conservation fees',\n",
       "  0.5590819716453552),\n",
       " ('Technologies showcased at the Paris Air Show', 0.5588668584823608),\n",
       " ('Policy changes aim to boost Chinese visits: council', 0.5588216185569763),\n",
       " ('2017/01/01', 0.5587436556816101),\n",
       " ('Search on for Taiwanese hikers in Nepal', 0.5583087801933289),\n",
       " ('China Airlines to launch Paris, London flights', 0.5582758784294128),\n",
       " ('2017/09/27', 0.5581823587417603),\n",
       " ('Women comprise 13.6 percent of volunteer force', 0.5579897165298462),\n",
       " ('2017/02/13', 0.5577211380004883),\n",
       " ('2017/11/11', 0.5575683116912842),\n",
       " ('Global Entry plan unaffected by travel ban: ministry', 0.5574665665626526),\n",
       " ('2017/03/11', 0.55729740858078),\n",
       " (\"Auction host tangos with dead crocodile â\\x80\\x98to boost sales'\",\n",
       "  0.5571423768997192),\n",
       " ('Ministry aims to make the nation stand out at CES', 0.5570435523986816),\n",
       " ('Secretary of state pick affirms US backing of Taiwan', 0.557007908821106),\n",
       " ('Puppetry play delves into refugee crisis, racial issues',\n",
       "  0.5568735003471375),\n",
       " ('2017/04/22', 0.5566065907478333),\n",
       " ('Eight new insect species discovered on Dadan Island', 0.5560612082481384),\n",
       " ('2017/10/04', 0.5559080839157104),\n",
       " ('Tighter controls on private daycares needed, union says',\n",
       "  0.5558013916015625),\n",
       " ('System to also send tsunami warnings', 0.5557821989059448),\n",
       " ('Cross-strait communication difficult: SEF', 0.5555372834205627),\n",
       " ('Taiwanese firms unable to afford patents, survey says', 0.5550566911697388),\n",
       " ('2017/05/29', 0.5550522804260254),\n",
       " ('FDA offers advice for people needing walkers', 0.5544161200523376),\n",
       " ('Nepalese cyclists to spread love of peace and the environment',\n",
       "  0.5542638897895813),\n",
       " ('Taipei Universiade: Fans swarm Dutch water polo team', 0.5538078546524048),\n",
       " (\"Hsinchu Zoo offers â\\x80\\x98wonder chickens' tours to visitors\",\n",
       "  0.5533520579338074),\n",
       " ('THSR stretch would lose NT$200m yearly: expert', 0.5531206130981445),\n",
       " ('2017/01/11', 0.5530254244804382),\n",
       " (\"Effects of coal reduction â\\x80\\x98limited'\", 0.5528968572616577),\n",
       " ('2017/03/02', 0.5527914762496948),\n",
       " ('Taiwanese drama dubbed and aired in 14 countries', 0.5525115132331848),\n",
       " ('Lawmakers urge efforts to attract S Koreans', 0.5524313449859619),\n",
       " ('2017/06/18', 0.5523514747619629),\n",
       " ('2017/11/06', 0.5523195862770081),\n",
       " ('Government condemns North Korea missile launch', 0.5520690679550171),\n",
       " ('Taoyuan inks deal with US county to promote exchanges', 0.5520097017288208),\n",
       " ('Protesters decry Aboriginal land policy proposal', 0.5518592000007629),\n",
       " ('Taipei Universiade: Street parade held as Universiade countdown begins',\n",
       "  0.551824688911438),\n",
       " ('2017/06/04', 0.5517977476119995),\n",
       " ('Taipei mayor sets six-year preschools goal', 0.55179363489151),\n",
       " (\"Plan's budget proposal delayed\", 0.5515213012695312),\n",
       " ('2017/02/07', 0.5515143275260925),\n",
       " ('2017/03/29', 0.5514547824859619),\n",
       " ('NCC readies media funding bill', 0.5510995984077454),\n",
       " ('Local students recognized at Red Dot Design awards', 0.5506055355072021),\n",
       " ('Indian envoy finds similarities between buildings in Taipei, Chennai',\n",
       "  0.5505329966545105),\n",
       " ('2017/05/09', 0.5504676103591919),\n",
       " ('Aboriginal language bill passes committee review', 0.5503144264221191),\n",
       " ('2017/08/07', 0.5503103733062744),\n",
       " ('2017/06/09', 0.5498559474945068),\n",
       " ('No one to resign over power: Cabinet', 0.5497835874557495),\n",
       " ('Fund youth training, exhibitions: advocates', 0.549537181854248),\n",
       " (\"INTERVIEW: Transparency and public voice form Tang's policy\",\n",
       "  0.5495362281799316),\n",
       " ('Yunlin itineraries aim  to draw tourists as lantern festival looms',\n",
       "  0.5495152473449707),\n",
       " ('Trainee scheme to help people with dementia socialize', 0.5494418740272522),\n",
       " ('2017/10/09', 0.5493006706237793),\n",
       " ('Lai and Wu leave private meeting upbeat', 0.5491251945495605),\n",
       " (\"Children's savings account program to launch in June\", 0.5491223931312561),\n",
       " ('Mission in Ecuador forced to change name', 0.5480970144271851),\n",
       " ('Office thanks US lawmakers for support', 0.547912061214447),\n",
       " ('TIPC signs note with Sabah Ports on development', 0.547615647315979),\n",
       " ('2017/10/14', 0.5473779439926147),\n",
       " ('Lantern cleanup plans outlined', 0.5471263527870178),\n",
       " ('Makeover for brewery proposed', 0.5469904541969299),\n",
       " ('Births, deaths and marriages all fell in first seven months',\n",
       "  0.546741247177124),\n",
       " ('Pingan Turtle breaks record at 18,888 jin', 0.5464404225349426),\n",
       " ('No chance of Tsai-Trump meeting on trip: minister', 0.5464176535606384),\n",
       " (\"US should welcome Tsai's â\\x80\\x98status quo' commitment: report\",\n",
       "  0.5459190011024475),\n",
       " ('Singer, lawmakers urge tougher fines for ticket scalpers',\n",
       "  0.5458792448043823),\n",
       " ('2017/04/09', 0.5458503365516663),\n",
       " ('Church ranking No. 1 in WMF online poll', 0.5458101034164429),\n",
       " ('2017/12/14', 0.5457973480224609),\n",
       " ('Lin Chuan promotes aerospace industry competitiveness', 0.5457262396812439),\n",
       " ('Lin backs bank on currency redesign', 0.5452041625976562),\n",
       " ('Pheasant-tailed jacanas thrive on eco-friendly Tainan water chestnut farms',\n",
       "  0.544836699962616),\n",
       " ('Nation should seek F-35s and KC-130 tankers, experts say',\n",
       "  0.5447107553482056),\n",
       " ('Cruise ship tourism on the rise', 0.5445472002029419),\n",
       " ('Single households new market for businesses', 0.5445462465286255),\n",
       " ('Inauguration Anniversary: Government broke its promise: teachers',\n",
       "  0.5444577932357788),\n",
       " ('2017/05/28', 0.5444489121437073),\n",
       " ('2017/09/08', 0.5441074371337891),\n",
       " ('Taiwan-Japanese fishery work group meets in Tokyo', 0.5432549715042114),\n",
       " ('Lawmakers seek support for family caregivers bill', 0.5429003238677979),\n",
       " ('INTERVIEW: Union negotiations take wisdom, patience: CAL chair',\n",
       "  0.5428929328918457),\n",
       " ('2017/12/02', 0.5425502061843872),\n",
       " ('Art autonomously created by AI on display in Taichung', 0.5423863530158997),\n",
       " ('Cabinet extends ministry merger act until 2020', 0.5423681735992432),\n",
       " ('Fintech regulatory sandbox law passes', 0.5423071384429932),\n",
       " ('2017/12/10', 0.5423068404197693),\n",
       " ('ROC, Panama shuttering their embassies today', 0.5420984029769897),\n",
       " ('DPP to set up committee on new immigrants', 0.5420981645584106),\n",
       " ('Tsai preparing progress report', 0.5420948266983032),\n",
       " ('2017/04/29', 0.5419899821281433),\n",
       " ('Infrastructure Program: Infrastructure plan draws high support',\n",
       "  0.5415588617324829),\n",
       " (\"KMT Chairman Wu Den-yih reiterates call for ties based on â\\x80\\x981992 consensus'\",\n",
       "  0.5415131449699402),\n",
       " ('Bill aims to disband Mongolia, Tibetan Affairs body, without transfer of duty',\n",
       "  0.5411161184310913),\n",
       " ('Ministry looks to promote IP-intensive industries', 0.5406244993209839),\n",
       " ('Cyclists demonstrate for Tibet', 0.5404735207557678),\n",
       " ('WHA missing out, health workers say', 0.5403909683227539),\n",
       " ('Paraguay leader  to celebrate ties on Taiwan visit', 0.5403292775154114),\n",
       " ('Changes to elevator laws urged after mass outage', 0.5402586460113525),\n",
       " ('2017/08/29', 0.5402249097824097),\n",
       " ('Self-help books top net best-seller lists', 0.5400935411453247),\n",
       " ('2017/09/26', 0.5399706363677979),\n",
       " ('Tobacco farming dwindles', 0.5398123264312744),\n",
       " ('Taiwan ranks third in broadband speed: survey', 0.5396539568901062),\n",
       " ('Legal disputes with migrant workers ahead: legislator', 0.5392814874649048),\n",
       " (\"More Taiwanese opt for â\\x80\\x98green' burials\", 0.5391219258308411),\n",
       " ('Students warn about low staffing, dorm shortages', 0.5390290021896362),\n",
       " ('2017/02/14', 0.5386803150177002),\n",
       " ('2017/11/03', 0.5385623574256897),\n",
       " (\"Hakka group slams caucus whip's comments\", 0.5384734272956848),\n",
       " (\"DPP cities' officials barred from Shanghai forum\", 0.5383801460266113),\n",
       " ('No plans to move office to Jerusalem, MOFA official says',\n",
       "  0.5379396677017212),\n",
       " ('2017/02/25', 0.537905216217041),\n",
       " ('Smokers to pay for long-term care plan via taxes', 0.537482500076294),\n",
       " ('2017/05/11', 0.5371922254562378),\n",
       " ('Telecoms prepare for end of 2G services tomorrow', 0.5369572043418884),\n",
       " ('Military to hold live-fire drills next month: official',\n",
       "  0.5368924140930176),\n",
       " ('New ID raises privacy, legal concerns: group', 0.5368351340293884),\n",
       " ('Adjunct lecturers demand inclusion into labor law', 0.5368008613586426),\n",
       " ('End of Martial Law: Citizens drove democratic development: president',\n",
       "  0.536612331867218),\n",
       " ('Taiwan can be leader in e-sports, federation says', 0.5365286469459534),\n",
       " ('Poor children go hungry in summer: foundation', 0.5364505052566528),\n",
       " ('COA failed to curb banana overproduction: legislators', 0.5361431241035461),\n",
       " ('TRA to introduce cabins for families', 0.5359619855880737),\n",
       " ('Control system in Hsuehshan Tunnel set to be launched', 0.5359606146812439),\n",
       " ('The cost of calling between mobile networks to drop', 0.5358376502990723),\n",
       " ('Lawmaker urges FSC to curb online lending bad debt', 0.5358357429504395),\n",
       " ('2017/09/15', 0.5353015661239624),\n",
       " ('Employment market improving despite slow growth: data', 0.5350338220596313),\n",
       " ('Tourism Bureau signs New York Mets as visitor numbers grow',\n",
       "  0.5349207520484924),\n",
       " ('Chiayi elevated rail plan funded', 0.5349006652832031),\n",
       " ('2017/02/21', 0.5344667434692383),\n",
       " ('Thousands of T91 rifles sold in US in one day: report', 0.534373939037323),\n",
       " (\"Professors petition to protect academic integrity, saying freedom is â\\x80\\x98not for sale'\",\n",
       "  0.534123957157135),\n",
       " ('Secret Japanese tunnel in Kaohsiung opened to the public for the first time',\n",
       "  0.5338530540466309),\n",
       " ('environment', 0.5335474610328674),\n",
       " ('KMT accuses Tsai Ing-wen of seeking to manipulate public on independence',\n",
       "  0.5333304405212402),\n",
       " ('Five awarded dual citizenship', 0.5332318544387817),\n",
       " ('Chinese naval vessels sail through the Taiwan Strait', 0.5332305431365967),\n",
       " ('2017/04/16', 0.5326055288314819),\n",
       " ('Anti-aircraft cannon firing drill conducted in Pingtung',\n",
       "  0.5324238538742065),\n",
       " ('Nearly 70 percent of Japanese feel close to Taiwan', 0.5320229530334473),\n",
       " ('Government to grant last wish of famed climber', 0.5319857597351074),\n",
       " ('2017/09/02', 0.5318532586097717),\n",
       " ('2017/09/04', 0.5313470363616943),\n",
       " ('Lawyers publish draft EIA rules', 0.5312463641166687),\n",
       " ('Shezidao residents to be resettled before renovation', 0.530590295791626),\n",
       " ('2017/08/13', 0.530590295791626),\n",
       " (\"â\\x80\\x98Days We Stared at the Sun' sequel launched on PTS\",\n",
       "  0.5302795171737671),\n",
       " (\"Low rating due to â\\x80\\x98unclear' goals\", 0.5301712155342102),\n",
       " ('Last P-3C plane said arriving in July', 0.5299167037010193),\n",
       " ('Bureau removing phone booths alongside freeways', 0.5293673872947693),\n",
       " ('2017/07/30', 0.529358983039856),\n",
       " ('2017/12/24', 0.5292494893074036),\n",
       " (\"Nation's air quality has improved: EPA official\", 0.5290647745132446),\n",
       " ('Team relaying Universiade torch to Yushan', 0.529058575630188),\n",
       " ('EPA to raise surcharges on diesel and gasoline', 0.5290252566337585),\n",
       " (\"228, PAST AND PRESENT: Tainan march marks Deng Nang-jung's Redress Movement\",\n",
       "  0.5288869738578796),\n",
       " ('Pharmacists drop planned rally on licensing system', 0.528584897518158),\n",
       " (\"Man locates Taiwan's â\\x80\\x98pole of inaccessibility'\",\n",
       "  0.5284014940261841),\n",
       " ('Public Television Service broadcasts 4K TV content', 0.5283570289611816),\n",
       " ('Pork markets to be closed for one day ahead of festival',\n",
       "  0.5282517671585083),\n",
       " ('Taipei should aim for friendly ties with Beijing: Ko', 0.5281850099563599),\n",
       " ('Changhua vendor offers homeless free boxed meals', 0.5278728008270264),\n",
       " ('Foundation mourns death of Tang sinology laureate', 0.527658224105835),\n",
       " ('More Taiwanese flock to Philippines to study English', 0.5276010632514954),\n",
       " ('Sangpuy takes top award', 0.5274737477302551),\n",
       " ('Taipei 101, Seoul Sky ink tourism cooperation pact', 0.5273493528366089),\n",
       " ('Third of Universiade merchandise made in China', 0.5272366404533386),\n",
       " ('Carnival launching routes from Kaohsiung', 0.5269593000411987),\n",
       " ('Tsai, parties hail sports act amendment passage', 0.526957631111145),\n",
       " ('Taiwan not negotiable for US', 0.5268989205360413),\n",
       " (\"INTERVIEW: Chiu Fu-sheng's vanity film ended up making history\",\n",
       "  0.5268619060516357),\n",
       " ('Visually impaired runners set off on 500km relay tour', 0.5266190767288208),\n",
       " (\"Caregivers' wages set to rise, health minister says\", 0.5259552001953125),\n",
       " ('PROFILE: Shop owner leads tourism drive in Shetou Township',\n",
       "  0.5257457494735718),\n",
       " ('Ministry wary of Dominican relations', 0.5257253646850586),\n",
       " ('Official Universiade merchandise launched', 0.5255635976791382),\n",
       " ('Ministry welcomes Taiwan-friendly US defense official', 0.525383710861206),\n",
       " ('WHA response measures to be explained today', 0.5252931118011475),\n",
       " ('Taiwan advocate considered for US defense position', 0.5251840353012085),\n",
       " ('Trade deal with Australia said to now be on hold', 0.5249788761138916),\n",
       " ('KMT seeks to stall budget reviews until September', 0.5249026417732239),\n",
       " ('Taipei perceived as 3rd safest city: poll', 0.5248712301254272),\n",
       " ('MAC premieres short movie on Chinese spouses', 0.5247936248779297),\n",
       " ('2017/04/30', 0.5247060060501099),\n",
       " ('Tsai Ing-wen opens Presidential Office in Taichung', 0.5246796607971191),\n",
       " ('Project improves Internet service on high-speed rail', 0.5245236754417419),\n",
       " ('Sediq-themed mailbox in Nantou drawing tourists', 0.5244708061218262),\n",
       " ('Warner Bros broke rules, should offer apologies: THSRC',\n",
       "  0.5243701934814453),\n",
       " ('MOTC seeks talks with Taipei on Keelung light rail', 0.5243701934814453),\n",
       " ('Fisheries changes on track: agency', 0.524141788482666),\n",
       " (\"Book highlights Aborigines' fight to defend their land\",\n",
       "  0.5239137411117554),\n",
       " ('Chinese official offers hope on ties', 0.5237717032432556),\n",
       " ('Rules for 4G auction set out by NCC', 0.5235381126403809),\n",
       " ('Penghu hoping to lure travelers with NT$1,100 coupons', 0.5233230590820312),\n",
       " ('2017/12/03', 0.5230855941772461),\n",
       " ('Social care needs help: Ko', 0.5228385329246521),\n",
       " ('2017/10/12', 0.5228160619735718),\n",
       " ('2017/04/07', 0.5227994322776794),\n",
       " ('Government mulls N Korea actions', 0.5227588415145874),\n",
       " ('Tsai meets former US vice president Cheney', 0.5226668119430542),\n",
       " ('Tsai pledges to improve water supply', 0.5226288437843323),\n",
       " ('Resident concerns prompt Changhua trail improvements', 0.5224006175994873),\n",
       " ('Tainan mayor departs for the US to give talks', 0.5223768353462219),\n",
       " ('Mooncake charities report low demand, launch campaigns',\n",
       "  0.5221121311187744),\n",
       " ('Government agency heads cautioned over comments', 0.5217452645301819),\n",
       " (\"Facebook group â\\x80\\x98Baoliao Commune' registered as firm\",\n",
       "  0.5215839147567749),\n",
       " ('Cabinet approves first part of infrastructure budget', 0.5212167501449585),\n",
       " ('SEF head hints at a policy shift', 0.5211093425750732),\n",
       " ('Makatao village celebrates yearly night festival', 0.5208358764648438),\n",
       " ('Crowds fill temples on first day', 0.520445704460144),\n",
       " ('Aborigines demand rights to land', 0.520352840423584),\n",
       " ('TGo membership service launches today: THSRC', 0.5202968716621399),\n",
       " ('2017/02/10', 0.5202735662460327),\n",
       " ('2017/03/09', 0.5199623107910156),\n",
       " ('INTERVIEW: College students need leeway: deputy minister',\n",
       "  0.5198312997817993),\n",
       " ('Ministry urged to name universities', 0.5195432901382446),\n",
       " ('Cultural Heritage Day marked with prizes', 0.5194860696792603),\n",
       " ('2017/11/20', 0.5191688537597656),\n",
       " ('Torrential rain this week: bureau', 0.5190739035606384),\n",
       " (\"Cabinet plans â\\x80\\x98smart' machinery hub\", 0.5189069509506226),\n",
       " ('Post office mulling elderly care centers in underused offices',\n",
       "  0.5185228586196899),\n",
       " ('Puzangalan choir awarded five medals in Florence', 0.518442690372467),\n",
       " ('Book introduces Aboriginal artisans', 0.5179569721221924),\n",
       " ('Poll finds belief in value of vocational education', 0.5178398489952087),\n",
       " ('Tensions over N Korea could affect Taiwan: forum', 0.5176947116851807),\n",
       " ('2017/12/18', 0.5176052451133728),\n",
       " (\"Taipei bans â\\x80\\x98stage names' for cram-school teachers\",\n",
       "  0.5174177289009094),\n",
       " ('2017/08/12', 0.5167728662490845),\n",
       " ('Red quinoa might become a cash crop for Aborigines', 0.5167474746704102),\n",
       " ('2017/09/19', 0.5166934132575989),\n",
       " ('Number of married couples in decline; singles hit 4.4m',\n",
       "  0.5166441202163696),\n",
       " ('COA to regulate the sale of cats', 0.5163013935089111),\n",
       " ('2017/01/21', 0.5161735415458679),\n",
       " (\"Students use game, â\\x80\\x98kuso' culture to promote Hoklo\",\n",
       "  0.5161464214324951),\n",
       " (\"â\\x80\\x98Visionary' proposal lacks vision: groups\", 0.5161256194114685),\n",
       " ('MOI outlines social associations bill', 0.515949547290802),\n",
       " ('2017/08/03', 0.5158158540725708),\n",
       " ('Hotels have unreasonable cancelation rules: group', 0.5154266357421875),\n",
       " ('Call for better access to mountains', 0.5154005289077759),\n",
       " (\"FEATURE: Tan Hou weathers storms to raise â\\x80\\x98clean' farmed fish\",\n",
       "  0.515341579914093),\n",
       " ('2017/06/26', 0.5152562856674194),\n",
       " ('Awards honor language efforts', 0.5150026082992554),\n",
       " ('2017/05/31', 0.5147985816001892),\n",
       " ('Urban renewal bill to profit developers: critics', 0.5147609114646912),\n",
       " (\"Ministry to subsidize â\\x80\\x98custom' Southeast Asian programs\",\n",
       "  0.5146899223327637),\n",
       " ('2017/02/01', 0.5146598219871521),\n",
       " ('Chinese online vendors a threat: firms', 0.5144753456115723),\n",
       " ('2017/09/25', 0.5144645571708679),\n",
       " ('Inter-party delegation to meet with US officials', 0.5144250988960266),\n",
       " ('More trackers to be placed on migrating sparrowhawks', 0.5143606662750244),\n",
       " ('Philippine nationals  could get visa-free entry soon: ministry',\n",
       "  0.514319658279419),\n",
       " ('2017/03/16', 0.5140987038612366),\n",
       " (\"US strongly backs Taiwan's WHA bid\", 0.5140835046768188),\n",
       " ('Taiwan and Austria ink MOU on higher education', 0.5138298869132996),\n",
       " ('Interactive physics exhibit opens in Taichung museum', 0.5137747526168823),\n",
       " ('Most white-collar workers from US, Malaysia, Japan', 0.5136983394622803),\n",
       " (\"Museum show focuses on Southeast Asians' lives\", 0.5133969783782959),\n",
       " ('Photographer opens store selling retro collectibles', 0.5133206844329834),\n",
       " ('Hot-air balloons fly over Taitung for sixth annual festival',\n",
       "  0.5131945013999939),\n",
       " ('Government aims to end all 2G services by August', 0.5131314396858215),\n",
       " (\"KMT councilors question Lai's policy on China\", 0.5131306648254395),\n",
       " ('2017/11/12', 0.5131279230117798),\n",
       " ('Fallen power cable disrupts TRA lines', 0.5129964351654053),\n",
       " (\"â\\x80\\x98US should help Taiwan keep its diplomatic allies'\",\n",
       "  0.5129837989807129),\n",
       " ('Taiwan-Japan relations are a priority: president', 0.5128520131111145),\n",
       " ('MOTC denies resignation claim', 0.5128094553947449),\n",
       " ('Civic groups call for founding of public Hoklo TV channel',\n",
       "  0.5127487182617188),\n",
       " (\"Groups pan slow pace in DPP's nuclear-free pledge\", 0.5127289295196533),\n",
       " ('Rare map shows Qing era Aboriginal and Han areas', 0.5124492645263672),\n",
       " ('2017/07/10', 0.5124082565307617),\n",
       " (\"Security certification to be required on civil servants' cellphones\",\n",
       "  0.5122177600860596),\n",
       " (\"Air quality â\\x80\\x98good' in north and east: EPA\", 0.5121692419052124),\n",
       " ('Researchers find medical application for squid skins', 0.5120978951454163),\n",
       " ('Taiwan No. 39 in media freedom: Freedom House', 0.5120648145675659),\n",
       " ('2017/10/26', 0.5119501948356628),\n",
       " ('Young artist trades paintings for lodging in Matsu', 0.511902391910553),\n",
       " ('2017/04/02', 0.5116983652114868),\n",
       " ('Nation should raise support ahead of WHA: ex-official', 0.5116832852363586),\n",
       " (\"Premier's remarks dangerous, reveal scheme: KMT\", 0.511652946472168),\n",
       " ('FEATURE: Art festival reconnecting Aborigines to their land',\n",
       "  0.5114784240722656),\n",
       " ('Ministry extends scope of holiday rules exemptions', 0.5113997459411621),\n",
       " ('2017/01/05', 0.5110271573066711),\n",
       " ('Soy sauce expert says 30-year-old bottle may be used', 0.5109940767288208),\n",
       " ('Survey finds 42% of teens passive in social issues', 0.5107954144477844),\n",
       " ('2017/12/30', 0.5107904672622681),\n",
       " ('2017/03/28', 0.5107306241989136),\n",
       " ('2017/11/29', 0.5106064677238464),\n",
       " ('2017/08/06', 0.5103131532669067),\n",
       " ('DPP legislator urges Aborigines to make sailboats', 0.5102306008338928),\n",
       " ('2017/03/14', 0.5100083351135254),\n",
       " ('Calls for Yu, Su to take over as heads of Taipower, CPC',\n",
       "  0.5099509954452515),\n",
       " ('Ministry to scrutinize bus tours', 0.5099053382873535),\n",
       " ('Survey finds 6.5 percent have emotional problems', 0.5094786882400513),\n",
       " ('Upgraded passports to be issued from next Monday', 0.5093673467636108),\n",
       " ('2017/07/19', 0.5093026161193848),\n",
       " ('2017/05/27', 0.5089623928070068),\n",
       " (\"Screens damaging kids' eyes: HPA\", 0.5084772706031799),\n",
       " ('Researchers find method to cultivate sea sparkles', 0.5083286166191101),\n",
       " ('2017/07/25', 0.5082715749740601),\n",
       " (\"Government vows to preserve domestic flights amid Mandarin Airlines' losses\",\n",
       "  0.5082181096076965),\n",
       " ('2017/02/06', 0.5081458687782288),\n",
       " ('Chick sexing is a skilled and lucrative profession', 0.5080520510673523),\n",
       " ('Too much television linked to obesity in preschool children',\n",
       "  0.5078869462013245),\n",
       " ('Nearly a thousand seniors committed suicide last year', 0.5078514814376831),\n",
       " ('Ministry urged to focus on public childcare facilities',\n",
       "  0.5076053142547607),\n",
       " (\"Counterterrorism Center opens in Taoyuan's Sinwu\", 0.5074141025543213),\n",
       " ('Host of different policies to take effect this week', 0.5073809623718262),\n",
       " ('MOI defends National Day budget', 0.5072499513626099),\n",
       " ('Melt-resistant ice creams are not harmful, FDA says', 0.5070529580116272),\n",
       " ('COA tightens fishing rules after warning', 0.5070087909698486),\n",
       " ('Chunghwa Telecom probed by NCC over PTN equipment', 0.5070023536682129),\n",
       " ('Taoyuan cautions against late arrival during high season',\n",
       "  0.5069324970245361),\n",
       " ('Pay raise for more military units', 0.5068124532699585),\n",
       " (\"NTUT, MIT sign â\\x80\\x98smart' development agreement\", 0.5067326426506042),\n",
       " ('2017/10/11', 0.5065419673919678),\n",
       " ('2017/07/05', 0.5065000057220459),\n",
       " (\"Linguists' records returned to Siraya\", 0.5064761638641357),\n",
       " ('Genetics play partial role in height: doctor', 0.5063644051551819),\n",
       " ('Taiwan seeking  balance in cross-strait exchanges', 0.5062580108642578),\n",
       " ('Employers favor law change: poll', 0.5060827732086182),\n",
       " ('EPA approves fuel swap in Mailiao', 0.505794882774353),\n",
       " ('Survey shows rising wages and female labor participation',\n",
       "  0.5056721568107605),\n",
       " ('Taiwan is an independent, but not normal nation: Ko', 0.50484299659729),\n",
       " ('Taiwan making effort to attend WHA this year', 0.5042005777359009),\n",
       " ('Moriarty expected to bring news on Trump-Xi meet', 0.5041398406028748),\n",
       " ('2017/05/20', 0.5039777755737305),\n",
       " ('2017/05/23', 0.5039305686950684),\n",
       " (\"Environmentalists urge delay to amendments' review\", 0.503677248954773),\n",
       " ('2017/11/09', 0.5035600066184998),\n",
       " ('Tickets for Universiade opener sold out: official', 0.5034632682800293),\n",
       " ('Coast guard submits plan to replace 130 sea vessels', 0.5034514665603638),\n",
       " ('Hospital helps to develop microchip for fetal testing', 0.5032355189323425),\n",
       " ('Survey ranks cities for environmental action', 0.5030553936958313),\n",
       " (\"Operations are smooth on satellite's first day in orbit\",\n",
       "  0.5029330253601074),\n",
       " ('2017/08/05', 0.5028434991836548),\n",
       " ('Taipei ranks 14th in global destinations', 0.5028092861175537),\n",
       " ('All Japan Taiwanese Union set up', 0.502558708190918),\n",
       " ('2017/09/05', 0.5025141835212708),\n",
       " ('2017/10/24', 0.5024484395980835),\n",
       " (\"MAC advisers' report warns over NGO safety in China\", 0.5024345517158508),\n",
       " ('Most young people want to start their own business: poll',\n",
       "  0.5023807883262634),\n",
       " ('2017/07/24', 0.5020942687988281),\n",
       " ('2017/04/28', 0.501416802406311),\n",
       " ('Ko urges Cabinet to resolve development rights issues', 0.5011940598487854),\n",
       " ('2017/04/18', 0.5008713006973267),\n",
       " ('Ex-president Ma gets green light for trip to US', 0.5002018213272095),\n",
       " ('Taiwanese localities recognized by smart communities forum',\n",
       "  0.500052809715271),\n",
       " ('Tsai urges faster review of bills', 0.49982190132141113),\n",
       " ('IOC member Wu to retire in 10 years', 0.4998074173927307),\n",
       " ('Workers support subsidy for hot weather: survey', 0.49950283765792847),\n",
       " ('2017/07/03', 0.49905693531036377),\n",
       " ('China is seizing air supremacy: MND', 0.49895697832107544),\n",
       " ('Delegation visits US base to see staff support system', 0.4989401400089264),\n",
       " (\"KMT think tank questions diplomacy â\\x80\\x98black budget'\",\n",
       "  0.4987281262874603),\n",
       " (\"Ministry's ban on playwright's return isolationist: artists\",\n",
       "  0.4986950755119324),\n",
       " ('Lawmakers push for maritime ministry', 0.4985251724720001),\n",
       " (\"Interest in US' Global Entry soars\", 0.4984361529350281),\n",
       " ('Ride-hailing service TaxiGo commences official operations',\n",
       "  0.4984340965747833),\n",
       " (\"Create a â\\x80\\x98smart' nation from â\\x80\\x98smart' city expertise: Lai\",\n",
       "  0.4982921779155731),\n",
       " ('Firms face fines after new monitors detect pollutants', 0.4982166588306427),\n",
       " ('Ko urges elderly to start moving to stay healthy, alert',\n",
       "  0.4982087016105652),\n",
       " ('Control Yuan report slams misuse of development fund for new immigrants',\n",
       "  0.49819695949554443),\n",
       " ('2017/11/18', 0.49815160036087036),\n",
       " ('Lai reiterates nuclear-free vow at Tainan forum', 0.4979822337627411),\n",
       " (\"REPORTER'S NOTEBOOK: The importance of vessel names in the ROC Navy\",\n",
       "  0.49779456853866577),\n",
       " ('Group celebrates marriage equality at London Pride', 0.4977705776691437),\n",
       " ('Veterans Affairs Council to expand its vocational courses for military retirees',\n",
       "  0.4974352717399597),\n",
       " ('Flexible labor rules for agriculture criticized', 0.4973313510417938),\n",
       " ('Advocates urge minister of labor to remain objective', 0.4973095953464508),\n",
       " ('PANAMA SWITCHES SIDES: Panamanian students may be affected by cut',\n",
       "  0.49722713232040405),\n",
       " (\"Lai's administration could restrict EPA's reforms, deputy minister says\",\n",
       "  0.4969734847545624),\n",
       " ('2017/04/06', 0.49689289927482605),\n",
       " (\"KMT's new twice-weekly Webcasts to invite â\\x80\\x98celebrities and industry experts'\",\n",
       "  0.49673864245414734),\n",
       " ('DPP legislators call for swift fix to scrap-tire buildup',\n",
       "  0.4966556429862976),\n",
       " ('FDA urge people declare medications when traveling', 0.4966057538986206),\n",
       " ('Taiwanese Internet 16th-fastest in the world, report finds',\n",
       "  0.49647387862205505),\n",
       " ('Travel agents abusing subsidy program', 0.4955471456050873),\n",
       " ('Laundry detergent packs fail labeling rules: watchdog',\n",
       "  0.49554070830345154),\n",
       " ('Cabinet respects Chinese athletes skipping opening', 0.4950953722000122),\n",
       " ('Designers create customizable stamp', 0.49500972032546997),\n",
       " ('Food price hikes beginning to bite, ihergo poll says', 0.4949524402618408),\n",
       " ('2017/01/08', 0.49458515644073486),\n",
       " ('Uighur advocate cancels trip on political concerns', 0.4945501685142517),\n",
       " ('MOTC study to decide fate of Songshan airport', 0.4942735731601715),\n",
       " ('2017/12/09', 0.4934210479259491),\n",
       " ('INTERVIEW: NCC chief focuses on encouraging quality programming',\n",
       "  0.4933472275733948),\n",
       " ('Foreign-language culture app on the way: minister', 0.4933359622955322),\n",
       " ('EVA Airways ranked No. 6 in international review', 0.4931281507015228),\n",
       " ...]"
      ]
     },
     "execution_count": 87,
     "metadata": {},
     "output_type": "execute_result"
    }
   ],
   "source": [
    "#Calculate the similarity of all documents with the keyword 'economy'\n",
    "\n",
    "TWNewsD2V.docvecs.most_similar([TWNewsD2V['economy']],topn=len(TWNewsDF))"
   ]
  },
  {
   "cell_type": "markdown",
   "metadata": {},
   "source": [
    "## Exercise 2 Memo\n",
    "\n",
    "In this section, I selected a few keywords that are common in news articles to proceed with the analysis. Those selected words include 'international', 'local', 'military', 'entertainment', 'economy', 'science', 'art', and 'environment'. The document to vector model was trained on a size of 100.\n",
    "\n",
    "According to the word-to-word heatmap, most of these keywords had similarity scores of around 0.2 with each other (green on heatmap). Noticeably, the least similar pair found was 'economy' and 'entertainment'. This is understandable, as news about 'economy' tend to be more serious and news on 'entertainment' is way less serious and can cover a wide spectrum of topics. The most similar pair of words are 'environment' and 'science'. This is in alignment with expectation, because environmental topics are often associated with use of technologies and sciences.\n",
    "\n",
    "The first 10 documents in the corpus were used for the doc-to-doc heatmap. The topics of these news articles were relatively random, but the plot still offered some interesting insights. First of all, not so surprisingly, the two documents that directly have 'DPP' in their titles were found to have highest similarities. Overall, the documents that had high similarities (brown color) were all politics-related news. A bit surprisingly, however, the news 'Local Firm not Involved in North Korea Oil Transfer' and 'DPP outlines priorities for special legislative session' were found to have the lowest similarity score. I think these two documents were both somewhat related to politcs, and therefore expected them to be a bit more similar to each other.\n",
    "\n",
    "According to the word-to-doc heatmap, the news 'Local Firm not Involved in North Korea Oil Transfer' was found to be similar to 'international', which is quite accurate. The modeling for some other keywords did not appear so accurate, however. For example, the news 'Man's sudden onset of amnesia linked to septicemia' was classified to be similar to 'entertainment', but not so close to 'science'. Also, a news about taiwan firms is classified to have lowest similarity with 'economy', which is very strange. The highest similarity scores in the plot were found between the document 'Students at experimental school gain recognition' and keywors 'science' and 'environment'. The document seems reasonably close to 'science' as it has both 'students', 'experiment' and 'school' in its title. However, its strong association to 'environment' is somewhat mysterious without looking closely into the document itself. My guess is that the students may be recognized for some innovation related to environmental protection.\n",
    "\n",
    "I proceeded to select the word 'economy' and tested its similarity to each document in the corpus and sorted the documents according to their reported scores. However, because the size of the corpus is very large, I couldn't look into each document. Among the top documents that were found similar to 'economy', 'southbound policy' (a policy that aims to build a stronger economic tie with southern-Asian and eastsouthern-asian countries) and names of southern-Asian/eastsouthern-asian countries were repeatedly mentioned, suggesting that southbound policy was a key economic policy of the DPP government in year 2017."
   ]
  },
  {
   "cell_type": "markdown",
   "metadata": {},
   "source": [
    "# Projection"
   ]
  },
  {
   "cell_type": "markdown",
   "metadata": {},
   "source": [
    "We can also project word vectors to an arbitray semantic dimension. To demonstrate this possibility, let's first load a model trained with New York Times news articles. "
   ]
  },
  {
   "cell_type": "code",
   "execution_count": 56,
   "metadata": {},
   "outputs": [],
   "source": [
    "nytimes_model = gensim.models.KeyedVectors.load_word2vec_format('../data/nytimes_cbow.reduced.txt')"
   ]
  },
  {
   "cell_type": "markdown",
   "metadata": {},
   "source": [
    "First we can visualize with dimension reduction"
   ]
  },
  {
   "cell_type": "code",
   "execution_count": 57,
   "metadata": {},
   "outputs": [
    {
     "data": {
      "text/plain": [
       "array([[-0.343139, -0.117117, -0.50773 , ..., -0.995696,  0.921299,\n",
       "         0.943769],\n",
       "       [-0.362909, -0.263528,  0.032661, ..., -0.043032, -0.178965,\n",
       "         0.353556],\n",
       "       [-0.70167 , -0.344525, -0.320714, ...,  0.009001,  0.11055 ,\n",
       "         0.751077],\n",
       "       ...,\n",
       "       [-2.391626, -1.90143 ,  1.031182, ...,  2.947464,  1.01588 ,\n",
       "         2.00033 ],\n",
       "       [-2.432387, -1.161415,  1.060064, ...,  4.402381,  0.500471,\n",
       "         1.644596],\n",
       "       [ 0.981931,  0.628094, -0.747547, ...,  1.612927,  1.148063,\n",
       "         1.063776]], dtype=float32)"
      ]
     },
     "execution_count": 57,
     "metadata": {},
     "output_type": "execute_result"
    }
   ],
   "source": [
    "#words to create dimensions\n",
    "tnytTargetWords = ['man','him','he', 'woman', 'her', 'she', 'black','blacks','African', 'white', 'whites', 'Caucasian', 'rich', 'richer', 'richest', 'expensive', 'wealthy', 'poor', 'poorer', 'poorest', 'cheap', 'inexpensive']\n",
    "#words we will be mapping\n",
    "tnytTargetWords += [\"doctor\",\"lawyer\",\"plumber\",\"scientist\",\"hairdresser\", \"nanny\",\"carpenter\",\"entrepreneur\",\"musician\",\"writer\", \"banker\",\"poet\",\"nurse\", \"steak\", \"bacon\", \"croissant\", \"cheesecake\", \"salad\", \"cheeseburger\", \"vegetables\", \"beer\", \"wine\", \"pastry\", \"basketball\", \"baseball\", \"boxing\", \"softball\", \"volleyball\", \"tennis\", \"golf\", \"hockey\", \"soccer\"]\n",
    "\n",
    "\n",
    "wordsSubMatrix = []\n",
    "for word in tnytTargetWords:\n",
    "    wordsSubMatrix.append(nytimes_model[word])\n",
    "wordsSubMatrix = np.array(wordsSubMatrix)\n",
    "wordsSubMatrix"
   ]
  },
  {
   "cell_type": "code",
   "execution_count": 27,
   "metadata": {},
   "outputs": [],
   "source": [
    "pcaWordsNYT = sklearn.decomposition.PCA(n_components = 50).fit(wordsSubMatrix)\n",
    "reducedPCA_dataNYT = pcaWordsNYT.transform(wordsSubMatrix)\n",
    "#T-SNE is theoretically better, but you should experiment\n",
    "tsneWordsNYT = sklearn.manifold.TSNE(n_components = 2).fit_transform(reducedPCA_dataNYT)"
   ]
  },
  {
   "cell_type": "code",
   "execution_count": 28,
   "metadata": {},
   "outputs": [
    {
     "data": {
      "image/png": "[encoded data removed]",
      "text/plain": [
       "<matplotlib.figure.Figure at 0x7fc5f1403048>"
      ]
     },
     "metadata": {},
     "output_type": "display_data"
    }
   ],
   "source": [
    "fig = plt.figure(figsize = (10,6))\n",
    "ax = fig.add_subplot(111)\n",
    "ax.set_frame_on(False)\n",
    "plt.scatter(tsneWordsNYT[:, 0], tsneWordsNYT[:, 1], alpha = 0) #Making the points invisible\n",
    "for i, word in enumerate(tnytTargetWords):\n",
    "    ax.annotate(word, (tsneWordsNYT[:, 0][i],tsneWordsNYT[:, 1][i]), size =  20 * (len(tnytTargetWords) - i) / len(tnytTargetWords))\n",
    "plt.xticks(())\n",
    "plt.yticks(())\n",
    "plt.show()"
   ]
  },
  {
   "cell_type": "markdown",
   "metadata": {},
   "source": [
    "Define some convenient functions for getting dimensions. "
   ]
  },
  {
   "cell_type": "code",
   "execution_count": 60,
   "metadata": {},
   "outputs": [],
   "source": [
    "def normalize(vector):\n",
    "    normalized_vector = vector / np.linalg.norm(vector)\n",
    "    return normalized_vector\n",
    "\n",
    "def dimension(model, positives, negatives):\n",
    "    diff = sum([normalize(model[x]) for x in positives]) - sum([normalize(model[y]) for y in negatives])\n",
    "    return diff"
   ]
  },
  {
   "cell_type": "markdown",
   "metadata": {},
   "source": [
    "Let's calculate three dimensions: gender, race, and class."
   ]
  },
  {
   "cell_type": "code",
   "execution_count": 61,
   "metadata": {},
   "outputs": [],
   "source": [
    "Gender = dimension(nytimes_model, ['man','him','he'], ['woman', 'her', 'she'])\n",
    "Race = dimension(nytimes_model, ['black','blacks','African'], ['white', 'whites', 'Caucasian'])\n",
    "Class = dimension(nytimes_model, ['rich', 'richer', 'richest', 'expensive', 'wealthy'], ['poor', 'poorer', 'poorest', 'cheap', 'inexpensive'])"
   ]
  },
  {
   "cell_type": "markdown",
   "metadata": {},
   "source": [
    "Here we have some words."
   ]
  },
  {
   "cell_type": "code",
   "execution_count": 18,
   "metadata": {},
   "outputs": [],
   "source": [
    "Occupations = [\"doctor\",\"lawyer\",\"plumber\",\"scientist\",\"hairdresser\", \"nanny\",\"carpenter\",\"entrepreneur\",\"musician\",\"writer\", \"banker\",\"poet\",\"nurse\"]\n",
    "\n",
    "Foods = [\"steak\", \"bacon\", \"croissant\", \"cheesecake\", \"salad\", \"cheeseburger\", \"vegetables\", \"beer\", \"wine\", \"pastry\"]\n",
    "\n",
    "Sports  = [\"basketball\", \"baseball\", \"boxing\", \"softball\", \"volleyball\", \"tennis\", \"golf\", \"hockey\", \"soccer\"]"
   ]
  },
  {
   "cell_type": "markdown",
   "metadata": {},
   "source": [
    "Define a function to project words in a word list to each of the three dimensions."
   ]
  },
  {
   "cell_type": "code",
   "execution_count": 19,
   "metadata": {},
   "outputs": [],
   "source": [
    "def makeDF(model, word_list):\n",
    "    g = []\n",
    "    r = []\n",
    "    c = []\n",
    "    for word in word_list:\n",
    "        g.append(sklearn.metrics.pairwise.cosine_similarity(nytimes_model[word].reshape(1,-1), Gender.reshape(1,-1))[0][0])\n",
    "        r.append(sklearn.metrics.pairwise.cosine_similarity(nytimes_model[word].reshape(1,-1), Race.reshape(1,-1))[0][0])\n",
    "        c.append(sklearn.metrics.pairwise.cosine_similarity(nytimes_model[word].reshape(1,-1), Class.reshape(1,-1))[0][0])\n",
    "    df = pandas.DataFrame({'gender': g, 'race': r, 'class': c}, index = word_list)\n",
    "    return df"
   ]
  },
  {
   "cell_type": "markdown",
   "metadata": {},
   "source": [
    "Get the projections."
   ]
  },
  {
   "cell_type": "code",
   "execution_count": 20,
   "metadata": {},
   "outputs": [],
   "source": [
    "OCCdf = makeDF(nytimes_model, Occupations) \n",
    "Fooddf = makeDF(nytimes_model, Foods)\n",
    "Sportsdf = makeDF(nytimes_model, Sports)"
   ]
  },
  {
   "cell_type": "markdown",
   "metadata": {},
   "source": [
    "Define some useful functions for plotting."
   ]
  },
  {
   "cell_type": "code",
   "execution_count": 21,
   "metadata": {},
   "outputs": [],
   "source": [
    "def Coloring(Series):\n",
    "    x = Series.values\n",
    "    y = x-x.min()\n",
    "    z = y/y.max()\n",
    "    c = list(plt.cm.rainbow(z))\n",
    "    return c\n",
    "\n",
    "def PlotDimension(ax,df, dim):\n",
    "    ax.set_frame_on(False)\n",
    "    ax.set_title(dim, fontsize = 20)\n",
    "    colors = Coloring(df[dim])\n",
    "    for i, word in enumerate(df.index):\n",
    "        ax.annotate(word, (0, df[dim][i]), color = colors[i], alpha = 0.6, fontsize = 12)\n",
    "    MaxY = df[dim].max()\n",
    "    MinY = df[dim].min()\n",
    "    plt.ylim(MinY,MaxY)\n",
    "    plt.yticks(())\n",
    "    plt.xticks(())"
   ]
  },
  {
   "cell_type": "markdown",
   "metadata": {},
   "source": [
    "Plot the occupational words in each of the three dimensions."
   ]
  },
  {
   "cell_type": "code",
   "execution_count": 22,
   "metadata": {
    "scrolled": true
   },
   "outputs": [
    {
     "data": {
      "image/png": "[encoded data removed]",
      "text/plain": [
       "<matplotlib.figure.Figure at 0x2b111f8cc5f8>"
      ]
     },
     "metadata": {},
     "output_type": "display_data"
    }
   ],
   "source": [
    "fig = plt.figure(figsize = (12,4))\n",
    "ax1 = fig.add_subplot(131)\n",
    "PlotDimension(ax1, OCCdf, 'gender')\n",
    "ax2 = fig.add_subplot(132)\n",
    "PlotDimension(ax2, OCCdf, 'race')\n",
    "ax3 = fig.add_subplot(133)\n",
    "PlotDimension(ax3, OCCdf, 'class')\n",
    "plt.show()"
   ]
  },
  {
   "cell_type": "markdown",
   "metadata": {},
   "source": [
    "Foods:"
   ]
  },
  {
   "cell_type": "code",
   "execution_count": 23,
   "metadata": {},
   "outputs": [
    {
     "data": {
      "image/png": "[encoded data removed]",
      "text/plain": [
       "<matplotlib.figure.Figure at 0x2b111f9bebe0>"
      ]
     },
     "metadata": {},
     "output_type": "display_data"
    }
   ],
   "source": [
    "fig = plt.figure(figsize = (12,4))\n",
    "ax1 = fig.add_subplot(131)\n",
    "PlotDimension(ax1, Fooddf, 'gender')\n",
    "ax2 = fig.add_subplot(132)\n",
    "PlotDimension(ax2, Fooddf, 'race')\n",
    "ax3 = fig.add_subplot(133)\n",
    "PlotDimension(ax3, Fooddf, 'class')\n",
    "plt.show()"
   ]
  },
  {
   "cell_type": "markdown",
   "metadata": {},
   "source": [
    "Sports:"
   ]
  },
  {
   "cell_type": "code",
   "execution_count": 24,
   "metadata": {},
   "outputs": [
    {
     "data": {
      "image/png": "[encoded data removed]",
      "text/plain": [
       "<matplotlib.figure.Figure at 0x2b111fa726d8>"
      ]
     },
     "metadata": {},
     "output_type": "display_data"
    }
   ],
   "source": [
    "fig = plt.figure(figsize = (12,4))\n",
    "ax1 = fig.add_subplot(131)\n",
    "PlotDimension(ax1, Sportsdf, 'gender')\n",
    "ax2 = fig.add_subplot(132)\n",
    "PlotDimension(ax2, Sportsdf, 'race')\n",
    "ax3 = fig.add_subplot(133)\n",
    "PlotDimension(ax3, Sportsdf, 'class')\n",
    "plt.show()"
   ]
  },
  {
   "cell_type": "markdown",
   "metadata": {},
   "source": [
    "## <span style=\"color:red\">*Exercise 3*</span>\n",
    "\n",
    "<span style=\"color:red\">Construct cells immediately below this that identify semantic dimensions of interest from your data (e.g., gender: man-woman) and project words onto these dimensions. Plot the array of relevant words along each semantic dimension. Which words are most different. Which dimensions are most different? On which dimension are your words most different? Print three short textual examples from the corpus that illustrate the association you have explored.\n",
    "\n",
    "<span style=\"color:red\">***Stretch***: Project documents from your corpus along a dimension of interest. Sample relevant documents from your corpus with this functionality and explain your rationale? Calculate the cosine of the angle between two dimensions (encoded as vectors) of interest. What does this suggest about the relationship between them within your corpus? \n",
    "\n",
    "<span style=\"color:red\">***Stretch***: Create 90% bootstrap confidence intervals around your word projections onto a given dimension. Which words are *significantly* different on your semantic dimension of interest?"
   ]
  },
  {
   "cell_type": "code",
   "execution_count": 7,
   "metadata": {},
   "outputs": [
    {
     "name": "stdout",
     "output_type": "stream",
     "text": [
      "\n",
      "The words that are most similar to 'yingjeou' is:\n",
      "[('kuoyu', 0.9182404279708862), ('thenus', 0.9080967903137207), ('thenvice', 0.9018559455871582), ('vice', 0.9009275436401367), ('thenpresident', 0.8987864255905151), ('former', 0.8661438226699829), ('varela', 0.8650732040405273), ('obama', 0.8634388446807861), ('jintao', 0.8599045872688293), ('barack', 0.8598875403404236)]\n",
      "\n",
      "The words that are most similar to 'taipei' is:\n",
      "[('york', 0.7371457815170288), ('opening', 0.6596183776855469), ('datong', 0.6390076875686646), ('hall', 0.6243838667869568), ('tainan', 0.6205368041992188), ('mehas', 0.6168525218963623), ('closing', 0.6151455640792847), ('minh', 0.6131786108016968), ('delhi', 0.6128931641578674), ('zhongzheng', 0.6116604804992676)]\n",
      "\n",
      "The cosine similarity between 'yingjeou' and 'ingwen' is 0.7940678000450134\n"
     ]
    }
   ],
   "source": [
    "#Test Model\n",
    "print(\"\\nThe words that are most similar to 'yingjeou' is:\")\n",
    "print(TWNewsW2V.most_similar('yingjeou'))\n",
    "print(\"\\nThe words that are most similar to 'taipei' is:\")\n",
    "print(TWNewsW2V.most_similar('taipei'))\n",
    "\n",
    "def cos_difference(embedding,word1,word2):\n",
    "    return sklearn.metrics.pairwise.cosine_similarity(embedding[word1].reshape(1,-1),embedding[word2].reshape(1,-1))\n",
    "\n",
    "print(\"\\nThe cosine similarity between 'yingjeou' and 'ingwen' is {}\".\n",
    "      format(cos_difference(TWNewsW2V,'yingjeou','ingwen')[0][0]))"
   ]
  },
  {
   "cell_type": "code",
   "execution_count": 8,
   "metadata": {},
   "outputs": [
    {
     "data": {
      "text/plain": [
       "array([[-9.77952719e-01, -1.64062941e+00, -2.47505784e-01, ...,\n",
       "        -1.68968177e+00,  4.42918539e-01, -2.32436180e+00],\n",
       "       [-1.22555465e-01,  3.70602429e-01,  2.67787222e-02, ...,\n",
       "        -3.42087358e-01,  2.45968640e-01,  4.07423228e-01],\n",
       "       [-4.29838359e-01, -7.09411269e-03,  2.54794564e-02, ...,\n",
       "        -4.92724985e-01,  1.84856296e-01, -2.63359278e-01],\n",
       "       ...,\n",
       "       [-8.49922180e-01,  3.42383496e-02, -1.67878568e-01, ...,\n",
       "        -6.70381665e-01, -7.93088377e-02,  5.04711330e-01],\n",
       "       [-8.59304249e-01,  1.65048358e-03, -5.75674735e-02, ...,\n",
       "        -4.09839720e-01,  4.05392021e-01,  1.35422662e-01],\n",
       "       [-4.69439030e-01,  2.62451284e-02, -1.17680244e-01, ...,\n",
       "        -4.19109821e-01,  9.45215765e-03, -1.34307250e-01]], dtype=float32)"
      ]
     },
     "execution_count": 8,
     "metadata": {},
     "output_type": "execute_result"
    }
   ],
   "source": [
    "#words to create dimensions\n",
    "tnytTargetWords = ['kmt','blue','panblue','dpp','democratic','progressive','green','pangreen',\n",
    "                   'conservative','liberal','movement','china', 'chinese','taiwan','taiwanese','formosa']\n",
    "#words we will be mapping\n",
    "tnytTargetWords += ['taipei','kaohsiung','taichung','tainan','taoyuan','keelung','chiayi',\n",
    "                    'ingwen','yingjeou','shuibian','tenghui',\n",
    "                    'chingkuo','yatsen','kaishek','lien']\n",
    "\n",
    "\n",
    "wordsSubMatrix = []\n",
    "for word in tnytTargetWords:\n",
    "    wordsSubMatrix.append(TWNewsW2V[word])\n",
    "wordsSubMatrix = np.array(wordsSubMatrix)\n",
    "wordsSubMatrix"
   ]
  },
  {
   "cell_type": "code",
   "execution_count": 9,
   "metadata": {},
   "outputs": [],
   "source": [
    "pcaWordsTWNews = sklearn.decomposition.PCA(n_components = 50).fit(wordsSubMatrix)\n",
    "reducedPCA_dataTWNews = pcaWordsTWNews.transform(wordsSubMatrix)\n",
    "#T-SNE is theoretically better, but you should experiment\n",
    "tsneWordsTWNews = sklearn.manifold.TSNE(n_components = 2).fit_transform(reducedPCA_dataTWNews)"
   ]
  },
  {
   "cell_type": "code",
   "execution_count": 10,
   "metadata": {},
   "outputs": [
    {
     "data": {
      "image/png": "[encoded data removed]",
      "text/plain": [
       "<matplotlib.figure.Figure at 0x7f4b47456dd8>"
      ]
     },
     "metadata": {},
     "output_type": "display_data"
    }
   ],
   "source": [
    "fig = plt.figure(figsize = (10,6))\n",
    "ax = fig.add_subplot(111)\n",
    "ax.set_frame_on(False)\n",
    "plt.scatter(tsneWordsTWNews[:,0], tsneWordsTWNews[:,1], alpha = 0) #Making the points invisible\n",
    "for i, word in enumerate(tnytTargetWords):\n",
    "    ax.annotate(word, (tsneWordsTWNews[:,0][i],tsneWordsTWNews[:,1][i]), size = 20 * (len(tnytTargetWords) - i) / len(tnytTargetWords))\n",
    "                #20 * (len(tnytTargetWords) - i) / len(tnytTargetWords)) instead\n",
    "plt.xticks(())\n",
    "plt.yticks(())\n",
    "plt.show()"
   ]
  },
  {
   "cell_type": "code",
   "execution_count": 18,
   "metadata": {},
   "outputs": [],
   "source": [
    "def normalize(vector):\n",
    "    normalized_vector = vector / np.linalg.norm(vector)\n",
    "    return normalized_vector\n",
    "\n",
    "def dimension(model, positives, negatives):\n",
    "    diff = sum([normalize(model[x]) for x in positives]) - sum([normalize(model[y]) for y in negatives])\n",
    "    return diff"
   ]
  },
  {
   "cell_type": "code",
   "execution_count": 19,
   "metadata": {},
   "outputs": [],
   "source": [
    "KMT_DPP_Spectrum = dimension(TWNewsW2V, ['kmt'],\n",
    "                                          ['dpp'])\n",
    "Conv_Lib_Spectrum = dimension(TWNewsW2V, ['conservative'],\n",
    "                                        ['liberal'])\n",
    "CN_TW_Spectrum = dimension(TWNewsW2V, ['china', 'chinese'],\n",
    "                                     ['taiwan','taiwanese'])"
   ]
  },
  {
   "cell_type": "code",
   "execution_count": 22,
   "metadata": {},
   "outputs": [],
   "source": [
    "def makeDF(model, word_list):\n",
    "    bg = []\n",
    "    cl = []\n",
    "    ct = []\n",
    "    for word in word_list:\n",
    "        bg.append(sklearn.metrics.pairwise.cosine_similarity(model[word].reshape(1,-1), KMT_DPP_Spectrum.reshape(1,-1))[0][0])\n",
    "        cl.append(sklearn.metrics.pairwise.cosine_similarity(model[word].reshape(1,-1), Conv_Lib_Spectrum.reshape(1,-1))[0][0])\n",
    "        ct.append(sklearn.metrics.pairwise.cosine_similarity(model[word].reshape(1,-1), CN_TW_Spectrum.reshape(1,-1))[0][0])\n",
    "    df = pandas.DataFrame({'KMT_DPP_Spectrum': bg,\n",
    "                           'Conv_Lib_Spectrum': cl,\n",
    "                           'CN_TW_Spectrum':ct}, index = word_list)\n",
    "    return df\n",
    "\n",
    "def Coloring(Series):\n",
    "    x = Series.values\n",
    "    y = x-x.min()\n",
    "    z = y/y.max()\n",
    "    c = list(plt.cm.rainbow(z))\n",
    "    return c\n",
    "\n",
    "def PlotDimension(ax,df, dim):\n",
    "    ax.set_frame_on(False)\n",
    "    ax.set_title(dim, fontsize = 20)\n",
    "    colors = Coloring(df[dim])\n",
    "    for i, word in enumerate(df.index):\n",
    "        ax.annotate(word, (0, df[dim][i]), color = colors[i], alpha = 0.6, fontsize = 12)\n",
    "    MaxY = df[dim].max()\n",
    "    MinY = df[dim].min()\n",
    "    plt.ylim(MinY,MaxY)\n",
    "    plt.yticks(())\n",
    "    plt.xticks(())"
   ]
  },
  {
   "cell_type": "code",
   "execution_count": 25,
   "metadata": {},
   "outputs": [
    {
     "name": "stdout",
     "output_type": "stream",
     "text": [
      "           CN_TW_Spectrum  Conv_Lib_Spectrum  KMT_DPP_Spectrum\n",
      "taipei          -0.169243           0.151094          0.085981\n",
      "kaohsiung       -0.074321           0.316781          0.026862\n",
      "taichung        -0.040166           0.360589          0.031670\n",
      "tainan          -0.075795           0.252994         -0.036997\n",
      "taoyuan         -0.109011           0.429471          0.068076\n",
      "keelung         -0.062951           0.470237         -0.003976\n",
      "          CN_TW_Spectrum  Conv_Lib_Spectrum  KMT_DPP_Spectrum\n",
      "ingwen          0.006652           0.044803         -0.246690\n",
      "yingjeou        0.180426           0.056809          0.045928\n",
      "shuibian        0.002440          -0.065951         -0.057482\n",
      "tenghui         0.035130          -0.055595         -0.023340\n",
      "chingkuo        0.132154          -0.135353          0.051513\n",
      "yatsen          0.009409          -0.145832          0.106533\n",
      "kaishek         0.173495          -0.194596          0.132823\n"
     ]
    }
   ],
   "source": [
    "MajorCities = ['taipei','kaohsiung','taichung','tainan','taoyuan','keelung']\n",
    "MajorFigures = ['ingwen','yingjeou','shuibian','tenghui','chingkuo','yatsen','kaishek']\n",
    "\n",
    "Citiesdf = makeDF(TWNewsW2V, MajorCities) \n",
    "Figuresdf = makeDF(TWNewsW2V, MajorFigures)\n",
    "print(Citiesdf)\n",
    "print(Figuresdf)"
   ]
  },
  {
   "cell_type": "code",
   "execution_count": 26,
   "metadata": {},
   "outputs": [
    {
     "data": {
      "image/png": "[encoded data removed]",
      "text/plain": [
       "<matplotlib.figure.Figure at 0x7f4b46f63dd8>"
      ]
     },
     "metadata": {},
     "output_type": "display_data"
    }
   ],
   "source": [
    "fig = plt.figure(figsize = (12,4))\n",
    "ax1 = fig.add_subplot(131)\n",
    "PlotDimension(ax1, Citiesdf, 'KMT_DPP_Spectrum')\n",
    "ax2 = fig.add_subplot(132)\n",
    "PlotDimension(ax2, Citiesdf, 'Conv_Lib_Spectrum')\n",
    "ax3 = fig.add_subplot(133)\n",
    "PlotDimension(ax3, Citiesdf, 'CN_TW_Spectrum')\n",
    "plt.show()"
   ]
  },
  {
   "cell_type": "code",
   "execution_count": 27,
   "metadata": {},
   "outputs": [
    {
     "data": {
      "image/png": "[encoded data removed]",
      "text/plain": [
       "<matplotlib.figure.Figure at 0x7f4b46eb7c88>"
      ]
     },
     "metadata": {},
     "output_type": "display_data"
    }
   ],
   "source": [
    "fig = plt.figure(figsize = (12,4))\n",
    "ax1 = fig.add_subplot(131)\n",
    "PlotDimension(ax1, Figuresdf, 'KMT_DPP_Spectrum')\n",
    "ax2 = fig.add_subplot(132)\n",
    "PlotDimension(ax2, Figuresdf, 'Conv_Lib_Spectrum')\n",
    "ax3 = fig.add_subplot(133)\n",
    "PlotDimension(ax3, Figuresdf, 'CN_TW_Spectrum')\n",
    "plt.show()"
   ]
  },
  {
   "cell_type": "markdown",
   "metadata": {},
   "source": [
    "## Exercise 3\n",
    "\n",
    "The dimensions I chose for exercise 3 were three politics-related dimensions, namely (1) KMT_DPP_Spectrum (closeness to KMT as opposed to DPP), (2) Conv_Lib_Spectrum (conservative vs liberal), and (3) CN_TW_Spectrum (closeness to China as opposed to Taiwan). Although 'KMT' and 'DPP', or 'China' and 'Taiwan' does not neccessarily stand for opposite meanings, both pairs are often taken as somewhat contrasting words in Taiwan politics.\n",
    "\n",
    "For the first dimension, the positive word was 'kmt' and the negative word was 'dpp'. For the second dimension, 'conservative' was chosen to be the positive word, and 'liberal' to be the negative one. For my third dimension, I chose both 'china' and 'chinese' as positive, and 'taiwan' and taiwanese' as negative.\n",
    "\n",
    "My two lists of words to project include (1) major cities in Taiwan, and (2) past/current presidents in Taiwan. Because the political tendency of these presidents/cities are relatively clear, the projection results can then be used to test whether news documents can be used as a decent predictor for political standpoints.\n",
    "\n",
    "According to the projection results, 'ingwen' (蔡英文, Tsai Ing-wen, the current president of Taiwan and president of DPP) was found to be the most 'DPP' political figure. This result is quite reasonable considering her role of current president of DPP. Similar to my expectation, 'kaishek'（蒋介石, Chiang Kai-shek） and 'yatsen'(孙中山, Sun Yat-sen) were on the opposite side of the spectrum, and where the closest to KMT. This result is reasonable because Sun Yat-sen was the founder of KMT, and Chiang Kai-shek was probably the most influencial president in histroy of KMT and Republic of China. Noticeably, 'tenghui' (李登辉, Lee Teng-hui) and 'shuibian' (陈水扁, Chen Shui-bian) were very close to each other, and were found in the middle of the spectrum. The fact that Lee Teng-hui is much closer to DPP as compared to other KMT presidents is a good suggestion of the accuracy of the model, because Lee Tung-hui had a close relationship to Chen Shui-bian and to DPP as a whole despite his role of KMT president back at that time. Overall, the projection of political figures onto the KMT-DPP dimension seems quite accurate.\n",
    "\n",
    "The projection results onto Conv_Lib_Spectrum offers some quite intereting insights. Although Tsai Ing-wen won the 2016 presidential election largely due to her 'pro-reform' political standpoint, she ('ingwen') was actually found on the far conservative side of the Conv_Lib spectrum, along with 'yingjeou' (马英九, Ma Ying-jeou), who was notorious for his conservative style of running the government. Also, the fact that 'kaishek' (Chiang Kai-shek) was projected to be the most 'liberal' president was quite opposite to common beliefs, as Chiang Kai-shek was often criticized by DPP for his authoritative ruling.\n",
    "\n",
    "Among the major cities, Taipei was projected to be the most 'KMT' city, and Tainan the most 'DPP' city, which is relatively accurate, despite Taipei's recent shifting favor toward non-partisan candidates. However, Kaohsiung is projected to the middle of the spectrum despite the fact that this city is commonly perceived as a 'pro-DPP' city. Taipei was also found to be the most liberal city, while keelung was found to be the most conservative one.\n",
    "\n",
    "From the assessment above, I think the news documents did a decent job predicting the political tendencies of these cities nad political figures, despite several mismatches between the projection results and common perceptions/beliefs. The model accuracy may be further improved if we perform some sampling over the selected data, or adjust parameters of the model."
   ]
  },
  {
   "cell_type": "code",
   "execution_count": null,
   "metadata": {},
   "outputs": [],
   "source": []
  }
 ],
 "metadata": {
  "anaconda-cloud": {},
  "kernelspec": {
   "display_name": "Python 3",
   "language": "python",
   "name": "python3"
  },
  "language_info": {
   "codemirror_mode": {
    "name": "ipython",
    "version": 3
   },
   "file_extension": ".py",
   "mimetype": "text/x-python",
   "name": "python",
   "nbconvert_exporter": "python",
   "pygments_lexer": "ipython3",
   "version": "3.6.2"
  }
 },
 "nbformat": 4,
 "nbformat_minor": 1
}
